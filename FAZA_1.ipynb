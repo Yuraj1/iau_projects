{
 "cells": [
  {
   "cell_type": "code",
   "id": "initial_id",
   "metadata": {
    "collapsed": true
   },
   "source": [
    "import pandas as pd\n",
    "import numpy as np\n",
    "import seaborn as sns\n",
    "import matplotlib.pyplot as plt\n",
    "\n",
    "station = pd.read_csv(\"./094/station.csv\", sep='\\t', engine=\"python\")\n",
    "patient = pd.read_csv(\"./094/patient.csv\", sep='\\t', engine=\"python\")\n",
    "observation = pd.read_csv(\"./094/observation.csv\", sep='\\t', engine=\"python\")\n",
    "\n",
    "print(\"patient.shape =\", patient.shape)\n",
    "print(\"station.shape =\", station.shape)\n",
    "print(\"observation.shape =\", observation.shape)"
   ],
   "outputs": [],
   "execution_count": null
  },
  {
   "metadata": {},
   "cell_type": "markdown",
   "source": "### 1.1 Základný opis dát spolu s ich charakteristikami ",
   "id": "b707721c3608bfac"
  },
  {
   "metadata": {},
   "cell_type": "markdown",
   "source": "### (A-1b)",
   "id": "5801dfea748a4ea3"
  },
  {
   "metadata": {},
   "cell_type": "code",
   "source": [
    "# (A-1b)\n",
    "print(\"patient columns:\", patient.columns.tolist())\n",
    "print(\"station columns:\", station.columns.tolist())\n",
    "print(\"observation columns:\", observation.columns.tolist())"
   ],
   "id": "54413230580c0136",
   "outputs": [],
   "execution_count": null
  },
  {
   "metadata": {},
   "cell_type": "markdown",
   "source": [
    "#### 🩺 Súbor patient.csv\n",
    "- **Počet záznamov:** 2 102  \n",
    "- **Počet atribútov:** 13  \n",
    "- **Typy dát:** object = 10, int64 = 2, float64 = 1  \n",
    "- **Chýbajúce hodnoty:** spolu ≈ 3 993  \n",
    "  - Najviac chýba: `residence` (100 %), `job` (70 %), `address` (15 %), `current_location` (5 %).  \n",
    "- **Charakteristika:** obsahuje demografické údaje pacientov a odkaz na stanicu (`station_ID`).  \n",
    "  Tento odkaz sa **nedá priamo spárovať** s názvom v `súbore station.csv`.  \n",
    "\n",
    "#### ⚙️ Súbor station.csv\n",
    "- **Počet záznamov:** 798  \n",
    "- **Počet atribútov:** 6  \n",
    "- **Typy dát:** object = 4, float64 = 2  \n",
    "- **Chýbajúce hodnoty:** 0  \n",
    "- **Charakteristika:** obsahuje informácie o meracích staniciach – `station`, `latitude`, `longitude`, `QoS`, `revision`, `location`.  \n",
    "- **Pozorovanie:** hodnoty `revision` majú rôzne formáty dátumov (a časť nevieme správne parsovať) → potrebná normalizácia na jednotný formát `datetime`.\n",
    "\n",
    "#### 📊 Súbor observation.csv\n",
    "- **Počet záznamov:** 12 081  \n",
    "- **Počet atribútov:** 23  \n",
    "- **Typy dát:** všetky `float64`  \n",
    "- **Chýbajúce hodnoty:** 0  \n",
    "- **Cieľová premenná:** `oximetry` (binárna 0/1).  \n",
    "- **Dôležité atribúty:** `SpO₂`, `HR`, `Skin Temperature`, `BP`, `CO`, `FiO₂`, atď.  \n",
    "- Hodnoty SpO₂ sú v rozsahu 95 – 100 a Skin Temperature v rozsahu 33 – 38 °C.  \n",
    "- Tieto dáta majú vhodný formát pre ďalšie spracovanie v Python/pandas a na trénovanie modelov.\n"
   ],
   "id": "1c9e60e79f6910dd"
  },
  {
   "metadata": {},
   "cell_type": "code",
   "source": [
    "def dtype_counts(df): \n",
    "    return df.dtypes.astype(str).value_counts().to_dict()\n",
    "\n",
    "summ = {\n",
    "    \"patient\": {\n",
    "        \"shape\": patient.shape,\n",
    "        \"dtype_counts\": dtype_counts(patient),\n",
    "        \"missing_total\": int(patient.isna().sum().sum())\n",
    "    },\n",
    "    \"station\": {\n",
    "        \"shape\": station.shape,\n",
    "        \"dtype_counts\": dtype_counts(station),\n",
    "        \"missing_total\": int(station.isna().sum().sum())\n",
    "    },\n",
    "    \"observation\": {\n",
    "        \"shape\": observation.shape,\n",
    "        \"dtype_counts\": dtype_counts(observation),\n",
    "        \"missing_total\": int(observation.isna().sum().sum())\n",
    "    }\n",
    "}\n",
    "summ\n"
   ],
   "id": "2704728efd1b3b66",
   "outputs": [],
   "execution_count": null
  },
  {
   "metadata": {},
   "cell_type": "markdown",
   "source": "",
   "id": "5e1e53bbb3ebe86d"
  },
  {
   "metadata": {},
   "cell_type": "markdown",
   "source": "#### Analýza chýbajúcich hodnôt (EDA)\n",
   "id": "acecf06210942c3d"
  },
  {
   "metadata": {},
   "cell_type": "code",
   "source": [
    "missing_pct = (patient.isna().sum() / len(patient) * 100).round(2).sort_values(ascending=False)\n",
    "missing_pct.head(10)"
   ],
   "id": "b5aedeb28c956a19",
   "outputs": [],
   "execution_count": null
  },
  {
   "metadata": {},
   "cell_type": "markdown",
   "source": [
    "#### Z výpočtu percenta chýbajúcich hodnôt vidíme, že niektoré atribúty obsahujú výrazný počet prázdnych záznamov:\n",
    "\n",
    "#### Atribút\tPodiel chýbajúcich hodnôt\n",
    "residence\t100 %\n",
    "job\t≈ 70 %\n",
    "address\t≈ 15 %\n",
    "current_location\t≈ 5 %"
   ],
   "id": "e6392f36a371593d"
  },
  {
   "metadata": {},
   "cell_type": "markdown",
   "source": [
    "#### 🔗 Vzťahy medzi súbormi\n",
    "| Vzťah | Typ väzby | Popis |\n",
    "|:--|:--:|:--|\n",
    "| observation ↔ station | 1 : N | Každé meranie má priradenú stanicu (100 % zhoda cez `latitude`, `longitude`). |\n",
    "| patient ↔ station | ? | Nepodarilo sa spárovať cez `current_location`, zhoda 0 %. |\n",
    "| patient ↔ observation | – | Chýba priame prepojenie (pacient ID v meraniach neexistuje). |"
   ],
   "id": "e011b092b9625601"
  },
  {
   "metadata": {},
   "cell_type": "code",
   "source": [
    "sta_lat = pd.to_numeric(station[\"latitude\"], errors=\"coerce\").round(4)\n",
    "sta_lon = pd.to_numeric(station[\"longitude\"], errors=\"coerce\").round(4)\n",
    "obs_lat = pd.to_numeric(observation[\"latitude\"], errors=\"coerce\").round(4)\n",
    "obs_lon = pd.to_numeric(observation[\"longitude\"], errors=\"coerce\").round(4)\n",
    "\n",
    "station_key = set(zip(sta_lat, sta_lon))\n",
    "obs_key = list(zip(obs_lat, obs_lon))\n",
    "\n",
    "obs_valid = sum([not (pd.isna(k[0]) or pd.isna(k[1])) for k in obs_key])\n",
    "obs_match = sum([(k in station_key) for k in obs_key if not (pd.isna(k[0]) or pd.isna(k[1]))])\n",
    "\n",
    "print(f\"observation → station match by coords: {obs_match}/{obs_valid} ({obs_match/obs_valid:.3f})\")\n",
    "\n",
    "# patient ↔ station:\n",
    "import re\n",
    "def parse_current_location(s):\n",
    "    if not isinstance(s, str): \n",
    "        return (np.nan, np.nan)\n",
    "    nums = re.findall(r\"Decimal\\\\('([-+]?\\\\d*\\\\.?\\\\d+)'\\\\)\", s)\n",
    "    return (float(nums[0]), float(nums[1])) if len(nums)==2 else (np.nan, np.nan)\n",
    "\n",
    "latlon = patient[\"current_location\"].apply(parse_current_location)\n",
    "pat_lat = pd.to_numeric([t[0] for t in latlon], errors=\"coerce\").round(4)\n",
    "pat_lon = pd.to_numeric([t[1] for t in latlon], errors=\"coerce\").round(4)\n",
    "\n",
    "pat_valid = np.isfinite(pat_lat).sum()\n",
    "pat_match = sum([(k in station_key) for k in zip(pat_lat, pat_lon) if not (pd.isna(k[0]) or pd.isna(k[1]))])\n",
    "\n",
    "print(f\"patient → station match by coords: {pat_match}/{pat_valid} ({(pat_match/pat_valid if pat_valid else 0):.3f})\")\n"
   ],
   "id": "44b72eae8284cdad",
   "outputs": [],
   "execution_count": null
  },
  {
   "metadata": {},
   "cell_type": "markdown",
   "source": [
    "#### 📈 Vizualizácia (EDA)\n",
    "Histogramy rozloženia hodnôt:\n",
    "- **SpO₂** → zväčša v rozmedzí 97 – 99 %  \n",
    "- **Skin Temperature** → rozloženie 33 – 38 °C s vrcholom okolo 36 °C  \n",
    "\n",
    "Tieto vizualizácie potvrdzujú, že dáta majú správny a očakávaný fyzio-rozsah.\n"
   ],
   "id": "5e5451b0f4d17e05"
  },
  {
   "metadata": {},
   "cell_type": "code",
   "outputs": [],
   "execution_count": null,
   "source": [
    "import matplotlib.pyplot as plt\n",
    "\n",
    "# 1) SpO2\n",
    "plt.figure()\n",
    "observation[\"SpO₂\"].hist(bins=30, edgecolor=\"black\")\n",
    "plt.title(\"Rozloženie SpO₂\")\n",
    "plt.xlabel(\"SpO₂\")\n",
    "plt.ylabel(\"Frekvencia\")\n",
    "plt.show()\n",
    "\n",
    "# 2) Skin Temperature\n",
    "plt.figure()\n",
    "observation[\"Skin Temperature\"].hist(bins=30, edgecolor=\"black\")\n",
    "plt.title(\"Rozloženie Skin Temperature\")\n",
    "plt.xlabel(\"°C\")\n",
    "plt.ylabel(\"Frekvencia\")\n",
    "plt.show()\n"
   ],
   "id": "31354df770915e43"
  },
  {
   "metadata": {},
   "cell_type": "markdown",
   "source": [
    "### 🧩 Zhrnutie zistení\n",
    "- Dáta majú zrozumiteľnú štruktúru a sú v správnom formáte na ďalšie spracovanie.  \n",
    "- Najviac problémov má `súbor patient.csv` → mnoho chýbajúcich hodnôt.  \n",
    "- `súbor station.csv` má nekonzistentné formáty v atribúte `revision`.  \n",
    "- `súbor observation.csv` je čistý a vhodný na modelovanie (strojové učenie).  \n",
    "- Vzťah `observation` ↔ `station` funguje perfektne, ale prepojenie pacientov chýba.  \n"
   ],
   "id": "a793dc0d4cae330d"
  },
  {
   "metadata": {},
   "cell_type": "code",
   "source": [
    "rev = station[\"revision\"]\n",
    "skin_temp = observation[\"Skin Temperature\"]\n",
    "spo = observation[\"SpO₂\"]\n",
    "print(\"REV \\n\", rev.describe(include=\"all\"))\n",
    "print(\"SPO \\n\", spo.describe(include=\"all\"))\n",
    "# skin_temp.value_counts().plot(kind=\"bar\")\n",
    "\n",
    "\n",
    "# skin_temp.plot()\n",
    "#dups2 = patient.duplicated()\n",
    "\n",
    "\n",
    "# report if there are any duplicates\n",
    "# print(dups.any())\n",
    "#print(dups2.any())\n",
    "\n",
    "\n",
    "# list all duplicate rows\n",
    "# print(station[dups])\n",
    "#print(patient[dups2])"
   ],
   "id": "98bb5e35d1e9b5ec",
   "outputs": [],
   "execution_count": null
  },
  {
   "metadata": {},
   "cell_type": "code",
   "source": [
    "plt.hist(skin_temp, bins=60, edgecolor=\"black\")\n",
    "plt.show()\n",
    "plt.hist(spo, bins=60, edgecolor=\"black\")\n",
    "plt.show()"
   ],
   "id": "8dfe910dfa51582a",
   "outputs": [],
   "execution_count": null
  },
  {
   "metadata": {},
   "cell_type": "markdown",
   "source": "## (B-1b)",
   "id": "1260b7633574e8b0"
  },
  {
   "metadata": {},
   "cell_type": "code",
   "outputs": [],
   "execution_count": null,
   "source": [
    "skin_temp = observation[\"Skin Temperature\"]\n",
    "spo = observation[\"SpO₂\"]\n",
    "hr =  observation[\"HR\"]\n",
    "pi = observation[\"PI\"]\n",
    "rr = observation[\"RR\"]  \n",
    "prv = observation[\"PRV\"]\n",
    "bp = observation[\"BP\"]\n",
    "pvi = observation[\"PVI\"]\n",
    "sv = observation[\"SV\"]\n",
    "co = observation[\"CO\"]"
   ],
   "id": "6fb80c6f8d189420"
  },
  {
   "metadata": {},
   "cell_type": "code",
   "outputs": [],
   "execution_count": null,
   "source": [
    "cols = [\"Skin Temperature\", \"SpO₂\", \"HR\", \"PI\", \"RR\", \"PRV\", \"BP\", \"PVI\", \"SV\", \"CO\"]\n",
    "observation[cols].describe()"
   ],
   "id": "c1b9a1c0b43e02fa"
  },
  {
   "metadata": {},
   "cell_type": "code",
   "outputs": [],
   "execution_count": null,
   "source": [
    "plt.hist(skin_temp, bins=60, edgecolor=\"black\")\n",
    "plt.xlabel(\"Skin Temperature °C\")\n",
    "plt.show()\n"
   ],
   "id": "dcf507d87a1e2a0"
  },
  {
   "metadata": {},
   "cell_type": "markdown",
   "source": [
    "The temperature values are in a range 33-38 °C, mean: 35.9 °C and std: 0.84\n",
    "This indicates that measurements are within the normal range and do not vary significantly"
   ],
   "id": "f98068ae8fcd02fc"
  },
  {
   "metadata": {},
   "cell_type": "code",
   "outputs": [],
   "execution_count": null,
   "source": [
    "plt.hist(spo, bins=60, edgecolor=\"black\")\n",
    "plt.xlabel(\"SpO₂ %\")\n",
    "plt.show()"
   ],
   "id": "10af09438c9d7166"
  },
  {
   "metadata": {},
   "cell_type": "code",
   "outputs": [],
   "execution_count": null,
   "source": [
    "plt.hist(hr, bins=60, edgecolor=\"black\")\n",
    "plt.xlabel(\"HR bpm\")\n",
    "plt.show()"
   ],
   "id": "bd62a2a91d21a123"
  },
  {
   "metadata": {},
   "cell_type": "code",
   "outputs": [],
   "execution_count": null,
   "source": [
    "plt.hist(pi, bins=60, edgecolor=\"black\")\n",
    "plt.xlabel(\"PI %\")\n",
    "plt.show()"
   ],
   "id": "5a4c1b721a6483e6"
  },
  {
   "metadata": {},
   "cell_type": "code",
   "outputs": [],
   "execution_count": null,
   "source": [
    "plt.hist(rr, bins=60, edgecolor=\"black\")\n",
    "plt.xlabel(\"RR\")\n",
    "plt.show()"
   ],
   "id": "54777f7d64d061f3"
  },
  {
   "metadata": {},
   "cell_type": "code",
   "outputs": [],
   "execution_count": null,
   "source": [
    "plt.boxplot(prv)\n",
    "plt.ylabel(\"PRV ms\")\n",
    "plt.show()"
   ],
   "id": "d3402871494be966"
  },
  {
   "metadata": {},
   "cell_type": "markdown",
   "source": [
    "Pulse rate variability are in a range 20-200ms, mean: 117.62, std: 21.83\n",
    "This indicates that the average value is within the normal range, but some values are widely scattered"
   ],
   "id": "ffe0377f282a4830"
  },
  {
   "metadata": {},
   "cell_type": "code",
   "outputs": [],
   "execution_count": null,
   "source": [
    "plt.hist(bp, bins=60, edgecolor=\"black\")\n",
    "plt.xlabel(\"BP\")\n",
    "plt.show()"
   ],
   "id": "2a418631c8a6a051"
  },
  {
   "metadata": {},
   "cell_type": "code",
   "outputs": [],
   "execution_count": null,
   "source": [
    "plt.hist(pvi, bins=60, edgecolor=\"black\")\n",
    "plt.xlabel(\"pvi\")\n",
    "plt.show()"
   ],
   "id": "4e267712dd20d8cc"
  },
  {
   "metadata": {},
   "cell_type": "code",
   "outputs": [],
   "execution_count": null,
   "source": [
    "plt.hist(sv, bins=60, edgecolor=\"black\")\n",
    "plt.xlabel(\"sv\")\n",
    "plt.show()"
   ],
   "id": "8ff1c45bdf807b9c"
  },
  {
   "metadata": {},
   "cell_type": "code",
   "outputs": [],
   "execution_count": null,
   "source": [
    "plt.hist(co, bins=60, edgecolor=\"black\")\n",
    "plt.xlabel(\"co\")\n",
    "plt.show()"
   ],
   "id": "a086ffea7e1e202a"
  },
  {
   "metadata": {},
   "cell_type": "markdown",
   "source": "## (С-1)",
   "id": "46d80ac3c92d61f1"
  },
  {
   "metadata": {},
   "cell_type": "code",
   "outputs": [],
   "execution_count": null,
   "source": "print(patient.columns)",
   "id": "7ca826107984e255"
  },
  {
   "metadata": {},
   "cell_type": "code",
   "source": [
    "numeric = observation.select_dtypes(include=['number'])\n",
    "\n",
    "corr = numeric.corr()\n",
    "\n",
    "plt.figure(figsize=(14,10))\n",
    "sns.heatmap(corr, annot=True, cmap=\"coolwarm\", fmt=\".2f\")\n",
    "plt.title(\"Korelačná matica fyziologických atribútov (observation.csv)\")\n",
    "plt.show()"
   ],
   "id": "37c60b0c8b93faa3",
   "outputs": [],
   "execution_count": null
  },
  {
   "metadata": {},
   "cell_type": "markdown",
   "source": [
    "### Interpretácia výsledkov párovej analýzy dát\n",
    "\n",
    "Z korelačnej matice (obrázok vyššie) je možné identifikovať viacero významných vzťahov medzi fyziologickými atribútmi:\n",
    "\n",
    "- **CO a HR (r = 0.76)** – veľmi silná pozitívna korelácia, ktorá zodpovedá očakávanej závislosti medzi srdcovou frekvenciou a srdcovým výdajom.  \n",
    "- **PVI a Blood Flow Index (r = 0.67)** – silný vzťah medzi variabilitou perfúzie a prietokom krvi.  \n",
    "- **Oximetry a PVI (r = 0.67)** – saturácia kyslíkom úzko súvisí s variabilitou perfúzie.  \n",
    "- **Skin Temperature a PI (r = −0.49)** – negatívna korelácia; s rastúcou teplotou kože klesá perfúzny index.  \n",
    "- **Skin Temperature a Oximetry (r = 0.37)** – mierna pozitívna závislosť, naznačuje možné prepojenie medzi periférnou teplotou a saturáciou.  \n",
    "- Väčšina ostatných atribútov (napr. `latitude`, `longitude`, `SNR`, `PRV`) nevykazuje štatisticky významné lineárne vzťahy.\n",
    "\n",
    "Tieto zistenia poukazujú na fyziologické súvislosti medzi vybranými premennými\n",
    "a pomáhajú určiť, ktoré atribúty môžu byť relevantné pri budúcom modelovaní\n",
    "a predikcii cieľovej premennej `oximetry`.\n"
   ],
   "id": "4a01124e8712547d"
  },
  {
   "metadata": {},
   "cell_type": "code",
   "source": [
    "corr_pairs = corr.unstack().sort_values(ascending=False)\n",
    "corr_pairs = corr_pairs[(corr_pairs < 0.999) & (corr_pairs > -0.999)]\n",
    "print(\"🔝 Top 10 korelácií medzi atribútmi:\\n\")\n",
    "print(corr_pairs.head(10))"
   ],
   "id": "191e6640f86de9dc",
   "outputs": [],
   "execution_count": null
  },
  {
   "metadata": {},
   "cell_type": "code",
   "source": [
    "pairs_to_plot = [\n",
    "    (\"CO\", \"HR\"),\n",
    "    (\"oximetry\", \"PVI\"),\n",
    "    (\"Skin Temperature\", \"oximetry\"),\n",
    "]\n",
    "\n",
    "for x, y in pairs_to_plot:\n",
    "    plt.figure(figsize=(6, 4))\n",
    "    sns.scatterplot(data=observation, x=x, y=y, alpha=0.6)\n",
    "    plt.title(f\"Vzťah medzi {x} a {y}\")\n",
    "    plt.xlabel(x)\n",
    "    plt.ylabel(y)\n",
    "    plt.show()"
   ],
   "id": "1857dd1d190f8cf6",
   "outputs": [],
   "execution_count": null
  },
  {
   "metadata": {},
   "cell_type": "markdown",
   "source": [
    "### Interpretácia výsledkov\n",
    "\n",
    "Top 10 korelácií ukazuje, že:\n",
    "\n",
    "- **CO a HR (r = 0.76)** – silná lineárna závislosť, vyššia srdcová frekvencia znamená väčší srdcový výdaj.  \n",
    "- **Oximetry a PVI (r = 0.67)** – saturácia kyslíkom úzko súvisí s variabilitou perfúzie.  \n",
    "- **Skin Temperature a Oximetry (r = 0.37)** – mierna pozitívna korelácia, naznačuje vplyv periférnej teploty na saturáciu.  \n",
    "- **EtCO₂ a PI (r = 0.31)** – slabší, ale viditeľný pozitívny vzťah.  \n",
    "\n",
    "Tieto výsledky naznačujú, ktoré premenné môžu mať najväčší význam pri budúcej predikcii\n",
    "cieľovej premennej `oximetry`.\n"
   ],
   "id": "c82f24e95323b6d6"
  },
  {
   "metadata": {},
   "cell_type": "markdown",
   "source": "## (D-1b)",
   "id": "4d5463440e8c116f"
  },
  {
   "metadata": {},
   "cell_type": "code",
   "outputs": [],
   "execution_count": null,
   "source": [
    "corr = observation.corr(numeric_only=False)\n",
    "corr['oximetry'].sort_values()"
   ],
   "id": "3a2b99385e067cbb"
  },
  {
   "metadata": {},
   "cell_type": "code",
   "outputs": [],
   "execution_count": null,
   "source": [
    "sns.scatterplot(data=observation, x='PVI', y='oximetry')\n",
    "plt.xlabel(\"PVI %\")\n",
    "plt.ylabel(\"oximetry\")"
   ],
   "id": "dedf3f14c6754069"
  },
  {
   "metadata": {},
   "cell_type": "code",
   "outputs": [],
   "execution_count": null,
   "source": [
    "sns.scatterplot(data=observation, x='Skin Temperature', y='oximetry')\n",
    "plt.xlabel(\"Skin Temperature °C\")\n",
    "plt.ylabel(\"oximetry\")"
   ],
   "id": "2c0b372ce5c9d6c4"
  },
  {
   "metadata": {},
   "cell_type": "code",
   "outputs": [],
   "execution_count": null,
   "source": [
    "sns.scatterplot(data=observation, x='EtCO₂', y='oximetry')\n",
    "plt.xlabel(\"EtCO₂ mmHg\")\n",
    "plt.ylabel(\"oximetry\")"
   ],
   "id": "a40d84b1980a62ee"
  },
  {
   "metadata": {},
   "cell_type": "markdown",
   "source": "## (A-2b)",
   "id": "2f4f57afcac53678"
  },
  {
   "metadata": {},
   "cell_type": "code",
   "outputs": [],
   "execution_count": null,
   "source": "",
   "id": "976d973d64f688eb"
  }
 ],
 "metadata": {
  "kernelspec": {
   "display_name": "Python 3",
   "language": "python",
   "name": "python3"
  },
  "language_info": {
   "codemirror_mode": {
    "name": "ipython",
    "version": 2
   },
   "file_extension": ".py",
   "mimetype": "text/x-python",
   "name": "python",
   "nbconvert_exporter": "python",
   "pygments_lexer": "ipython2",
   "version": "2.7.6"
  }
 },
 "nbformat": 4,
 "nbformat_minor": 5
}
