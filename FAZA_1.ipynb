{
 "cells": [
  {
   "cell_type": "code",
   "id": "initial_id",
   "metadata": {
    "collapsed": true
   },
   "source": [
    "import pandas as pd\n",
    "import numpy as np\n",
    "import matplotlib.pyplot as plt\n",
    "\n",
    "station = pd.read_csv(\"./094/station.csv\", sep='\\t')\n",
    "patient = pd.read_csv(\"./094/patient.csv\", sep='\\t')\n",
    "observation = pd.read_csv(\"./094/observation.csv\", sep='\\t')"
   ],
   "outputs": [],
   "execution_count": null
  },
  {
   "metadata": {},
   "cell_type": "markdown",
   "source": "### 1.1 Základný opis dát spolu s ich charakteristikami_porno_",
   "id": "b707721c3608bfac"
  },
  {
   "metadata": {
    "ExecuteTime": {
     "end_time": "2025-10-07T14:30:44.676469Z",
     "start_time": "2025-10-07T14:30:44.554854Z"
    }
   },
   "cell_type": "code",
   "source": [
    "# (A-1b)\n",
    "\n",
    "# Смотрим первые строки\n",
    "print(\"Station cintorin slavicie:\")\n",
    "print(station.head())\n",
    "\n",
    "# Размер таблицы (строки, столбцы)\n",
    "print(\"Station size: \", station.shape)\n",
    "\n",
    "# Информация о типах данных и пропусках\n",
    "station.info()\n",
    "\n",
    "# Основные статистики  \n",
    "station.describe()"
   ],
   "id": "54413230580c0136",
   "outputs": [
    {
     "name": "stdout",
     "output_type": "stream",
     "text": [
      "Station cintorin slavicie:\n",
      "   longitude              revision        station         QoS  latitude  \\\n",
      "0  123.33471  12/25/2024, 00:00:00        Dipolog  acceptable   8.56697   \n",
      "1  -74.38987            2019-12-13  Scotch Plains        good  40.65538   \n",
      "2  -79.62098            2024-04-09       Chilibre        good   9.15093   \n",
      "3  101.02083           06 Nov 2020    Teluk Intan   excellent   4.02219   \n",
      "4  -13.68778  06/04/2016, 00:00:00      Camayenne        good   9.53500   \n",
      "\n",
      "            location  \n",
      "0        Asia/Manila  \n",
      "1   America/New_York  \n",
      "2     America/Panama  \n",
      "3  Asia/Kuala_Lumpur  \n",
      "4     Africa/Conakry  \n",
      "Station size:  (798, 6)\n",
      "<class 'pandas.core.frame.DataFrame'>\n",
      "RangeIndex: 798 entries, 0 to 797\n",
      "Data columns (total 6 columns):\n",
      " #   Column     Non-Null Count  Dtype  \n",
      "---  ------     --------------  -----  \n",
      " 0   longitude  798 non-null    float64\n",
      " 1   revision   798 non-null    object \n",
      " 2   station    798 non-null    object \n",
      " 3   QoS        798 non-null    object \n",
      " 4   latitude   798 non-null    float64\n",
      " 5   location   798 non-null    object \n",
      "dtypes: float64(2), object(4)\n",
      "memory usage: 37.5+ KB\n"
     ]
    },
    {
     "data": {
      "text/plain": [
       "        longitude    latitude\n",
       "count  798.000000  798.000000\n",
       "mean     7.533613   30.049260\n",
       "std     74.086131   22.707970\n",
       "min   -156.474320  -54.800000\n",
       "25%    -71.089770   17.649250\n",
       "50%      8.872390   36.634030\n",
       "75%     68.949943   46.670465\n",
       "max    178.004170   68.798330"
      ],
      "text/html": [
       "<div>\n",
       "<style scoped>\n",
       "    .dataframe tbody tr th:only-of-type {\n",
       "        vertical-align: middle;\n",
       "    }\n",
       "\n",
       "    .dataframe tbody tr th {\n",
       "        vertical-align: top;\n",
       "    }\n",
       "\n",
       "    .dataframe thead th {\n",
       "        text-align: right;\n",
       "    }\n",
       "</style>\n",
       "<table border=\"1\" class=\"dataframe\">\n",
       "  <thead>\n",
       "    <tr style=\"text-align: right;\">\n",
       "      <th></th>\n",
       "      <th>longitude</th>\n",
       "      <th>latitude</th>\n",
       "    </tr>\n",
       "  </thead>\n",
       "  <tbody>\n",
       "    <tr>\n",
       "      <th>count</th>\n",
       "      <td>798.000000</td>\n",
       "      <td>798.000000</td>\n",
       "    </tr>\n",
       "    <tr>\n",
       "      <th>mean</th>\n",
       "      <td>7.533613</td>\n",
       "      <td>30.049260</td>\n",
       "    </tr>\n",
       "    <tr>\n",
       "      <th>std</th>\n",
       "      <td>74.086131</td>\n",
       "      <td>22.707970</td>\n",
       "    </tr>\n",
       "    <tr>\n",
       "      <th>min</th>\n",
       "      <td>-156.474320</td>\n",
       "      <td>-54.800000</td>\n",
       "    </tr>\n",
       "    <tr>\n",
       "      <th>25%</th>\n",
       "      <td>-71.089770</td>\n",
       "      <td>17.649250</td>\n",
       "    </tr>\n",
       "    <tr>\n",
       "      <th>50%</th>\n",
       "      <td>8.872390</td>\n",
       "      <td>36.634030</td>\n",
       "    </tr>\n",
       "    <tr>\n",
       "      <th>75%</th>\n",
       "      <td>68.949943</td>\n",
       "      <td>46.670465</td>\n",
       "    </tr>\n",
       "    <tr>\n",
       "      <th>max</th>\n",
       "      <td>178.004170</td>\n",
       "      <td>68.798330</td>\n",
       "    </tr>\n",
       "  </tbody>\n",
       "</table>\n",
       "</div>"
      ]
     },
     "execution_count": 43,
     "metadata": {},
     "output_type": "execute_result"
    }
   ],
   "execution_count": 43
  },
  {
   "metadata": {
    "ExecuteTime": {
     "end_time": "2025-10-07T13:27:50.961020Z",
     "start_time": "2025-10-07T13:27:50.947363Z"
    }
   },
   "cell_type": "code",
   "source": [
    "rev = station[\"revision\"]\n",
    "skin_temp = observation[\"Skin Temperature\"]\n",
    "spo = observation[\"SpO₂\"]\n",
    "print(\"REV \\n\", rev.describe(include=\"all\"))\n",
    "print(\"SPO \\n\", spo.describe(include=\"all\"))\n",
    "# skin_temp.value_counts().plot(kind=\"bar\")\n",
    "\n",
    "\n",
    "# skin_temp.plot()\n",
    "#dups2 = patient.duplicated()\n",
    "\n",
    "\n",
    "# report if there are any duplicates\n",
    "# print(dups.any())\n",
    "#print(dups2.any())\n",
    "\n",
    "\n",
    "# list all duplicate rows\n",
    "# print(station[dups])\n",
    "#print(patient[dups2])"
   ],
   "id": "98bb5e35d1e9b5ec",
   "outputs": [
    {
     "name": "stdout",
     "output_type": "stream",
     "text": [
      "REV \n",
      " count             798\n",
      "unique            775\n",
      "top       30 Nov 2017\n",
      "freq                3\n",
      "Name: revision, dtype: object\n",
      "SPO \n",
      " count    12081.000000\n",
      "mean        97.543356\n",
      "std          0.604163\n",
      "min         95.000000\n",
      "25%         97.143688\n",
      "50%         97.548163\n",
      "75%         97.952928\n",
      "max        100.000000\n",
      "Name: SpO₂, dtype: float64\n"
     ]
    }
   ],
   "execution_count": 42
  },
  {
   "metadata": {
    "ExecuteTime": {
     "end_time": "2025-10-07T13:22:33.716083Z",
     "start_time": "2025-10-07T13:22:33.310851Z"
    }
   },
   "cell_type": "code",
   "source": [
    "plt.hist(skin_temp, bins=60, edgecolor=\"black\")\n",
    "plt.show()\n",
    "plt.hist(spo, bins=60, edgecolor=\"black\")\n",
    "plt.show()"
   ],
   "id": "8dfe910dfa51582a",
   "outputs": [
    {
     "data": {
      "text/plain": [
       "<Figure size 640x480 with 1 Axes>"
      ],
      "image/png": "[encoded data removed]"
     },
     "metadata": {},
     "output_type": "display_data"
    },
    {
     "data": {
      "text/plain": [
       "<Figure size 640x480 with 1 Axes>"
      ],
      "image/png": "[encoded data removed]"
     },
     "metadata": {},
     "output_type": "display_data"
    }
   ],
   "execution_count": 33
  }
 ],
 "metadata": {
  "kernelspec": {
   "display_name": "Python 3",
   "language": "python",
   "name": "python3"
  },
  "language_info": {
   "codemirror_mode": {
    "name": "ipython",
    "version": 2
   },
   "file_extension": ".py",
   "mimetype": "text/x-python",
   "name": "python",
   "nbconvert_exporter": "python",
   "pygments_lexer": "ipython2",
   "version": "2.7.6"
  }
 },
 "nbformat": 4,
 "nbformat_minor": 5
}
