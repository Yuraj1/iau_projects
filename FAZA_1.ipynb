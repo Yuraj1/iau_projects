{
 "cells": [
  {
   "metadata": {},
   "cell_type": "code",
   "source": [
    "import pandas as pd\n",
    "import numpy as np\n",
    "import seaborn as sns\n",
    "import matplotlib.pyplot as plt\n",
    "import scipy.stats as stats\n",
    "\n",
    "station = pd.read_csv(\"./094/station.csv\", sep='\\t', engine=\"python\")\n",
    "patient = pd.read_csv(\"./094/patient.csv\", sep='\\t', engine=\"python\")\n",
    "observation = pd.read_csv(\"./094/observation.csv\", sep='\\t', engine=\"python\")\n",
    "\n",
    "print(\"patient.shape =\", patient.shape)\n",
    "print(\"station.shape =\", station.shape)\n",
    "print(\"observation.shape =\", observation.shape)"
   ],
   "id": "6d793570746c8dec",
   "outputs": [],
   "execution_count": null
  },
  {
   "metadata": {},
   "cell_type": "markdown",
   "source": "### 1.1 Základný opis dát spolu s ich charakteristikami ",
   "id": "9167be5a3140457f"
  },
  {
   "metadata": {},
   "cell_type": "markdown",
   "source": "### (A-1b)",
   "id": "b824a90d49716996"
  },
  {
   "metadata": {},
   "cell_type": "code",
   "source": [
    "# (A-1b)\n",
    "print(\"patient columns:\", patient.columns.tolist())\n",
    "print(\"station columns:\", station.columns.tolist())\n",
    "print(\"observation columns:\", observation.columns.tolist())"
   ],
   "id": "bcfaf7eb797912a6",
   "outputs": [],
   "execution_count": null
  },
  {
   "metadata": {},
   "cell_type": "markdown",
   "source": [
    "#### 🩺 Súbor patient.csv\n",
    "- **Počet záznamov:** 2 102  \n",
    "- **Počet atribútov:** 13  \n",
    "- **Typy dát:** object = 10, int64 = 2, float64 = 1  \n",
    "- **Chýbajúce hodnoty:** spolu ≈ 3 993  \n",
    "  - Najviac chýba: `residence` (100 %), `job` (70 %), `address` (15 %), `current_location` (5 %).  \n",
    "- **Charakteristika:** obsahuje demografické údaje pacientov a odkaz na stanicu (`station_ID`).  \n",
    "  Tento odkaz sa **nedá priamo spárovať** s názvom v `súbore station.csv`.  \n",
    "\n",
    "#### ⚙️ Súbor station.csv\n",
    "- **Počet záznamov:** 798  \n",
    "- **Počet atribútov:** 6  \n",
    "- **Typy dát:** object = 4, float64 = 2  \n",
    "- **Chýbajúce hodnoty:** 0  \n",
    "- **Charakteristika:** obsahuje informácie o meracích staniciach – `station`, `latitude`, `longitude`, `QoS`, `revision`, `location`.  \n",
    "- **Pozorovanie:** hodnoty `revision` majú rôzne formáty dátumov (a časť nevieme správne parsovať) → potrebná normalizácia na jednotný formát `datetime`.\n",
    "\n",
    "#### 📊 Súbor observation.csv\n",
    "- **Počet záznamov:** 12 081  \n",
    "- **Počet atribútov:** 23  \n",
    "- **Typy dát:** všetky `float64`  \n",
    "- **Chýbajúce hodnoty:** 0  \n",
    "- **Cieľová premenná:** `oximetry` (binárna 0/1).  \n",
    "- **Dôležité atribúty:** `SpO₂`, `HR`, `Skin Temperature`, `BP`, `CO`, `FiO₂`, atď.  \n",
    "- Hodnoty SpO₂ sú v rozsahu 95 – 100 a Skin Temperature v rozsahu 33 – 38 °C.  \n",
    "- Tieto dáta majú vhodný formát pre ďalšie spracovanie v Python/pandas a na trénovanie modelov.\n"
   ],
   "id": "c825afc56e29636"
  },
  {
   "metadata": {},
   "cell_type": "code",
   "source": [
    "def dtype_counts(df): \n",
    "    return df.dtypes.astype(str).value_counts().to_dict()\n",
    "\n",
    "summ = {\n",
    "    \"patient\": {\n",
    "        \"shape\": patient.shape,\n",
    "        \"dtype_counts\": dtype_counts(patient),\n",
    "        \"missing_total\": int(patient.isna().sum().sum())\n",
    "    },\n",
    "    \"station\": {\n",
    "        \"shape\": station.shape,\n",
    "        \"dtype_counts\": dtype_counts(station),\n",
    "        \"missing_total\": int(station.isna().sum().sum())\n",
    "    },\n",
    "    \"observation\": {\n",
    "        \"shape\": observation.shape,\n",
    "        \"dtype_counts\": dtype_counts(observation),\n",
    "        \"missing_total\": int(observation.isna().sum().sum())\n",
    "    }\n",
    "}\n",
    "summ\n"
   ],
   "id": "f846644a1d6b898e",
   "outputs": [],
   "execution_count": null
  },
  {
   "metadata": {},
   "cell_type": "markdown",
   "source": "#### Analýza chýbajúcich hodnôt (EDA)\n",
   "id": "c1cc4a8e2427e757"
  },
  {
   "metadata": {},
   "cell_type": "code",
   "source": [
    "missing_pct = (patient.isna().sum() / len(patient) * 100).round(2).sort_values(ascending=False)\n",
    "missing_pct.head(10)"
   ],
   "id": "e1870861232566e9",
   "outputs": [],
   "execution_count": null
  },
  {
   "metadata": {},
   "cell_type": "markdown",
   "source": [
    "#### Z výpočtu percenta chýbajúcich hodnôt vidíme, že niektoré atribúty obsahujú výrazný počet prázdnych záznamov:\n",
    "\n",
    "#### Atribút\tPodiel chýbajúcich hodnôt\n",
    "residence\t100 %\n",
    "job\t≈ 70 %\n",
    "address\t≈ 15 %\n",
    "current_location\t≈ 5 %"
   ],
   "id": "24b0256650397a1f"
  },
  {
   "metadata": {},
   "cell_type": "markdown",
   "source": [
    "#### 🔗 Vzťahy medzi súbormi\n",
    "| Vzťah | Typ väzby | Popis |\n",
    "|:--|:--:|:--|\n",
    "| observation ↔ station | 1 : N | Každé meranie má priradenú stanicu (100 % zhoda cez `latitude`, `longitude`). |\n",
    "| patient ↔ station | ? | Nepodarilo sa spárovať cez `current_location`, zhoda 0 %. |\n",
    "| patient ↔ observation | – | Chýba priame prepojenie (pacient ID v meraniach neexistuje). |"
   ],
   "id": "4f032a0d8c65e52"
  },
  {
   "metadata": {},
   "cell_type": "code",
   "source": [
    "sta_lat = pd.to_numeric(station[\"latitude\"], errors=\"coerce\").round(4)\n",
    "sta_lon = pd.to_numeric(station[\"longitude\"], errors=\"coerce\").round(4)\n",
    "obs_lat = pd.to_numeric(observation[\"latitude\"], errors=\"coerce\").round(4)\n",
    "obs_lon = pd.to_numeric(observation[\"longitude\"], errors=\"coerce\").round(4)\n",
    "\n",
    "station_key = set(zip(sta_lat, sta_lon))\n",
    "obs_key = list(zip(obs_lat, obs_lon))\n",
    "\n",
    "obs_valid = sum([not (pd.isna(k[0]) or pd.isna(k[1])) for k in obs_key])\n",
    "obs_match = sum([(k in station_key) for k in obs_key if not (pd.isna(k[0]) or pd.isna(k[1]))])\n",
    "\n",
    "print(f\"observation → station match by coords: {obs_match}/{obs_valid} ({obs_match/obs_valid:.3f})\")\n",
    "\n",
    "# patient ↔ station:\n",
    "import re\n",
    "def parse_current_location(s):\n",
    "    if not isinstance(s, str): \n",
    "        return (np.nan, np.nan)\n",
    "    nums = re.findall(r\"Decimal\\\\('([-+]?\\\\d*\\\\.?\\\\d+)'\\\\)\", s)\n",
    "    return (float(nums[0]), float(nums[1])) if len(nums)==2 else (np.nan, np.nan)\n",
    "\n",
    "latlon = patient[\"current_location\"].apply(parse_current_location)\n",
    "pat_lat = pd.to_numeric([t[0] for t in latlon], errors=\"coerce\").round(4)\n",
    "pat_lon = pd.to_numeric([t[1] for t in latlon], errors=\"coerce\").round(4)\n",
    "\n",
    "pat_valid = np.isfinite(pat_lat).sum()\n",
    "pat_match = sum([(k in station_key) for k in zip(pat_lat, pat_lon) if not (pd.isna(k[0]) or pd.isna(k[1]))])\n",
    "\n",
    "print(f\"patient → station match by coords: {pat_match}/{pat_valid} ({(pat_match/pat_valid if pat_valid else 0):.3f})\")\n"
   ],
   "id": "e4c797a0dc0afe24",
   "outputs": [],
   "execution_count": null
  },
  {
   "metadata": {},
   "cell_type": "markdown",
   "source": [
    "#### 📈 Vizualizácia (EDA)\n",
    "Histogramy rozloženia hodnôt:\n",
    "- **SpO₂** → zväčša v rozmedzí 97 – 99 %  \n",
    "- **Skin Temperature** → rozloženie 33 – 38 °C s vrcholom okolo 36 °C  \n",
    "\n",
    "Tieto vizualizácie potvrdzujú, že dáta majú správny a očakávaný fyzio-rozsah.\n"
   ],
   "id": "18d5d53806af1f7c"
  },
  {
   "metadata": {},
   "cell_type": "code",
   "source": [
    "import matplotlib.pyplot as plt\n",
    "\n",
    "# 1) SpO2\n",
    "plt.figure()\n",
    "observation[\"SpO₂\"].hist(bins=30, edgecolor=\"black\")\n",
    "plt.title(\"Rozloženie SpO₂\")\n",
    "plt.xlabel(\"SpO₂\")\n",
    "plt.ylabel(\"Frekvencia\")\n",
    "plt.show()\n",
    "\n",
    "# 2) Skin Temperature\n",
    "plt.figure()\n",
    "observation[\"Skin Temperature\"].hist(bins=30, edgecolor=\"black\")\n",
    "plt.title(\"Rozloženie Skin Temperature\")\n",
    "plt.xlabel(\"°C\")\n",
    "plt.ylabel(\"Frekvencia\")\n",
    "plt.show()\n"
   ],
   "id": "e6b6eb99a4e5ac7f",
   "outputs": [],
   "execution_count": null
  },
  {
   "metadata": {},
   "cell_type": "markdown",
   "source": [
    "### 🧩 Zhrnutie zistení\n",
    "- Dáta majú zrozumiteľnú štruktúru a sú v správnom formáte na ďalšie spracovanie.  \n",
    "- Najviac problémov má `súbor patient.csv` → mnoho chýbajúcich hodnôt.  \n",
    "- `súbor station.csv` má nekonzistentné formáty v atribúte `revision`.  \n",
    "- `súbor observation.csv` je čistý a vhodný na modelovanie (strojové učenie).  \n",
    "- Vzťah `observation` ↔ `station` funguje perfektne, ale prepojenie pacientov chýba.  \n"
   ],
   "id": "54616e82236d88e0"
  },
  {
   "metadata": {},
   "cell_type": "markdown",
   "source": "## (B-1b)",
   "id": "8b4e5458b60e6918"
  },
  {
   "metadata": {},
   "cell_type": "code",
   "source": [
    "skin_temp = observation[\"Skin Temperature\"]\n",
    "spo = observation[\"SpO₂\"]\n",
    "hr =  observation[\"HR\"]\n",
    "pi = observation[\"PI\"]\n",
    "rr = observation[\"RR\"]  \n",
    "prv = observation[\"PRV\"]\n",
    "bp = observation[\"BP\"]\n",
    "pvi = observation[\"PVI\"]\n",
    "sv = observation[\"SV\"]\n",
    "co = observation[\"CO\"]"
   ],
   "id": "fcbde28293f0f020",
   "outputs": [],
   "execution_count": null
  },
  {
   "metadata": {},
   "cell_type": "code",
   "source": [
    "cols = [\"Skin Temperature\", \"SpO₂\", \"HR\", \"PI\", \"RR\", \"PRV\", \"BP\", \"PVI\", \"SV\", \"CO\"]\n",
    "observation[cols].describe()"
   ],
   "id": "f5f543d14b02946c",
   "outputs": [],
   "execution_count": null
  },
  {
   "metadata": {},
   "cell_type": "code",
   "source": [
    "plt.subplot(1, 2, 1)\n",
    "plt.hist(skin_temp, bins=60, edgecolor=\"black\")\n",
    "plt.xlabel(\"Skin Temperature °C\")\n",
    "\n",
    "\n",
    "plt.subplot(1, 2, 2)\n",
    "plt.boxplot(skin_temp)\n",
    "plt.xlabel(\"Skin Temperature °C\")\n",
    "\n",
    "plt.show()\n"
   ],
   "id": "e1c3770027657f16",
   "outputs": [],
   "execution_count": null
  },
  {
   "metadata": {},
   "cell_type": "markdown",
   "source": [
    "The temperature values are in a range 33-38 °C, mean: 35.9 °C and std: 0.84\n",
    "This indicates that measurements are within the normal range and do not vary significantly"
   ],
   "id": "842dd3abc3097613"
  },
  {
   "metadata": {},
   "cell_type": "code",
   "source": [
    "plt.subplot(1, 2, 1)\n",
    "plt.hist(spo, bins=60, edgecolor=\"black\")\n",
    "plt.xlabel(\"SpO %\")\n",
    "\n",
    "\n",
    "plt.subplot(1, 2, 2)\n",
    "plt.boxplot(spo)\n",
    "plt.xlabel(\"SpO %\")\n",
    "\n",
    "plt.show()"
   ],
   "id": "5257101c9e5beb11",
   "outputs": [],
   "execution_count": null
  },
  {
   "metadata": {},
   "cell_type": "code",
   "source": [
    "plt.subplot(1, 2, 1)\n",
    "plt.hist(hr, bins=60, edgecolor=\"black\")\n",
    "plt.xlabel(\"HR bpm\")\n",
    "\n",
    "plt.subplot(1, 2, 2)\n",
    "plt.boxplot(hr)\n",
    "plt.xlabel(\"HR bpm\")\n",
    "\n",
    "plt.show()"
   ],
   "id": "c0b4d6a291638716",
   "outputs": [],
   "execution_count": null
  },
  {
   "metadata": {},
   "cell_type": "code",
   "source": [
    "plt.subplot(1, 2, 1)\n",
    "plt.hist(pi, bins=60, edgecolor=\"black\")\n",
    "plt.xlabel(\"PI %\")\n",
    "\n",
    "plt.subplot(1, 2, 2)\n",
    "plt.boxplot(pi)\n",
    "plt.xlabel(\"PI %\")\n",
    "\n",
    "plt.show()"
   ],
   "id": "1e96a488b885cfd7",
   "outputs": [],
   "execution_count": null
  },
  {
   "metadata": {},
   "cell_type": "code",
   "source": [
    "plt.subplot(1, 2, 1)\n",
    "plt.hist(rr, bins=60, edgecolor=\"black\")\n",
    "plt.xlabel(\"RR\")\n",
    "\n",
    "plt.subplot(1, 2, 2)\n",
    "plt.boxplot(rr)\n",
    "plt.xlabel(\"RR\")\n",
    "\n",
    "plt.show()"
   ],
   "id": "668dcc2a8aa70173",
   "outputs": [],
   "execution_count": null
  },
  {
   "metadata": {},
   "cell_type": "code",
   "source": [
    "plt.subplot(1, 2, 1)\n",
    "plt.hist(prv, bins=60, edgecolor=\"black\")\n",
    "plt.ylabel(\"PRV ms\")\n",
    "\n",
    "plt.subplot(1, 2, 2)\n",
    "plt.boxplot(prv)\n",
    "plt.xlabel(\"PRV ms\")\n",
    "\n",
    "plt.show()"
   ],
   "id": "9063845490b1c0a6",
   "outputs": [],
   "execution_count": null
  },
  {
   "metadata": {},
   "cell_type": "markdown",
   "source": [
    "Pulse rate variability are in a range 20-200ms, mean: 117.62, std: 21.83\n",
    "This indicates that the average value is within the normal range, but some values are widely scattered"
   ],
   "id": "32dd36dda88846eb"
  },
  {
   "metadata": {},
   "cell_type": "code",
   "source": [
    "plt.subplot(1, 2, 1)\n",
    "plt.hist(bp, bins=60, edgecolor=\"black\")\n",
    "plt.xlabel(\"BP\")\n",
    "\n",
    "plt.subplot(1, 2, 2)\n",
    "plt.boxplot(bp)\n",
    "plt.xlabel(\"BP\")\n",
    "\n",
    "plt.show()"
   ],
   "id": "fbdc344b84918756",
   "outputs": [],
   "execution_count": null
  },
  {
   "metadata": {},
   "cell_type": "code",
   "source": [
    "plt.subplot(1, 2, 1)\n",
    "plt.hist(pvi, bins=60, edgecolor=\"black\")\n",
    "plt.xlabel(\"pvi\")\n",
    "\n",
    "plt.subplot(1, 2, 2)\n",
    "plt.boxplot(pvi)\n",
    "plt.xlabel(\"pvi\")\n",
    "\n",
    "plt.show()"
   ],
   "id": "193b1c4102cbceaf",
   "outputs": [],
   "execution_count": null
  },
  {
   "metadata": {},
   "cell_type": "code",
   "source": [
    "plt.subplot(1, 2, 1)\n",
    "plt.hist(sv, bins=60, edgecolor=\"black\")\n",
    "plt.xlabel(\"sv\")\n",
    "\n",
    "plt.subplot(1, 2, 2)\n",
    "plt.boxplot(sv)\n",
    "plt.xlabel(\"sv\")\n",
    "\n",
    "plt.show()"
   ],
   "id": "a4735f9cb3d39f35",
   "outputs": [],
   "execution_count": null
  },
  {
   "metadata": {},
   "cell_type": "code",
   "source": [
    "plt.subplot(1, 2, 1)\n",
    "plt.hist(co, bins=60, edgecolor=\"black\")\n",
    "plt.xlabel(\"co\")\n",
    "\n",
    "plt.subplot(1, 2, 2)\n",
    "plt.boxplot(co)\n",
    "plt.xlabel(\"co\")\n",
    "\n",
    "plt.show()"
   ],
   "id": "2f8cd937e61ab1e7",
   "outputs": [],
   "execution_count": null
  },
  {
   "metadata": {},
   "cell_type": "markdown",
   "source": "## (С-1)",
   "id": "e1bb1a516bcac788"
  },
  {
   "metadata": {},
   "cell_type": "code",
   "source": "print(patient.columns)",
   "id": "7315b39c97caa39f",
   "outputs": [],
   "execution_count": null
  },
  {
   "metadata": {},
   "cell_type": "code",
   "source": [
    "numeric = observation.select_dtypes(include=['number'])\n",
    "\n",
    "corr = numeric.corr()\n",
    "\n",
    "plt.figure(figsize=(14,10))\n",
    "sns.heatmap(corr, annot=True, cmap=\"coolwarm\", fmt=\".2f\")\n",
    "plt.title(\"Korelačná matica fyziologických atribútov (observation.csv)\")\n",
    "plt.show()"
   ],
   "id": "f63be1405af95aa6",
   "outputs": [],
   "execution_count": null
  },
  {
   "metadata": {},
   "cell_type": "markdown",
   "source": [
    "### Interpretácia výsledkov párovej analýzy dát\n",
    "\n",
    "Z korelačnej matice (obrázok vyššie) je možné identifikovať viacero významných vzťahov medzi fyziologickými atribútmi:\n",
    "\n",
    "- **CO a HR (r = 0.76)** – veľmi silná pozitívna korelácia, ktorá zodpovedá očakávanej závislosti medzi srdcovou frekvenciou a srdcovým výdajom.  \n",
    "- **PVI a Blood Flow Index (r = 0.67)** – silný vzťah medzi variabilitou perfúzie a prietokom krvi.  \n",
    "- **Oximetry a PVI (r = 0.67)** – saturácia kyslíkom úzko súvisí s variabilitou perfúzie.  \n",
    "- **Skin Temperature a PI (r = −0.49)** – negatívna korelácia; s rastúcou teplotou kože klesá perfúzny index.  \n",
    "- **Skin Temperature a Oximetry (r = 0.37)** – mierna pozitívna závislosť, naznačuje možné prepojenie medzi periférnou teplotou a saturáciou.  \n",
    "- Väčšina ostatných atribútov (napr. `latitude`, `longitude`, `SNR`, `PRV`) nevykazuje štatisticky významné lineárne vzťahy.\n",
    "\n",
    "Tieto zistenia poukazujú na fyziologické súvislosti medzi vybranými premennými\n",
    "a pomáhajú určiť, ktoré atribúty môžu byť relevantné pri budúcom modelovaní\n",
    "a predikcii cieľovej premennej `oximetry`.\n"
   ],
   "id": "23c174db28c3513a"
  },
  {
   "metadata": {},
   "cell_type": "code",
   "source": [
    "corr_pairs = corr.unstack().sort_values(ascending=False)\n",
    "corr_pairs = corr_pairs[(corr_pairs < 0.999) & (corr_pairs > -0.999)]\n",
    "print(\"🔝 Top 10 korelácií medzi atribútmi:\\n\")\n",
    "print(corr_pairs.head(10))"
   ],
   "id": "52ec44780a40dca",
   "outputs": [],
   "execution_count": null
  },
  {
   "metadata": {},
   "cell_type": "code",
   "source": [
    "pairs_to_plot = [\n",
    "    (\"CO\", \"HR\"),\n",
    "    (\"oximetry\", \"PVI\"),\n",
    "    (\"Skin Temperature\", \"oximetry\"),\n",
    "]\n",
    "\n",
    "for x, y in pairs_to_plot:\n",
    "    plt.figure(figsize=(6, 4))\n",
    "    sns.scatterplot(data=observation, x=x, y=y, alpha=0.6)\n",
    "    plt.title(f\"Vzťah medzi {x} a {y}\")\n",
    "    plt.xlabel(x)\n",
    "    plt.ylabel(y)\n",
    "    plt.show()"
   ],
   "id": "7d718f3f44a93724",
   "outputs": [],
   "execution_count": null
  },
  {
   "metadata": {},
   "cell_type": "markdown",
   "source": [
    "### Interpretácia výsledkov\n",
    "\n",
    "Top 10 korelácií ukazuje, že:\n",
    "\n",
    "- **CO a HR (r = 0.76)** – silná lineárna závislosť, vyššia srdcová frekvencia znamená väčší srdcový výdaj.  \n",
    "- **Oximetry a PVI (r = 0.67)** – saturácia kyslíkom úzko súvisí s variabilitou perfúzie.  \n",
    "- **Skin Temperature a Oximetry (r = 0.37)** – mierna pozitívna korelácia, naznačuje vplyv periférnej teploty na saturáciu.  \n",
    "- **EtCO₂ a PI (r = 0.31)** – slabší, ale viditeľný pozitívny vzťah.  \n",
    "\n",
    "Tieto výsledky naznačujú, ktoré premenné môžu mať najväčší význam pri budúcej predikcii\n",
    "cieľovej premennej `oximetry`.\n"
   ],
   "id": "1f16b9c4882ee224"
  },
  {
   "metadata": {},
   "cell_type": "markdown",
   "source": "## (D-1b)",
   "id": "6babd413eaa356b7"
  },
  {
   "metadata": {},
   "cell_type": "code",
   "source": [
    "corr = observation.corr(numeric_only=False)\n",
    "corr['oximetry'].sort_values()"
   ],
   "id": "4b4a9704765f057b",
   "outputs": [],
   "execution_count": null
  },
  {
   "metadata": {},
   "cell_type": "code",
   "source": [
    "sns.scatterplot(data=observation, x='PVI', y='oximetry')\n",
    "plt.xlabel(\"PVI %\")\n",
    "plt.ylabel(\"oximetry\")"
   ],
   "id": "92197a21f981ac29",
   "outputs": [],
   "execution_count": null
  },
  {
   "metadata": {},
   "cell_type": "code",
   "source": [
    "sns.scatterplot(data=observation, x='Skin Temperature', y='oximetry')\n",
    "plt.xlabel(\"Skin Temperature °C\")\n",
    "plt.ylabel(\"oximetry\")"
   ],
   "id": "4b03d8e544bf2fa6",
   "outputs": [],
   "execution_count": null
  },
  {
   "metadata": {},
   "cell_type": "code",
   "source": [
    "sns.scatterplot(data=observation, x='EtCO₂', y='oximetry')\n",
    "plt.xlabel(\"EtCO₂ mmHg\")\n",
    "plt.ylabel(\"oximetry\")"
   ],
   "id": "4aa767dd18980279",
   "outputs": [],
   "execution_count": null
  },
  {
   "metadata": {},
   "cell_type": "markdown",
   "source": "## (A-2b)",
   "id": "1f8fe2084be53793"
  },
  {
   "metadata": {},
   "cell_type": "markdown",
   "source": "Check data types",
   "id": "586665db4229319b"
  },
  {
   "metadata": {},
   "cell_type": "code",
   "source": "observation.dtypes",
   "id": "a141fe9ef3a9a6be",
   "outputs": [],
   "execution_count": null
  },
  {
   "metadata": {},
   "cell_type": "code",
   "source": "station.dtypes",
   "id": "ec1d51d600621c68",
   "outputs": [],
   "execution_count": null
  },
  {
   "metadata": {},
   "cell_type": "code",
   "source": "patient.dtypes",
   "id": "9a34a2d54aaaafee",
   "outputs": [],
   "execution_count": null
  },
  {
   "metadata": {},
   "cell_type": "markdown",
   "source": "Format data types",
   "id": "9d037b78f12300c4"
  },
  {
   "metadata": {},
   "cell_type": "code",
   "source": [
    "station['revision'] = pd.to_datetime(station['revision'], format=\"mixed\")\n",
    "station['station'] = station['station'].astype('string')\n",
    "station['QoS'] = station['QoS'].astype('category')\n",
    "station['location'] = station['location'].astype('string')"
   ],
   "id": "95a9136d6b96dd9b",
   "outputs": [],
   "execution_count": null
  },
  {
   "metadata": {},
   "cell_type": "code",
   "source": [
    "patient['job'] = patient['job'].astype('string')\n",
    "patient['ssn'] = patient['ssn'].astype('string')\n",
    "patient['blood_group'] = patient['blood_group'].astype('category')\n",
    "patient['company'] = patient['company'].astype('string')\n",
    "patient['name'] = patient['name'].astype('string')\n",
    "patient['username'] = patient['username'].astype('string')\n",
    "patient['residence'] = patient['residence'].astype('string')\n",
    "patient['registration'] = patient['registration'].astype('string')\n",
    "patient['address'] = patient['address'].astype('string')\n",
    "patient['mail'] = patient['mail'].astype('string')\n",
    "patient[['longitude', 'latitude']] = (\n",
    "    patient['current_location']\n",
    "    .astype(str)\n",
    "    .str.extract(r\"Decimal\\('([\\d\\.\\-]+)'\\), Decimal\\('([\\d\\.\\-]+)'\\)\")\n",
    "    .astype(float)\n",
    ")\n",
    "patient.drop(columns=['current_location'], inplace=True)"
   ],
   "id": "d341cca0b80cae1",
   "outputs": [],
   "execution_count": null
  },
  {
   "metadata": {},
   "cell_type": "markdown",
   "source": "Check nulls",
   "id": "4001fbf5ccc2da9a"
  },
  {
   "metadata": {},
   "cell_type": "code",
   "source": "observation.isnull().sum()",
   "id": "efc5aaadf89f4c8",
   "outputs": [],
   "execution_count": null
  },
  {
   "metadata": {},
   "cell_type": "code",
   "source": "station.isnull().sum()",
   "id": "e8f9f1cdd3b3f94c",
   "outputs": [],
   "execution_count": null
  },
  {
   "metadata": {},
   "cell_type": "code",
   "source": "patient.isnull().sum()",
   "id": "864cf6b43892173f",
   "outputs": [],
   "execution_count": null
  },
  {
   "metadata": {},
   "cell_type": "code",
   "source": [
    "patient['residence'] = patient['residence'].fillna('Unknown')\n",
    "patient['job'] = patient['job'].fillna('Unknown')\n",
    "patient['address'] = patient['address'].fillna('Unknown')\n",
    "patient['longitude'] = patient['longitude'].fillna(0)\n",
    "patient['latitude'] = patient['latitude'].fillna(0)"
   ],
   "id": "3dd42d32c3ad231f",
   "outputs": [],
   "execution_count": null
  },
  {
   "metadata": {},
   "cell_type": "markdown",
   "source": "Check duplicates",
   "id": "7c0a2e68340ae29d"
  },
  {
   "metadata": {},
   "cell_type": "code",
   "source": "observation.duplicated().sum()",
   "id": "901b6e4b77007412",
   "outputs": [],
   "execution_count": null
  },
  {
   "metadata": {},
   "cell_type": "code",
   "source": "observation = observation.drop_duplicates()",
   "id": "9917679a0a71c743",
   "outputs": [],
   "execution_count": null
  },
  {
   "metadata": {},
   "cell_type": "code",
   "source": "station.duplicated().sum()",
   "id": "90505ba8b2aa4fa4",
   "outputs": [],
   "execution_count": null
  },
  {
   "metadata": {},
   "cell_type": "code",
   "source": "patient.duplicated().sum()",
   "id": "7d9dbdd96fdcb169",
   "outputs": [],
   "execution_count": null
  },
  {
   "metadata": {},
   "cell_type": "markdown",
   "source": "## (B-2b)",
   "id": "731a096f69bfbf82"
  },
  {
   "metadata": {},
   "cell_type": "code",
   "source": [
    "import re\n",
    "\n",
    "ranges = pd.read_csv(\"./094/sensor_variable_range.csv\", sep=\"\\t\")\n",
    "print(ranges.head())\n",
    "\n",
    "\n",
    "def parse_range(r):\n",
    "    nums = re.findall(r\"[\\d\\.]+\", str(r))\n",
    "    if len(nums) >= 2:\n",
    "        return float(nums[0]), float(nums[1])\n",
    "    else:\n",
    "        return None, None\n",
    "\n",
    "\n",
    "ranges[[\"Min\", \"Max\"]] = ranges[\"Value Range\"].apply(lambda r: pd.Series(parse_range(r)))\n",
    "ranges = ranges.dropna(subset=[\"Min\", \"Max\"])\n",
    "ranges.loc[ranges[\"Variable\"] == \"BP\", [\"Min\", \"Max\"]] = [90.0, 120.0]\n",
    "print(ranges[[\"Variable\", \"Min\", \"Max\"]])"
   ],
   "id": "2435f35699c1a6e",
   "outputs": [],
   "execution_count": null
  },
  {
   "metadata": {},
   "cell_type": "code",
   "source": [
    "anomalies = []\n",
    "for _, row in ranges.iterrows():\n",
    "    var = row[\"Variable\"]\n",
    "    low, high = row[\"Min\"], row[\"Max\"]\n",
    "    if var in observation.columns:\n",
    "        vals = pd.to_numeric(observation[var], errors=\"coerce\")\n",
    "        invalid_mask = vals.lt(low) | vals.gt(high)\n",
    "        anomalies.append({\n",
    "            \"Atribút\": var,\n",
    "            \"Počet abnormálnych hodnôt\": int(invalid_mask.sum()),\n",
    "            \"Min povolené\": low,\n",
    "            \"Max povolené\": high,\n",
    "            \"Príklady idx\": list(invalid_mask[invalid_mask].index[:5]) \n",
    "        })\n",
    "\n",
    "anomalies_df = pd.DataFrame(anomalies).sort_values(\"Počet abnormálnych hodnôt\", ascending=False)\n",
    "anomalies_df"
   ],
   "id": "f6bb39a84be090b8",
   "outputs": [],
   "execution_count": null
  },
  {
   "metadata": {},
   "cell_type": "markdown",
   "source": [
    "### B-2b Kontrola správnosti v dátach\n",
    "\n",
    "Dáta z *observation.csv* boli porovnané s referenčnými rozsahmi fyziologických parametrov zo *sensor_variable_range.csv*.  \n",
    "V žiadnom z atribútov neboli zistené abnormálne hodnoty mimo definovaných intervalov,  \n",
    "čo naznačuje, že dataset neobsahuje chybné alebo extrémne merania.  \n",
    "\n",
    "Pre istotu bola ďalej vykonaná kontrola nelogických kombinácií hodnôt\n",
    "(vzťahov medzi atribútmi), ktoré by mohli naznačovať chyby senzora alebo anotácie."
   ],
   "id": "56f4d719c26e52f8"
  },
  {
   "metadata": {},
   "cell_type": "code",
   "source": [
    "logic_errors = []\n",
    "\n",
    "# Давление = 0 при наличии пульса — сенсорная ошибка\n",
    "if \"BP\" in observation.columns and \"HR\" in observation.columns:\n",
    "    mask = (observation[\"BP\"] == 0) & (observation[\"HR\"] > 0)\n",
    "    logic_errors.append((\"BP = 0 a HR > 0\", mask.sum()))\n",
    "\n",
    "# Проверка согласованности сердечного выброса: CO ≈ HR × SV / 1000\n",
    "if all(col in observation.columns for col in [\"CO\", \"HR\", \"SV\"]):\n",
    "    co_est = observation[\"HR\"] * observation[\"SV\"] / 1000.0\n",
    "    mask = (observation[\"CO\"] - co_est).abs() > 0.5 * co_est.fillna(0).abs()\n",
    "    logic_errors.append((\"|CO - HR*SV/1000| > 30%\", mask.sum()))\n",
    "\n",
    "# Высокое качество сигнала, но низкий SNR — нелогично\n",
    "if \"Signal Quality Index\" in observation.columns and \"SNR\" in observation.columns:\n",
    "    mask = (observation[\"Signal Quality Index\"] >= 80) & (observation[\"SNR\"] < 20)\n",
    "    logic_errors.append((\"Signal Quality Index ≥ 80 a SNR < 20\", mask.sum()))\n",
    "\n",
    "# Низкое качество сигнала, но идеальная SpO₂ — подозрительно\n",
    "if \"Signal Quality Index\" in observation.columns and \"SpO₂\" in observation.columns:\n",
    "    mask = (observation[\"Signal Quality Index\"] <= 10) & (observation[\"SpO₂\"] >= 99)\n",
    "    logic_errors.append((\"Signal Quality Index ≤ 10 a SpO₂ ≥ 99\", mask.sum()))\n",
    "\n",
    "# Комнатный кислород (FiO₂ ≈ 21%), но низкая SpO₂ — возможная ошибка\n",
    "if \"FiO₂\" in observation.columns and \"SpO₂\" in observation.columns:\n",
    "    mask = (observation[\"FiO₂\"] <= 22) & (observation[\"SpO₂\"] < 85)\n",
    "    logic_errors.append((\"FiO₂ ≈ 21% a SpO₂ < 85%\", mask.sum()))\n",
    "\n",
    "# Геокоординаты вне допустимого диапазона\n",
    "if \"latitude\" in observation.columns and \"longitude\" in observation.columns:\n",
    "    mask = (\n",
    "        observation[\"latitude\"].lt(-90)\n",
    "        | observation[\"latitude\"].gt(90)\n",
    "        | observation[\"longitude\"].lt(-180)\n",
    "        | observation[\"longitude\"].gt(180)\n",
    "    )\n",
    "    logic_errors.append((\"Latitude/Longitude mimo rozsah\", mask.sum()))\n",
    "\n",
    "# Бонус: RR и EtCO₂ не должны расходиться более чем на порядок\n",
    "if \"RR\" in observation.columns and \"EtCO₂\" in observation.columns:\n",
    "    mask = (observation[\"RR\"] > 40) & (observation[\"EtCO₂\"] < 20)\n",
    "    logic_errors.append((\"RR > 40 a EtCO₂ < 20\", mask.sum()))\n",
    "\n",
    "logic_df = pd.DataFrame(logic_errors, columns=[\"Podmienka\", \"Počet porušení\"])\n",
    "logic_df"
   ],
   "id": "589bb5e4a1581a6f",
   "outputs": [],
   "execution_count": null
  },
  {
   "metadata": {},
   "cell_type": "markdown",
   "source": [
    "### B-2b Kontrola správnosti v dátach\n",
    "\n",
    "Na základe referenčných rozsahov zo súboru *sensor_variable_range.csv* bola vykonaná kontrola správnosti hodnôt v datasete *observation.csv*.\n",
    "\n",
    "- Neboli zistené žiadne **abnormálne hodnoty** mimo povolených fyziologických intervalov.\n",
    "- Následne bola vykonaná aj **kontrola logických vzťahov** medzi atribútmi:\n",
    "  - `BP = 0 a HR > 0`\n",
    "  - `|CO – HR×SV/1000| > 30 %`\n",
    "  - `Signal Quality Index ≥ 80 a SNR < 20`\n",
    "  - `Signal Quality Index ≤ 10 a SpO₂ ≥ 99`\n",
    "  - `FiO₂ ≈ 21 % a SpO₂ < 85 %`\n",
    "  - `Latitude/Longitude mimo rozsah`\n",
    "  - `RR > 40 a EtCO₂ < 20`\n",
    "\n",
    "Všetky podmienky mali **0 porušení**, čo znamená, že dataset neobsahuje nelogické alebo chybné kombinácie údajov.  \n",
    "Dáta sú teda **konzistentné, bez anomálií** a vhodné na ďalšiu fázu projektu – analýzu vzťahov (C-1) a modelovanie cieľovej premennej `oximetry`."
   ],
   "id": "f80177f474703ac1"
  },
  {
   "metadata": {},
   "cell_type": "markdown",
   "source": "## (C-1b)",
   "id": "911e5ff35697f060"
  },
  {
   "metadata": {},
   "cell_type": "code",
   "source": [
    "def identify_outliers(a):\n",
    "    lower = a.quantile(0.25) - 1.5 * stats.iqr(a)\n",
    "    upper = a.quantile(0.75) + 1.5 * stats.iqr(a)\n",
    "    \n",
    "    return a[(a > upper) | (a < lower)]"
   ],
   "id": "8304b83987efc6ac",
   "outputs": [],
   "execution_count": null
  },
  {
   "metadata": {},
   "cell_type": "code",
   "source": [
    "co_out = identify_outliers(co)\n",
    "co = co.drop(co_out.index)\n",
    "\n",
    "pvi_out = identify_outliers(pvi)\n",
    "pvi = pvi.drop(pvi_out.index)\n",
    "\n",
    "sv_out = identify_outliers(sv)\n",
    "sv = sv.drop(sv_out.index)\n",
    "\n",
    "bp_out = identify_outliers(bp)\n",
    "bp = bp.drop(bp_out.index)"
   ],
   "id": "31d78a864e209598",
   "outputs": [],
   "execution_count": null
  },
  {
   "metadata": {},
   "cell_type": "code",
   "source": [
    "plt.figure(figsize=(10, 8))\n",
    "plt.subplot(2, 4, 1)\n",
    "plt.hist(pvi, bins=60, edgecolor=\"black\")\n",
    "plt.xlabel(\"pvi\")\n",
    "\n",
    "plt.subplot(2, 4, 2)\n",
    "plt.boxplot(pvi)\n",
    "plt.xlabel(\"pvi\")\n",
    "\n",
    "plt.subplot(2, 4, 3)\n",
    "plt.hist(co, bins=60, edgecolor=\"black\")\n",
    "plt.xlabel(\"co\")\n",
    "\n",
    "plt.subplot(2, 4, 4)\n",
    "plt.boxplot(co)\n",
    "plt.xlabel(\"co\")\n",
    "\n",
    "plt.subplot(2, 4, 5)\n",
    "plt.hist(sv, bins=60, edgecolor=\"black\")\n",
    "plt.xlabel(\"sv\")\n",
    "\n",
    "plt.subplot(2, 4, 6)\n",
    "plt.boxplot(sv)\n",
    "plt.xlabel(\"sv\")\n",
    "\n",
    "plt.subplot(2, 4, 7)\n",
    "plt.hist(bp, bins=60, edgecolor=\"black\")\n",
    "plt.xlabel(\"BP\")\n",
    "\n",
    "plt.subplot(2, 4, 8)\n",
    "plt.boxplot(bp)\n",
    "plt.xlabel(\"BP\")\n",
    "\n",
    "\n",
    "plt.show()"
   ],
   "id": "c2fd6eaa0a3c4dd4",
   "outputs": [],
   "execution_count": null
  },
  {
   "metadata": {},
   "cell_type": "code",
   "source": [
    "def replace_outliers(a):\n",
    "    lower = a.quantile(0.05)\n",
    "    upper = a.quantile(0.95)\n",
    "    \n",
    "    clipped = a.clip(lower, upper)\n",
    "    \n",
    "    return clipped"
   ],
   "id": "b1a9743fe9569f87",
   "outputs": [],
   "execution_count": null
  },
  {
   "metadata": {},
   "cell_type": "code",
   "source": [
    "prv = replace_outliers(prv)\n",
    "\n",
    "skin_temp = replace_outliers(skin_temp)\n",
    "\n",
    "hr = replace_outliers(hr)\n",
    "\n",
    "spo = replace_outliers(spo)"
   ],
   "id": "532a9f49026bfb3f",
   "outputs": [],
   "execution_count": null
  },
  {
   "metadata": {},
   "cell_type": "code",
   "source": [
    "plt.figure(figsize=(10, 8))\n",
    "plt.subplot(2, 4, 1)\n",
    "plt.hist(prv, bins=60, edgecolor=\"black\")\n",
    "plt.ylabel(\"PRV ms\")\n",
    "\n",
    "plt.subplot(2, 4, 2)\n",
    "plt.boxplot(prv)\n",
    "plt.xlabel(\"PRV ms\")\n",
    "\n",
    "plt.subplot(2, 4, 3)\n",
    "plt.hist(skin_temp, bins=60, edgecolor=\"black\")\n",
    "plt.xlabel(\"Skin Temperature °C\")\n",
    "\n",
    "plt.subplot(2, 4, 4)\n",
    "plt.boxplot(skin_temp)\n",
    "plt.xlabel(\"Skin Temperature °C\")\n",
    "\n",
    "plt.subplot(2, 4, 5)\n",
    "plt.hist(hr, bins=60, edgecolor=\"black\")\n",
    "plt.xlabel(\"HR bpm\")\n",
    "\n",
    "plt.subplot(2, 4, 6)\n",
    "plt.boxplot(hr)\n",
    "plt.xlabel(\"HR bpm\")\n",
    "\n",
    "plt.subplot(2, 4, 7)\n",
    "plt.hist(spo, bins=60, edgecolor=\"black\")\n",
    "plt.xlabel(\"SpO %\")\n",
    "\n",
    "\n",
    "plt.subplot(2, 4, 8)\n",
    "plt.boxplot(spo)\n",
    "plt.xlabel(\"SpO %\")\n",
    "\n",
    "plt.show()"
   ],
   "id": "5b500f3ece8393b3",
   "outputs": [],
   "execution_count": null
  },
  {
   "metadata": {},
   "cell_type": "code",
   "source": "",
   "id": "796c852005d79c14",
   "outputs": [],
   "execution_count": null
  },
  {
   "metadata": {},
   "cell_type": "code",
   "source": "",
   "id": "6c5fc101a3b63f8d",
   "outputs": [],
   "execution_count": null
  },
  {
   "metadata": {},
   "cell_type": "code",
   "source": "",
   "id": "7eeeb80a00548e1a",
   "outputs": [],
   "execution_count": null
  }
 ],
 "metadata": {
  "kernelspec": {
   "display_name": "Python 3",
   "language": "python",
   "name": "python3"
  },
  "language_info": {
   "codemirror_mode": {
    "name": "ipython",
    "version": 2
   },
   "file_extension": ".py",
   "mimetype": "text/x-python",
   "name": "python",
   "nbconvert_exporter": "python",
   "pygments_lexer": "ipython2",
   "version": "2.7.6"
  }
 },
 "nbformat": 4,
 "nbformat_minor": 5
}
