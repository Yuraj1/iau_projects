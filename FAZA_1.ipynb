{
 "cells": [
  {
   "cell_type": "code",
   "id": "initial_id",
   "metadata": {
    "collapsed": true
   },
   "source": [
    "import pandas as pd\n",
    "import numpy as np\n",
    "import matplotlib.pyplot as plt\n",
    "import seaborn as sns\n",
    "from sympy import false\n",
    "\n",
    "station = pd.read_csv(\"./094/station.csv\", sep='\\t')\n",
    "patient = pd.read_csv(\"./094/patient.csv\", sep='\\t')\n",
    "observation = pd.read_csv(\"./094/observation.csv\", sep='\\t')"
   ],
   "outputs": [],
   "execution_count": null
  },
  {
   "metadata": {},
   "cell_type": "markdown",
   "source": "### 1.1 Základný opis dát spolu s ich charakteristikami",
   "id": "b707721c3608bfac"
  },
  {
   "metadata": {},
   "cell_type": "markdown",
   "source": "### (A-1b)",
   "id": "98342974a44176e0"
  },
  {
   "metadata": {},
   "cell_type": "code",
   "source": [
    "# Смотрим первые строки\n",
    "print(\"Station cintorin slavicie:\")\n",
    "print(station.head())\n",
    "\n",
    "# Размер таблицы (строки, столбцы)\n",
    "print(\"Station size: \", station.shape)\n",
    "\n",
    "# Информация о типах данных и пропусках\n",
    "station.info()\n",
    "\n",
    "# Основные статистики  \n",
    "station.describe()"
   ],
   "id": "54413230580c0136",
   "outputs": [],
   "execution_count": null
  },
  {
   "metadata": {},
   "cell_type": "markdown",
   "source": "### (B-1b)",
   "id": "cfddd10ef1559180"
  },
  {
   "metadata": {},
   "cell_type": "code",
   "source": [
    "skin_temp = observation[\"Skin Temperature\"]\n",
    "spo = observation[\"SpO₂\"]\n",
    "hr =  observation[\"HR\"]\n",
    "pi = observation[\"PI\"]\n",
    "rr = observation[\"RR\"]  \n",
    "prv = observation[\"PRV\"]\n",
    "bp = observation[\"BP\"]\n",
    "pvi = observation[\"PVI\"]\n",
    "sv = observation[\"SV\"]\n",
    "co = observation[\"CO\"]"
   ],
   "id": "98bb5e35d1e9b5ec",
   "outputs": [],
   "execution_count": null
  },
  {
   "metadata": {},
   "cell_type": "code",
   "source": [
    "cols = [\"Skin Temperature\", \"SpO₂\", \"HR\", \"PI\", \"RR\", \"PRV\", \"BP\", \"PVI\", \"SV\", \"CO\"]\n",
    "observation[cols].describe()"
   ],
   "id": "335c4fb37e0a009f",
   "outputs": [],
   "execution_count": null
  },
  {
   "metadata": {},
   "cell_type": "code",
   "source": [
    "plt.hist(skin_temp, bins=60, edgecolor=\"black\")\n",
    "plt.xlabel(\"Skin Temperature °C\")\n",
    "plt.show()\n",
    "# The temperature values are in a range 33-38 °C, mean: 35.9 °C and std: 0.84\n",
    "# This indicates that measurements are within the normal range and do not vary significantly"
   ],
   "id": "1195db2657b49a78",
   "outputs": [],
   "execution_count": null
  },
  {
   "metadata": {},
   "cell_type": "code",
   "source": [
    "plt.hist(spo, bins=60, edgecolor=\"black\")\n",
    "plt.xlabel(\"SpO₂ %\")\n",
    "plt.show()"
   ],
   "id": "4ec6392db502491d",
   "outputs": [],
   "execution_count": null
  },
  {
   "metadata": {},
   "cell_type": "code",
   "source": [
    "plt.hist(hr, bins=60, edgecolor=\"black\")\n",
    "plt.xlabel(\"HR bpm\")\n",
    "plt.show()"
   ],
   "id": "d07b1927187b96a8",
   "outputs": [],
   "execution_count": null
  },
  {
   "metadata": {},
   "cell_type": "code",
   "source": [
    "plt.hist(pi, bins=60, edgecolor=\"black\")\n",
    "plt.xlabel(\"PI %\")\n",
    "plt.show()"
   ],
   "id": "27fde8ad7341f12f",
   "outputs": [],
   "execution_count": null
  },
  {
   "metadata": {},
   "cell_type": "code",
   "source": [
    "plt.hist(rr, bins=60, edgecolor=\"black\")\n",
    "plt.xlabel(\"RR\")\n",
    "plt.show()"
   ],
   "id": "e5b6ebfd0193ff12",
   "outputs": [],
   "execution_count": null
  },
  {
   "metadata": {},
   "cell_type": "code",
   "source": [
    "plt.boxplot(prv)\n",
    "plt.ylabel(\"PRV ms\")\n",
    "plt.show()\n",
    "# Pulse rate variability are in a range 20-200ms, mean: 117.62, std: 21.83\n",
    "# This indicates that the average value is within the normal range, but some values are widely scattered"
   ],
   "id": "5e26c2e2e78dcdba",
   "outputs": [],
   "execution_count": null
  },
  {
   "metadata": {},
   "cell_type": "code",
   "source": [
    "plt.hist(bp, bins=60, edgecolor=\"black\")\n",
    "plt.xlabel(\"BP\")\n",
    "plt.show()"
   ],
   "id": "924e4d2fc90ab452",
   "outputs": [],
   "execution_count": null
  },
  {
   "metadata": {},
   "cell_type": "code",
   "source": [
    "plt.hist(pvi, bins=60, edgecolor=\"black\")\n",
    "plt.xlabel(\"pvi\")\n",
    "plt.show()"
   ],
   "id": "bb8fcc3e0fe6d9f5",
   "outputs": [],
   "execution_count": null
  },
  {
   "metadata": {},
   "cell_type": "code",
   "source": [
    "plt.hist(sv, bins=60, edgecolor=\"black\")\n",
    "plt.xlabel(\"sv\")\n",
    "plt.show()"
   ],
   "id": "52426992eacdeedb",
   "outputs": [],
   "execution_count": null
  },
  {
   "metadata": {},
   "cell_type": "code",
   "source": [
    "plt.hist(co, bins=60, edgecolor=\"black\")\n",
    "plt.xlabel(\"co\")\n",
    "plt.show()"
   ],
   "id": "64e172f54888ca34",
   "outputs": [],
   "execution_count": null
  },
  {
   "metadata": {},
   "cell_type": "markdown",
   "source": "### (D-1b)",
   "id": "ff4c26ce015f2ee9"
  },
  {
   "metadata": {},
   "cell_type": "code",
   "source": [
    "corr = observation.corr(numeric_only=False)\n",
    "corr['oximetry'].sort_values()"
   ],
   "id": "b5913477e056bd91",
   "outputs": [],
   "execution_count": null
  },
  {
   "metadata": {},
   "cell_type": "code",
   "source": [
    "sns.scatterplot(data=observation, x='PVI', y='oximetry')\n",
    "plt.xlabel(\"PVI %\")\n",
    "plt.ylabel(\"oximetry\")"
   ],
   "id": "45bbd71c2d9b41b7",
   "outputs": [],
   "execution_count": null
  },
  {
   "metadata": {},
   "cell_type": "code",
   "source": [
    "sns.scatterplot(data=observation, x='Skin Temperature', y='oximetry')\n",
    "plt.xlabel(\"Skin Temperature °C\")\n",
    "plt.ylabel(\"oximetry\")"
   ],
   "id": "a28181f17aa5bc8a",
   "outputs": [],
   "execution_count": null
  },
  {
   "metadata": {},
   "cell_type": "code",
   "source": [
    "sns.scatterplot(data=observation, x='EtCO₂', y='oximetry')\n",
    "plt.xlabel(\"EtCO₂ mmHg\")\n",
    "plt.ylabel(\"oximetry\")"
   ],
   "id": "2413b07a77fec8fa",
   "outputs": [],
   "execution_count": null
  }
 ],
 "metadata": {
  "kernelspec": {
   "display_name": "Python 3",
   "language": "python",
   "name": "python3"
  },
  "language_info": {
   "codemirror_mode": {
    "name": "ipython",
    "version": 2
   },
   "file_extension": ".py",
   "mimetype": "text/x-python",
   "name": "python",
   "nbconvert_exporter": "python",
   "pygments_lexer": "ipython2",
   "version": "2.7.6"
  }
 },
 "nbformat": 4,
 "nbformat_minor": 5
}
