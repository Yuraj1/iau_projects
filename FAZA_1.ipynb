{
 "cells": [
  {
   "metadata": {},
   "cell_type": "markdown",
   "source": "Work done by: Savelii Shaposhnyk (50%),  Yurii Huziienko (50%)",
   "id": "1a49b744db12d50a"
  },
  {
   "cell_type": "code",
   "id": "initial_id",
   "metadata": {
    "collapsed": true
   },
   "source": [
    "import pandas as pd\n",
    "import numpy as np\n",
    "import seaborn as sns\n",
    "import matplotlib.pyplot as plt\n",
    "import scipy.stats as stats\n",
    "from statsmodels.stats.power import TTestIndPower\n",
    "import re"
   ],
   "outputs": [],
   "execution_count": null
  },
  {
   "metadata": {},
   "cell_type": "code",
   "source": [
    "station = pd.read_csv(\"./094/station.csv\", sep='\\t', engine=\"python\")\n",
    "patient = pd.read_csv(\"./094/patient.csv\", sep='\\t', engine=\"python\")\n",
    "observation = pd.read_csv(\"./094/observation.csv\", sep='\\t', engine=\"python\")"
   ],
   "id": "e50fbc54836ac49a",
   "outputs": [],
   "execution_count": null
  },
  {
   "metadata": {},
   "cell_type": "markdown",
   "source": "## 1.1 A ",
   "id": "b707721c3608bfac"
  },
  {
   "metadata": {},
   "cell_type": "markdown",
   "source": "### Analýza štruktúr dát",
   "id": "5801dfea748a4ea3"
  },
  {
   "metadata": {},
   "cell_type": "markdown",
   "source": "### Initial rows of datasets\n",
   "id": "8487ac71552426"
  },
  {
   "metadata": {},
   "cell_type": "code",
   "source": "station.head()",
   "id": "d4fa511adb0ded69",
   "outputs": [],
   "execution_count": null
  },
  {
   "metadata": {},
   "cell_type": "code",
   "source": "observation.head()",
   "id": "8062b34cb2f124b3",
   "outputs": [],
   "execution_count": null
  },
  {
   "metadata": {},
   "cell_type": "code",
   "source": "patient.head()",
   "id": "21c55b4b34c6d9e2",
   "outputs": [],
   "execution_count": null
  },
  {
   "metadata": {},
   "cell_type": "markdown",
   "source": "### Statistics and information about datasets",
   "id": "67a57cf7c40ce51b"
  },
  {
   "metadata": {},
   "cell_type": "code",
   "source": [
    "patient.info()\n",
    "patient.describe(include='all')"
   ],
   "id": "fb967156cc380977",
   "outputs": [],
   "execution_count": null
  },
  {
   "metadata": {},
   "cell_type": "code",
   "source": [
    "station.info()\n",
    "station.describe(include='all')"
   ],
   "id": "d3dc6825c7478da1",
   "outputs": [],
   "execution_count": null
  },
  {
   "metadata": {},
   "cell_type": "code",
   "source": [
    "observation.info()\n",
    "observation.describe(include='all')"
   ],
   "id": "8ffc4dcde9b42ae0",
   "outputs": [],
   "execution_count": null
  },
  {
   "metadata": {},
   "cell_type": "markdown",
   "source": "### Data type, shape and missing values",
   "id": "26ba03d27f34746"
  },
  {
   "metadata": {},
   "cell_type": "code",
   "source": [
    "def datatypes_counts(df): \n",
    "    return df.dtypes.astype(str).value_counts().to_dict()"
   ],
   "id": "2704728efd1b3b66",
   "outputs": [],
   "execution_count": null
  },
  {
   "metadata": {},
   "cell_type": "code",
   "source": [
    "patient_summary = {\n",
    "    \"Number_of_lines\": patient.shape[0],\n",
    "    \"Number_of_columns\": patient.shape[1],\n",
    "    \"Data_types\": datatypes_counts(patient),\n",
    "    \"Missing_total\": int(patient.isna().sum().sum())\n",
    "}\n",
    "patient_summary"
   ],
   "id": "42d607c5f7f28f84",
   "outputs": [],
   "execution_count": null
  },
  {
   "metadata": {},
   "cell_type": "code",
   "source": [
    "station_summary = {\n",
    "    \"Number_of_lines\": station.shape[0],\n",
    "    \"Number_of_columns\": station.shape[1],\n",
    "    \"Data_types\": datatypes_counts(station),\n",
    "    \"Missing_total\": int(station.isna().sum().sum())\n",
    "}\n",
    "station_summary"
   ],
   "id": "904fa227df31c1f8",
   "outputs": [],
   "execution_count": null
  },
  {
   "metadata": {},
   "cell_type": "code",
   "source": [
    "observation_summary = {\n",
    "    \"Number_of_lines\": observation.shape[0],\n",
    "    \"Number_of_columns\": observation.shape[1],\n",
    "    \"Data_types\": datatypes_counts(observation),\n",
    "    \"Missing_total\": int(observation.isna().sum().sum())\n",
    "}\n",
    "observation_summary"
   ],
   "id": "8d54b236f41fe5b0",
   "outputs": [],
   "execution_count": null
  },
  {
   "metadata": {},
   "cell_type": "markdown",
   "source": [
    "### Data analysis – records and attributes\n",
    "| File                |   Rows | Columns | Data types                    | Missing values |\n",
    "| :------------------ | -----: | ------: | :---------------------------- | -------------: |\n",
    "| **patient.csv**     |  2 102 |      13 | 10×object, 2×int64, 1×float64 |          3 993 |\n",
    "| **station.csv**     |    798 |       6 | 4×object, 2×float64           |              0 |\n",
    "| **observation.csv** | 12 081 |      23 | 23×float64                    |              0 |\n",
    "\n"
   ],
   "id": "105b97863f34f511"
  },
  {
   "metadata": {},
   "cell_type": "markdown",
   "source": [
    "### Analysis of missing values\n",
    "Based on all the omitted values listed above, we will check what exactly has been omitted."
   ],
   "id": "acecf06210942c3d"
  },
  {
   "metadata": {},
   "cell_type": "code",
   "source": [
    "missing_percento = (patient.isna().sum() / len(patient) * 100).sort_values(ascending=False).round(2)\n",
    "missing_percento.head(10)"
   ],
   "id": "b5aedeb28c956a19",
   "outputs": [],
   "execution_count": null
  },
  {
   "metadata": {},
   "cell_type": "markdown",
   "source": " From the calculation of the percentage of missing values, we can see that some attributes contain a significant number of empty records, so we will make a complete conclusion about our data.",
   "id": "e6392f36a371593d"
  },
  {
   "metadata": {},
   "cell_type": "markdown",
   "source": [
    "Dataset: patient.csv\n",
    "- Number of records: 2102\n",
    "- Number of attributes: 13\n",
    "- Data types: object, int64, float64\n",
    "- Missing values total = 3993  \n",
    "  - Most missing: residence (100%), job (70%), address (15%), current_location (5%).  \n",
    "- Description: contains demographic information about patients and a link to the station (station_ID).  \n",
    "Cannot be directly linked to the station file.\n",
    "\n",
    "Dataset: station.csv\n",
    "- Number of records: 798\n",
    "- Number of attributes: 6\n",
    "- Data types: object, float64  \n",
    "- Missing values: 0 \n",
    "- Description: contains information about measuring stations — station, latitude, longitude etc.  \n",
    "- Observation: revision values use different date formats, so normalization is required in further steps.\n",
    "\n",
    "Dataset: observation.csv\n",
    "- Number of records: 12,081\n",
    "- Number of attributes: 23  \n",
    "- Data types: float64 \n",
    "- Missing values: 0  \n",
    "- Target variable: oxygen saturation (0/1).\n",
    "- Attributes: SpO₂, HR, Skin Temperature, BP, CO, FiO₂, etc."
   ],
   "id": "c97c54ec4c3f6f59"
  },
  {
   "metadata": {},
   "cell_type": "markdown",
   "source": "## 1.1 B",
   "id": "1260b7633574e8b0"
  },
  {
   "metadata": {},
   "cell_type": "markdown",
   "source": "### Chosen attributes",
   "id": "e8cf0c174da30d94"
  },
  {
   "metadata": {},
   "cell_type": "code",
   "source": [
    "skin_temp = observation[\"Skin Temperature\"]\n",
    "spo = observation[\"SpO₂\"]\n",
    "hr =  observation[\"HR\"]\n",
    "pi = observation[\"PI\"]\n",
    "rr = observation[\"RR\"]  \n",
    "prv = observation[\"PRV\"]\n",
    "bp = observation[\"BP\"]\n",
    "pvi = observation[\"PVI\"]\n",
    "sv = observation[\"SV\"]\n",
    "co = observation[\"CO\"]"
   ],
   "id": "6fb80c6f8d189420",
   "outputs": [],
   "execution_count": null
  },
  {
   "metadata": {},
   "cell_type": "markdown",
   "source": "### General statistics and information about attributes",
   "id": "9a710e518f6f389a"
  },
  {
   "metadata": {},
   "cell_type": "code",
   "source": [
    "cols = [\"Skin Temperature\", \"SpO₂\", \"HR\", \"PI\", \"RR\", \"PRV\", \"BP\", \"PVI\", \"SV\", \"CO\"]\n",
    "observation[cols].describe()"
   ],
   "id": "c1b9a1c0b43e02fa",
   "outputs": [],
   "execution_count": null
  },
  {
   "metadata": {},
   "cell_type": "markdown",
   "source": "### Visualisation of attributes",
   "id": "677da4f0d268b070"
  },
  {
   "metadata": {},
   "cell_type": "code",
   "source": [
    "for col in cols:\n",
    "    plt.figure(figsize=(8, 5))\n",
    "    plt.subplot(1, 2, 1)\n",
    "    sns.histplot(observation[col], bins=30, kde=True)\n",
    "    plt.title(f'{col}')\n",
    "    plt.xlabel(f'{col}')\n",
    "    \n",
    "    plt.subplot(1, 2, 2)\n",
    "    plt.boxplot(observation[col])\n",
    "    plt.title(f'{col}')\n",
    "    plt.xlabel(f'{col}')\n",
    "    plt.show()"
   ],
   "id": "cda6d9782682223a",
   "outputs": [],
   "execution_count": null
  },
  {
   "metadata": {},
   "cell_type": "markdown",
   "source": "We can see that almost every chosen attribute have normal distribution, and also they have outliers as well",
   "id": "d6a008f72a4ea001"
  },
  {
   "metadata": {},
   "cell_type": "markdown",
   "source": "## 1.1 C",
   "id": "46d80ac3c92d61f1"
  },
  {
   "metadata": {},
   "cell_type": "markdown",
   "source": "### Identify relationships and dependencies between pairs of attributes",
   "id": "fd8aa6c4287bf5bd"
  },
  {
   "metadata": {},
   "cell_type": "code",
   "source": [
    "corr = observation.corr(numeric_only=False)\n",
    "\n",
    "plt.figure(figsize=(14,10))\n",
    "sns.heatmap(corr, annot=True, fmt=\".2f\")\n",
    "plt.show()"
   ],
   "id": "37c60b0c8b93faa3",
   "outputs": [],
   "execution_count": null
  },
  {
   "metadata": {},
   "cell_type": "code",
   "source": [
    "corr_prs = corr.unstack().sort_values(key=lambda x: x.abs(), ascending=False)\n",
    "corr_prs = corr_prs[(corr_prs < 0.999) & (corr_prs > -0.999)]\n",
    "corr_prs.drop_duplicates(inplace=True)\n",
    "print(\"Top correlations:\\n\")\n",
    "print(corr_prs.head(6))"
   ],
   "id": "49adb4022247eca2",
   "outputs": [],
   "execution_count": null
  },
  {
   "metadata": {},
   "cell_type": "markdown",
   "source": [
    "### Interpretation of paired data analysis results\n",
    "\n",
    "Several significant relationships can be identified:\n",
    "\n",
    "**CO and HR (r = 0.76)** – dependence between heart rate and cardiac output.\n",
    "\n",
    "**Oximetry and PVI (r = 0.67)** – oxygen saturation is closely related to perfusion variability.\n",
    "\n",
    "**Skin Temperature and PI (r = –0.49)** – inverse relationship between skin temperature and perfusion index: as the skin temperature decreases, the perfusion index tends to increase\n",
    "\n",
    "**Skin Temperature and Oximetry (r = 0.37)** – correlation between peripheral temperature and saturation.\n",
    "\n",
    "**EtCO₂ and PI (r = 0.31)** – correlation between exhaled CO₂ and perfusion index.\n",
    "\n",
    "**PVI and Skin Temperature (r = 0.29)** – relationship between perfusion variability and skin temperature.  \n",
    "\n",
    "Most other attributes do not show statistically significant linear relationships.\n",
    "\n",
    "These findings point to physiological relationships between selected variables\n",
    "and help determine which attributes may be relevant in future modeling\n",
    "and prediction of the target variable `oximetry`."
   ],
   "id": "4a01124e8712547d"
  },
  {
   "metadata": {},
   "cell_type": "code",
   "source": [
    "pairs_to_plot = [pair for pair, value in corr_prs.head(5).items()]\n",
    "\n",
    "for x, y in pairs_to_plot:\n",
    "    sns.scatterplot(data=observation, x=x, y=y)\n",
    "    plt.title(f\"Relationship between {x} a {y}\")\n",
    "    plt.show()"
   ],
   "id": "88c6d4f112fd6b11",
   "outputs": [],
   "execution_count": null
  },
  {
   "metadata": {},
   "cell_type": "markdown",
   "source": [
    "#### CO - HR\n",
    "The graph shows a strong positive correlation between cardiac output (CO) and heart rate (HR).\n",
    "With higher cardiac output, heart rate also increases, which is expected from a physiological point of view.\n",
    "The points form a curved shape, indicating that the relationship is not completely linear, but strongly positive.\n",
    "\n",
    "#### EtCO a PI\n",
    "The values are more evenly distributed on this graph. There is a slight positive correlation between\n",
    "the concentration of carbon dioxide in exhaled air (EtCO₂) and the perfusion index (PI).\n",
    "The relationship is not strong, but it confirms that changes in breathing can partially affect peripheral perfusion."
   ],
   "id": "9408393c4a4d8b"
  },
  {
   "metadata": {},
   "cell_type": "markdown",
   "source": "## 1.1 D",
   "id": "4d5463440e8c116f"
  },
  {
   "metadata": {},
   "cell_type": "markdown",
   "source": "### Correlation between the predicted variable",
   "id": "60e66f418b0ebe0b"
  },
  {
   "metadata": {},
   "cell_type": "code",
   "source": [
    "corr = observation.corr(numeric_only=False)\n",
    "corr['oximetry'].sort_values()"
   ],
   "id": "3a2b99385e067cbb",
   "outputs": [],
   "execution_count": null
  },
  {
   "metadata": {},
   "cell_type": "markdown",
   "source": "Our predicted variable have a very strong correlation with **PVI**, **Skin Temperature**, **EtCO₂** and not very strong negative correlation with **SpO₂**",
   "id": "7642c1ae273fe929"
  },
  {
   "metadata": {},
   "cell_type": "markdown",
   "source": "### Visualisation of correlations",
   "id": "f57f63de51ed9667"
  },
  {
   "metadata": {},
   "cell_type": "code",
   "source": "attributes = ['PVI', 'Skin Temperature', 'EtCO₂', 'SpO₂']",
   "id": "4b8a2ac69663d585",
   "outputs": [],
   "execution_count": null
  },
  {
   "metadata": {},
   "cell_type": "code",
   "source": [
    "for attribute in attributes:\n",
    "    plt.figure(figsize=(8, 5))\n",
    "    sns.scatterplot(data=observation, x=f'{attribute}', y='oximetry')\n",
    "    plt.title(f'{attribute}')\n",
    "    plt.xlabel(f'{attribute}')\n",
    "    plt.show()"
   ],
   "id": "5cd285e0b95c92f3",
   "outputs": [],
   "execution_count": null
  },
  {
   "metadata": {},
   "cell_type": "markdown",
   "source": "## (E-1b)",
   "id": "c35507309886182"
  },
  {
   "metadata": {},
   "cell_type": "markdown",
   "source": [
    "After analysis, we can seen that there is a strong correlation between the **CO** and **HR** variables (r = 0.76) also variables **PI** and **EtCO₂** (r = 0.31) and also **Skin Temperature** and **PVI** (r = 0.299) and also a negative correlation between **Skin Temperature and PI (r = –0.49)**\n",
    "\n",
    "Our target variable, oximetry, is most strongly dependent on **PVI** (r = 0.66) **Skin Temperature** (r = 0.368), and **EtCO₂** (r = 0.281),\n",
    "and also has a negative correlation with **SpO₂** (r = −0.121)\n",
    "\n",
    "We don't need to combine other datasets, all required the information is already in the observation dataset"
   ],
   "id": "b39e48253cac6906"
  },
  {
   "metadata": {},
   "cell_type": "markdown",
   "source": "## (A-2b)",
   "id": "2f4f57afcac53678"
  },
  {
   "metadata": {},
   "cell_type": "markdown",
   "source": "### Check data types",
   "id": "b145eb277b80d7d"
  },
  {
   "metadata": {},
   "cell_type": "code",
   "source": "observation.dtypes",
   "id": "976d973d64f688eb",
   "outputs": [],
   "execution_count": null
  },
  {
   "metadata": {},
   "cell_type": "code",
   "source": "station.dtypes",
   "id": "3a9524c2a3ac0b4e",
   "outputs": [],
   "execution_count": null
  },
  {
   "metadata": {},
   "cell_type": "code",
   "source": "patient.dtypes",
   "id": "963ecf81d40df4cb",
   "outputs": [],
   "execution_count": null
  },
  {
   "metadata": {},
   "cell_type": "markdown",
   "source": "### Format data types",
   "id": "2384ab57724a6483"
  },
  {
   "metadata": {},
   "cell_type": "code",
   "source": [
    "station['revision'] = pd.to_datetime(station['revision'], format=\"mixed\")\n",
    "station['station'] = station['station'].astype('string')\n",
    "station['QoS'] = station['QoS'].astype('category')\n",
    "station['location'] = station['location'].astype('string')"
   ],
   "id": "99b9d2d10b604ce2",
   "outputs": [],
   "execution_count": null
  },
  {
   "metadata": {},
   "cell_type": "code",
   "source": [
    "patient['job'] = patient['job'].astype('string')\n",
    "patient['ssn'] = patient['ssn'].astype('string')\n",
    "patient['blood_group'] = patient['blood_group'].astype('category')\n",
    "patient['company'] = patient['company'].astype('string')\n",
    "patient['name'] = patient['name'].astype('string')\n",
    "patient['username'] = patient['username'].astype('string')\n",
    "patient['residence'] = patient['residence'].astype('string')\n",
    "patient['registration'] = patient['registration'].astype('string')\n",
    "patient['address'] = patient['address'].astype('string')\n",
    "patient['mail'] = patient['mail'].astype('string')\n",
    "patient[['longitude', 'latitude']] = (\n",
    "    patient['current_location']\n",
    "    .astype(str)\n",
    "    .str.extract(r\"Decimal\\('([\\d\\.\\-]+)'\\), Decimal\\('([\\d\\.\\-]+)'\\)\")\n",
    "    .astype(float)\n",
    ")\n",
    "patient.drop(columns=['current_location'], inplace=True)"
   ],
   "id": "f596d35d6f1e472a",
   "outputs": [],
   "execution_count": null
  },
  {
   "metadata": {},
   "cell_type": "markdown",
   "source": "### Check nulls",
   "id": "f3f6b6ebaf2a1914"
  },
  {
   "metadata": {},
   "cell_type": "code",
   "source": "observation.isnull().sum()",
   "id": "7fbe68f35d3879e1",
   "outputs": [],
   "execution_count": null
  },
  {
   "metadata": {},
   "cell_type": "code",
   "source": "station.isnull().sum()",
   "id": "6a8974d823c14b0d",
   "outputs": [],
   "execution_count": null
  },
  {
   "metadata": {},
   "cell_type": "code",
   "source": "patient.isnull().sum()",
   "id": "db7b97e6520b956f",
   "outputs": [],
   "execution_count": null
  },
  {
   "metadata": {},
   "cell_type": "markdown",
   "source": "We have a lot of nulls in **patient** dataset, so we need to put some default values",
   "id": "6540144136095e1b"
  },
  {
   "metadata": {},
   "cell_type": "code",
   "source": [
    "patient['residence'] = patient['residence'].fillna('Unknown')\n",
    "patient['job'] = patient['job'].fillna('Unknown')\n",
    "patient['address'] = patient['address'].fillna('Unknown')\n",
    "patient['longitude'] = patient['longitude'].fillna(0)\n",
    "patient['latitude'] = patient['latitude'].fillna(0)"
   ],
   "id": "fc0d889c4dc43fe",
   "outputs": [],
   "execution_count": null
  },
  {
   "metadata": {},
   "cell_type": "markdown",
   "source": "### Check duplicates",
   "id": "287bcdad8ec3f14a"
  },
  {
   "metadata": {},
   "cell_type": "code",
   "source": "observation.duplicated().sum()",
   "id": "e9cf211701c7b9d7",
   "outputs": [],
   "execution_count": null
  },
  {
   "metadata": {},
   "cell_type": "code",
   "source": "station.duplicated().sum()",
   "id": "6920eab8baf75629",
   "outputs": [],
   "execution_count": null
  },
  {
   "metadata": {},
   "cell_type": "code",
   "source": "patient.duplicated().sum()",
   "id": "92e0d0fc90e3d7aa",
   "outputs": [],
   "execution_count": null
  },
  {
   "metadata": {},
   "cell_type": "markdown",
   "source": "We have one duplicate in **observation** dataset, we need to clean it",
   "id": "83f22b46b185022b"
  },
  {
   "metadata": {},
   "cell_type": "markdown",
   "source": "### Clean duplicates",
   "id": "e0dde275cc7ee1ee"
  },
  {
   "metadata": {},
   "cell_type": "code",
   "source": "observation = observation.drop_duplicates()",
   "id": "89741a6959b61c5e",
   "outputs": [],
   "execution_count": null
  },
  {
   "metadata": {},
   "cell_type": "markdown",
   "source": "## 1.2 B",
   "id": "657f298153f837f"
  },
  {
   "metadata": {},
   "cell_type": "code",
   "source": [
    "ranges = pd.read_csv(\"./094/sensor_variable_range.csv\", sep=\"\\t\")\n",
    "print(ranges.head())"
   ],
   "id": "e453b9163bfe59f",
   "outputs": [],
   "execution_count": null
  },
  {
   "metadata": {},
   "cell_type": "code",
   "source": [
    "num_pat = re.compile(r\"[-+]?\\d+(?:[.,]\\d+)?\")\n",
    "def parse_range(s):\n",
    "    nums = num_pat.findall(str(s))\n",
    "    if len(nums) >= 2:\n",
    "        a = float(nums[0].replace(\",\", \".\"))\n",
    "        b = float(nums[1].replace(\",\", \".\"))\n",
    "        lo, hi = (a, b) if a <= b else (b, a)\n",
    "        return lo, hi\n",
    "    return None, None\n",
    "\n",
    "ranges[[\"Min\", \"Max\"]] = ranges[\"Value Range\"].apply(lambda r: pd.Series(parse_range(r)))\n",
    "ranges = ranges.dropna(subset=[\"Min\", \"Max\"])\n",
    "ranges.loc[ranges[\"Variable\"] == \"BP\", [\"Min\", \"Max\"]] = [90.0, 120.0]\n",
    "print(ranges[[\"Variable\", \"Min\", \"Max\"]].reset_index(drop=True))"
   ],
   "id": "7023933550b6d9e9",
   "outputs": [],
   "execution_count": null
  },
  {
   "metadata": {},
   "cell_type": "code",
   "source": [
    "records = []\n",
    "\n",
    "for var, low, high in zip(ranges[\"Variable\"], ranges[\"Min\"], ranges[\"Max\"]):\n",
    "    if var in observation.columns:\n",
    "        vals = pd.to_numeric(observation[var], errors=\"coerce\")\n",
    "        mask = (vals < low) | (vals > high)\n",
    "        records.append({\n",
    "            \"Attribute\": var,\n",
    "            \"Number of abnormal values\": int(mask.sum()),\n",
    "            \"Allowed range\": f\"{low} – {high}\",\n",
    "            \"Examples idx\": mask[mask].index.tolist()\n",
    "        })\n",
    "        \n",
    "anomalies_df = pd.DataFrame(records).sort_values(\"Number of abnormal values\", ascending=False).reset_index(drop=True)\n",
    "anomalies_df"
   ],
   "id": "93b7941df567e322",
   "outputs": [],
   "execution_count": null
  },
  {
   "metadata": {},
   "cell_type": "markdown",
   "source": [
    "### Kontrola správnosti v dátach\n",
    "\n",
    "Dáta z *observation.csv* boli porovnané s referenčnými rozsahmi fyziologických parametrov zo *sensor_variable_range.csv*.  \n",
    "V žiadnom z atribútov neboli zistené abnormálne hodnoty mimo definovaných intervalov, čo naznačuje, že dataset neobsahuje chybné alebo extrémne merania.  \n",
    "\n",
    "Pre istotu bola ďalej vykonaná kontrola nelogických kombinácií hodnôt\n",
    "(vzťahov medzi atribútmi), ktoré by mohli naznačovať chyby senzora alebo anotácie."
   ],
   "id": "86bc68a2103f614f"
  },
  {
   "metadata": {},
   "cell_type": "code",
   "source": [
    "logic_errors = []\n",
    "\n",
    "# Pressure = 0 when pulse is present\n",
    "mask = (observation[\"BP\"] == 0) & (observation[\"HR\"] > 0)\n",
    "logic_errors.append((\"BP = 0 a HR > 0\", mask.sum()))\n",
    "\n",
    "# Does the measured cardiac output (CO) match the calculated value based on heart rate (HR) and stroke volume (SV)\n",
    "co_est = observation[\"HR\"] * observation[\"SV\"] / 1000.0\n",
    "mask = (observation[\"CO\"] - co_est).abs() > 0.5 * co_est.fillna(0).abs()\n",
    "logic_errors.append((\"|CO - HR*SV/1000| > 50%\", mask.sum()))\n",
    "\n",
    "# if the signal quality is >= 80%, but the signal to noise ratio is < 20 dB (strong noise), then the data is contradictory.\n",
    "mask = (observation[\"Signal Quality Index\"] >= 80) & (observation[\"SNR\"] < 20)\n",
    "logic_errors.append((\"Signal Quality Index >= 80 a SNR < 20\", mask.sum()))\n",
    "\n",
    "# It is impossible to accurately measure ideal saturation with a poor signal.\n",
    "mask = (observation[\"Signal Quality Index\"] <= 10) & (observation[\"SpO₂\"] >= 99)\n",
    "logic_errors.append((\"Signal Quality Index <= 10 a SpO₂ >= 99\", mask.sum()))\n",
    "\n",
    "# When breathing normal air, saturation should not be this low.\n",
    "mask = (observation[\"FiO₂\"] <= 22) & (observation[\"SpO₂\"] < 85)\n",
    "logic_errors.append((\"FiO₂ ≈ 21% a SpO₂ < 85%\", mask.sum()))\n",
    "\n",
    "# Do such coordinates exist on Earth?\n",
    "mask = (\n",
    "    (observation[\"latitude\"] < -90) |\n",
    "    (observation[\"latitude\"] > 90) |\n",
    "    (observation[\"longitude\"] < -180) |\n",
    "    (observation[\"longitude\"] > 180)\n",
    ")\n",
    "logic_errors.append((\"Latitude/Longitude out of range\", mask.sum()))\n",
    "\n",
    "# Unrealistic combination — a person breathes often, but exhales almost no CO₂.\n",
    "mask = (observation[\"RR\"] > 40) & (observation[\"EtCO₂\"] < 20)\n",
    "logic_errors.append((\"RR > 40 a EtCO₂ < 20\", mask.sum()))\n",
    "\n",
    "logic_df = pd.DataFrame(logic_errors, columns=[\"-\", \"Number of violations\"])\n",
    "logic_df"
   ],
   "id": "28cadeba0a92afc8",
   "outputs": [],
   "execution_count": null
  },
  {
   "metadata": {},
   "cell_type": "markdown",
   "source": [
    "### Data accuracy check\n",
    "\n",
    "Based on the reference ranges from the sensor_variable_range.csv file, the values in the observation.csv dataset were checked for accuracy. No abnormal values outside the permitted physiological ranges were found.\n",
    "Subsequently, a check of logical relationships between attributes was also performed:\n",
    "\n",
    "**BP = 0 and HR > 0**\n",
    "\n",
    "**|CO – HR×SV/1000| > 50%**\n",
    "\n",
    "**Signal Quality Index >= 80 and SNR < 20**\n",
    "\n",
    "**Signal Quality Index <= 10 and SpO₂ >= 99**\n",
    "\n",
    "**FiO2 = 21% and SpO₂ < 85%**\n",
    "\n",
    "**Latitude/Longitude outside range**\n",
    "\n",
    "**RR > 40 and EtCO2 < 20**\n",
    "\n",
    "All conditions had 0 violations, which means that the dataset does not contain illogical or erroneous combinations of data.  "
   ],
   "id": "7123a3781ee19f5c"
  },
  {
   "metadata": {},
   "cell_type": "markdown",
   "source": "## 1.2 С",
   "id": "538119273a99c20c"
  },
  {
   "metadata": {},
   "cell_type": "markdown",
   "source": "### Remove outliers or distant observations\n",
   "id": "f74d10dae39ea0ad"
  },
  {
   "metadata": {},
   "cell_type": "code",
   "source": [
    "def identify_outliers(a):\n",
    "    lower = a.quantile(0.25) - 1.5 * stats.iqr(a)\n",
    "    upper = a.quantile(0.75) + 1.5 * stats.iqr(a)\n",
    "    \n",
    "    return a[(a > upper) | (a < lower)]"
   ],
   "id": "3a4d9a2651538ca1",
   "outputs": [],
   "execution_count": null
  },
  {
   "metadata": {},
   "cell_type": "code",
   "source": [
    "co_out = identify_outliers(observation['CO'])\n",
    "observation = observation.drop(co_out.index)\n",
    "\n",
    "pvi_out = identify_outliers(observation['PVI'])\n",
    "observation = observation.drop(pvi_out.index)\n",
    "\n",
    "sv_out = identify_outliers(observation['SV'])\n",
    "observation = observation.drop(sv_out.index)\n",
    "\n",
    "bp_out = identify_outliers(observation['BP'])\n",
    "observation = observation.drop(bp_out.index)"
   ],
   "id": "d7661c630f19c2ae",
   "outputs": [],
   "execution_count": null
  },
  {
   "metadata": {},
   "cell_type": "markdown",
   "source": "### Visualisation of cleaned attributes",
   "id": "8487c9c6b9b00134"
  },
  {
   "metadata": {},
   "cell_type": "code",
   "source": "cleaned_attributes = [\"BP\", \"PVI\", \"SV\", \"CO\"]",
   "id": "1248c829e142ce1b",
   "outputs": [],
   "execution_count": null
  },
  {
   "metadata": {},
   "cell_type": "code",
   "source": [
    "for attribute in cleaned_attributes:\n",
    "    plt.figure(figsize=(8, 5))\n",
    "    plt.subplot(1, 2, 1)\n",
    "    sns.histplot(observation[attribute], bins=30, kde=True)\n",
    "    plt.title(f'{attribute}')\n",
    "    plt.xlabel(f'{attribute}')\n",
    "    \n",
    "    plt.subplot(1, 2, 2)\n",
    "    plt.boxplot(observation[attribute])\n",
    "    plt.title(f'{attribute}')\n",
    "    plt.xlabel(f'{attribute}')\n",
    "    plt.show()"
   ],
   "id": "bdb57379d2756fef",
   "outputs": [],
   "execution_count": null
  },
  {
   "metadata": {},
   "cell_type": "markdown",
   "source": "### Replace outliers",
   "id": "72f0b02ce193ce0e"
  },
  {
   "metadata": {},
   "cell_type": "code",
   "source": [
    "def replace_outliers(a):\n",
    "    lower = a.quantile(0.05)\n",
    "    upper = a.quantile(0.95)\n",
    "    \n",
    "    clipped = a.clip(lower, upper)\n",
    "    \n",
    "    return clipped"
   ],
   "id": "5dbc65e810855a0",
   "outputs": [],
   "execution_count": null
  },
  {
   "metadata": {},
   "cell_type": "code",
   "source": [
    "observation[\"PRV\"] = replace_outliers(observation[\"PRV\"])\n",
    "\n",
    "observation[\"Skin Temperature\"] = replace_outliers(observation[\"Skin Temperature\"])\n",
    "\n",
    "observation[\"SpO₂\"] = replace_outliers(observation[\"SpO₂\"])\n",
    "\n",
    "observation[\"HR\"] = replace_outliers(observation[\"HR\"])"
   ],
   "id": "1af79f8276e95ee5",
   "outputs": [],
   "execution_count": null
  },
  {
   "metadata": {},
   "cell_type": "markdown",
   "source": "### Visualisation of replaced attributes",
   "id": "d3d6dc0a49e8e9c7"
  },
  {
   "metadata": {},
   "cell_type": "code",
   "source": "replaced_attributes = [\"Skin Temperature\", \"SpO₂\", \"HR\", \"PRV\"]",
   "id": "28086c246ccd0f9c",
   "outputs": [],
   "execution_count": null
  },
  {
   "metadata": {},
   "cell_type": "code",
   "source": [
    "for attribute in replaced_attributes:\n",
    "    plt.figure(figsize=(8, 5))\n",
    "    plt.subplot(1, 2, 1)\n",
    "    sns.histplot(observation[attribute], bins=30, kde=True)\n",
    "    plt.title(f'{attribute}')\n",
    "    plt.xlabel(f'{attribute}')\n",
    "    \n",
    "    plt.subplot(1, 2, 2)\n",
    "    plt.boxplot(observation[attribute])\n",
    "    plt.title(f'{attribute}')\n",
    "    plt.xlabel(f'{attribute}')\n",
    "    plt.show()"
   ],
   "id": "bb0ce73dfd879423",
   "outputs": [],
   "execution_count": null
  },
  {
   "metadata": {},
   "cell_type": "markdown",
   "source": "# 1.3 A",
   "id": "f7750fd1f9aaa943"
  },
  {
   "metadata": {},
   "cell_type": "markdown",
   "source": [
    "### Hypotheses\n",
    "\n",
    "\n",
    "#### H1: The mean SpO₂ is lower under high respiratory effort."
   ],
   "id": "acebc2815da2fbcd"
  },
  {
   "metadata": {},
   "cell_type": "code",
   "source": [
    "low_effort = observation.loc[observation[\"Respiratory effort\"] <= observation[\"Respiratory effort\"].median(), \"SpO₂\"]\n",
    "high_effort = observation.loc[observation[\"Respiratory effort\"] > observation[\"Respiratory effort\"].median(), \"SpO₂\"]\n",
    "print(\"Average SpO₂ during low exertion:\", low_effort.mean())\n",
    "display(low_effort.describe())\n",
    "print(\"Average SpO₂ during high exertion:\", high_effort.mean())\n",
    "display(high_effort.describe())"
   ],
   "id": "31f086b0996e080d",
   "outputs": [],
   "execution_count": null
  },
  {
   "metadata": {},
   "cell_type": "code",
   "source": [
    "sh_low = stats.shapiro(low_effort.sample(5000, random_state=0))\n",
    "sh_high = stats.shapiro(high_effort.sample(5000, random_state=0))\n",
    "print(\"Shapiro p (low):\", sh_low.pvalue)\n",
    "print(\"Shapiro p (high):\", sh_high.pvalue)"
   ],
   "id": "bc7e449fee522453",
   "outputs": [],
   "execution_count": null
  },
  {
   "metadata": {},
   "cell_type": "markdown",
   "source": [
    "The Shapiro–Wilk test was used to verify the normality of the distribution of SpO₂ values in both groups.\n",
    "At lower exertion, the test had a p-value of p = 1.49e-28, and at high exertion, p = 5.24е-29, i.e., in both cases (p < 0.05).\n",
    "\n",
    "A (p-value < 0.05) means that the distribution differs significantly from normal.\n",
    "Therefore, in addition to the parametric t-test, the non-parametric Mann–Whitney U test, which does not require normal data distribution, was also used in further analysis."
   ],
   "id": "4f546ee98a4e6e14"
  },
  {
   "metadata": {},
   "cell_type": "code",
   "source": [
    "lev = stats.levene(low_effort, high_effort)\n",
    "print(\"Levene p:\", lev.pvalue)"
   ],
   "id": "d71df25618dae3e9",
   "outputs": [],
   "execution_count": null
  },
  {
   "metadata": {},
   "cell_type": "markdown",
   "source": [
    "The Levene test (p = 0.895 > 0.05) confirmed that the variances between the groups are statistically comparable.  \n",
    "We can therefore use Welch's t-test, which is robust even with small differences in variances."
   ],
   "id": "3872985a295d6866"
  },
  {
   "metadata": {},
   "cell_type": "code",
   "source": [
    "t, p = stats.ttest_ind(low_effort, high_effort, equal_var=False, nan_policy=\"omit\")\n",
    "print(f\"t = {t:.3f}, p = {p/2:.4f}\")"
   ],
   "id": "7318fb3374247766",
   "outputs": [],
   "execution_count": null
  },
  {
   "metadata": {},
   "cell_type": "markdown",
   "source": "Welch's t-test (t = –1.516, p = 0.0648 > 0.05) did not show a statistically significant difference between the SpO₂ averages during low and high exertion. Thus, a decrease in SpO₂ during increased respiratory load was not confirmed.",
   "id": "3ab6b21c6f5887c6"
  },
  {
   "metadata": {},
   "cell_type": "code",
   "source": [
    "u, p_mwu = stats.mannwhitneyu(low_effort, high_effort, alternative=\"less\")\n",
    "print(f\"Mann-Whitney p = {p_mwu:.4f}\")"
   ],
   "id": "3c7d0bc533fc88e5",
   "outputs": [],
   "execution_count": null
  },
  {
   "metadata": {},
   "cell_type": "markdown",
   "source": [
    "The Mann–Whitney U test (p = 0.0456 < 0.05) indicated a slight downward trend in SpO₂ during high exertion, but the effect is only borderline statistically significant and very small.\n",
    "Overall, it can be concluded that increased respiratory effort does not have a significant effect on SpO₂ values in the observed data."
   ],
   "id": "bdf774d6120bf0c1"
  },
  {
   "metadata": {},
   "cell_type": "markdown",
   "source": [
    "Based on the results of both tests, it can be concluded that although the SpO₂ value is slightly lower during higher respiratory exertion, the difference is not statistically or practically significant.\n",
    "Hypothesis H₁ (SpO₂ has a lower average value during higher exertion) was not confirmed."
   ],
   "id": "e870cdae19cf7b05"
  },
  {
   "metadata": {},
   "cell_type": "markdown",
   "source": "#### H2: RR má v priemere nizsiu hodnotu pri vyššej FiO₂",
   "id": "df7ae2fd786db0b1"
  },
  {
   "metadata": {},
   "cell_type": "code",
   "source": [
    "high_fio2 = observation.loc[observation[\"FiO₂\"] > observation[\"FiO₂\"].median(), \"RR\"]\n",
    "low_fio2 = observation.loc[observation[\"FiO₂\"] <= observation[\"FiO₂\"].median(), \"RR\"]\n",
    "print(\"RR average at lower FiO₂:\", low_fio2.mean())\n",
    "display(low_fio2.describe())\n",
    "print(\"RR average at higher FiO₂:\", high_fio2.mean())\n",
    "display(high_fio2.describe())"
   ],
   "id": "900e4357adef1c41",
   "outputs": [],
   "execution_count": null
  },
  {
   "metadata": {},
   "cell_type": "code",
   "source": [
    "sh_low = stats.shapiro(low_fio2.sample(5000, random_state=0))\n",
    "sh_high = stats.shapiro(high_fio2.sample(5000, random_state=0))\n",
    "print(\"Shapiro p (low):\", sh_low.pvalue)\n",
    "print(\"Shapiro p (high):\", sh_high.pvalue)"
   ],
   "id": "a6491d3b5516b44e",
   "outputs": [],
   "execution_count": null
  },
  {
   "metadata": {},
   "cell_type": "markdown",
   "source": [
    "Both p-values are > 0.05 ⇒ RR distributions are approximately normal.  \n",
    "We can therefore use a parametric t-test; to be on the safe side, we will also include a non-parametric test."
   ],
   "id": "daafa7defc872db6"
  },
  {
   "metadata": {},
   "cell_type": "code",
   "source": [
    "lev = stats.levene(low_fio2, high_fio2)\n",
    "print(\"Levene p:\", lev.pvalue)"
   ],
   "id": "5e25c8686a8fc",
   "outputs": [],
   "execution_count": null
  },
  {
   "metadata": {},
   "cell_type": "markdown",
   "source": [
    "p > 0.05 -> there is no evidence of a difference in variance between the groups.  \n",
    "The variances are comparable; we will use Welch's t-test (robust even for small differences)."
   ],
   "id": "94b46ef98345e21d"
  },
  {
   "metadata": {},
   "cell_type": "code",
   "source": [
    "u, p_mwu = stats.mannwhitneyu(high_fio2, low_fio2, alternative=\"less\")\n",
    "print(f\"Mann-Whitney p(one-sided)= {p_mwu:.4f}\")"
   ],
   "id": "99f9c37107992813",
   "outputs": [],
   "execution_count": null
  },
  {
   "metadata": {},
   "cell_type": "markdown",
   "source": [
    "The Mann–Whitney U test (p = 0.042 < 0.05) showed that the RR value is statistically significantly lower at higher FiO₂.\n",
    "Hypothesis H2 (lower RR at higher FiO₂) was confirmed."
   ],
   "id": "8e9126188a046e04"
  },
  {
   "metadata": {},
   "cell_type": "code",
   "source": [
    "t, p = stats.ttest_ind(high_fio2, low_fio2, equal_var=False, nan_policy=\"omit\")\n",
    "print(f\"t = {t:.3f}, p = {p/2:.4f}\")"
   ],
   "id": "6ea7879646d6f88a",
   "outputs": [],
   "execution_count": null
  },
  {
   "metadata": {},
   "cell_type": "markdown",
   "source": "Both tests (Welch's t-test and Mann–Whitney U) confirm H2: at higher FiO₂, the respiratory rate RR is lower (p < 0.05).  ",
   "id": "6aa63473753a03ad"
  },
  {
   "metadata": {},
   "cell_type": "markdown",
   "source": [
    "The data are approximately normally distributed (Shapiro p > 0.05) and have comparable variance (Levene p = 0.33).\n",
    "Both the one-sided Welch's t-test (t = –1.662, p = 0.0483) and the Mann–Whitney U test (p = 0.042) confirmed that the respiratory rate (RR) is statistically significantly lower at higher FiO₂.\n",
    "\n",
    "Hypothesis H2 (lower RR at higher FiO₂) was confirmed, but the difference is of little practical significance.\n",
    "At increased oxygen concentrations, there is a slight but statistically significant decrease in respiratory rate."
   ],
   "id": "24fc4e401829195e"
  },
  {
   "metadata": {},
   "cell_type": "markdown",
   "source": [
    "## 1.3 B\n",
    "\n",
    "### Verification of statistical power of the test (H1 – SpO and respiratory effort)"
   ],
   "id": "2bf57d30ab7d9c18"
  },
  {
   "metadata": {},
   "cell_type": "code",
   "source": [
    "n1 = len(high_effort)\n",
    "n2 = len(low_effort)\n",
    "mean1, mean2 = high_effort.mean(), low_effort.mean()\n",
    "sd1, sd2 = high_effort.std(ddof=1), low_effort.std(ddof=1)\n"
   ],
   "id": "c08db1e773c5988a",
   "outputs": [],
   "execution_count": null
  },
  {
   "metadata": {},
   "cell_type": "code",
   "source": [
    "spooled = np.sqrt(((n1-1)*sd1**2 + (n2-1)*sd2**2) / (n1+n2-2))\n",
    "d = (mean1 - mean2) / spooled\n",
    "print(f\"Cohen's d = {d:.4f}\")"
   ],
   "id": "7205f00da9076f05",
   "outputs": [],
   "execution_count": null
  },
  {
   "metadata": {},
   "cell_type": "markdown",
   "source": "The calculated effect size Cohen’s d = 0.0289 represents a very small difference between the groups.  ",
   "id": "706d7c5c5d52ca68"
  },
  {
   "metadata": {},
   "cell_type": "code",
   "source": [
    "analysis = TTestIndPower()\n",
    "power = analysis.power(effect_size=abs(d), nobs1=n1, ratio=n2/n1, alpha = 0.05)\n",
    "print(f\"Statistical power of the test = {power:.3f}\")"
   ],
   "id": "3487e9e520dd95fe",
   "outputs": [],
   "execution_count": null
  },
  {
   "metadata": {},
   "cell_type": "markdown",
   "source": "The test has only limited ability to reliably detect such small differences in data.",
   "id": "7b2590f9a762745b"
  },
  {
   "metadata": {},
   "cell_type": "code",
   "source": [
    "mde = analysis.solve_power(effect_size=None, nobs1=n1, ratio=n2/n1, alpha=0.05, power=0.8)\n",
    "print(f\"Minimum detectable effect (MDE) = {mde:.3f}\")"
   ],
   "id": "9e93d848940b3a6",
   "outputs": [],
   "execution_count": null
  },
  {
   "metadata": {},
   "cell_type": "markdown",
   "source": [
    "Based on these results, it can be concluded that the difference between respiratory effort levels is not statistically significant and SpO₂ values remain practically stable.  \n",
    "The test therefore confirms that although there is a statistically small shift, its magnitude is negligible from a physiological point of view."
   ],
   "id": "e0d1b79329f0077d"
  },
  {
   "metadata": {},
   "cell_type": "markdown",
   "source": "### Verification of statistical power of the test (H₂ – RR and FiO)",
   "id": "a1f6309b1022503d"
  },
  {
   "metadata": {},
   "cell_type": "code",
   "source": [
    "n1 = len(high_fio2)\n",
    "n2 = len(low_fio2)\n",
    "\n",
    "mean1, mean2 = high_fio2.mean(), low_fio2.mean()\n",
    "sd1, sd2 = high_fio2.std(ddof=1), low_fio2.std(ddof=1)"
   ],
   "id": "97c5f57455a9ca28",
   "outputs": [],
   "execution_count": null
  },
  {
   "metadata": {},
   "cell_type": "code",
   "source": [
    "spooled = np.sqrt(((n1 - 1)*sd1**2 + (n2 - 1)*sd2**2) / (n1 + n2 - 2))\n",
    "d = (mean1 - mean2) / spooled\n",
    "print(f\"Cohen’s d = {d:.4f}\")"
   ],
   "id": "36d5ff5fc76d8784",
   "outputs": [],
   "execution_count": null
  },
  {
   "metadata": {},
   "cell_type": "markdown",
   "source": "The effect size Cohen’s d = –0.0317 represents a very small and practically negligible difference between the groups.  ",
   "id": "3b0e89eb403cf046"
  },
  {
   "metadata": {},
   "cell_type": "code",
   "source": [
    "analysis = TTestIndPower()\n",
    "power = analysis.power(effect_size=abs(d), nobs1=n1, ratio=n2/n1, alpha=0.05)\n",
    "print(f\"Statistical power of the test = {power:.3f}\")"
   ],
   "id": "ccd234606a2ba84e",
   "outputs": [],
   "execution_count": null
  },
  {
   "metadata": {},
   "cell_type": "markdown",
   "source": "Power = 0.383 is low, meaning that the test has only limited ability to reliably detect such small differences.  ",
   "id": "ef8ee59be45548b"
  },
  {
   "metadata": {},
   "cell_type": "code",
   "source": [
    "mde = analysis.solve_power(effect_size=None, nobs1=n1, ratio=n2/n1, alpha=0.05, power=0.8)\n",
    "print(f\"Minimum detectable effect (MDE) = {mde:.3f}\")"
   ],
   "id": "404e5811086d92c3",
   "outputs": [],
   "execution_count": null
  },
  {
   "metadata": {},
   "cell_type": "markdown",
   "source": [
    "Although Welch's t-test and Mann–Whitney test showed a statistically significant difference (p = 0.04), the effect size found is extremely small and therefore has no practical physiological significance.  \n",
    "Although an increase in oxygen concentration (FiO₂) leads to a slight decrease in respiratory rate (RR), this difference is negligible."
   ],
   "id": "e79173da69f37e11"
  },
  {
   "metadata": {},
   "cell_type": "markdown",
   "source": "## Conclusion",
   "id": "5cd27e3b95998640"
  },
  {
   "metadata": {},
   "cell_type": "markdown",
   "source": [
    "There were minor issues with the format and quality of the source data.\n",
    "Some values were of type object, so they were converted to a more suitable type.\n",
    "\n",
    "In the patient dataset, there were missing values in the columns, which were replaced with the category “Unknown” so as not to lose data when deleting.\n",
    "\n",
    "One duplicate record was found in the observation table and was deleted.\n",
    "\n",
    "Rare outliers in the variables were also identified and processed using two methods: IQR deletion and replacement with boundary values (5th and 95th percentiles).\n",
    "\n",
    "No inconsistent values were found in the data. No violations were found when checking the logical relationships between attributes. All values are mutually consistent and within physiologically acceptable ranges.\n",
    "\n",
    "After cleaning, the data does not contain duplicates, missing or incorrect values,\n",
    "making it suitable for further analytical and model processing. "
   ],
   "id": "2ff49eaa71bd4e01"
  }
 ],
 "metadata": {
  "kernelspec": {
   "display_name": "Python 3",
   "language": "python",
   "name": "python3"
  },
  "language_info": {
   "codemirror_mode": {
    "name": "ipython",
    "version": 2
   },
   "file_extension": ".py",
   "mimetype": "text/x-python",
   "name": "python",
   "nbconvert_exporter": "python",
   "pygments_lexer": "ipython2",
   "version": "2.7.6"
  }
 },
 "nbformat": 4,
 "nbformat_minor": 5
}
