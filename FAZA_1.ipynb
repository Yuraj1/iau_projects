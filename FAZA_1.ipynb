{
 "cells": [
  {
   "cell_type": "code",
   "id": "initial_id",
   "metadata": {
    "collapsed": true
   },
   "source": [
    "import pandas as pd\n",
    "import numpy as np\n",
    "import seaborn as sns\n",
    "import matplotlib.pyplot as plt\n",
    "import scipy.stats as stats\n",
    "\n",
    "station = pd.read_csv(\"./094/station.csv\", sep='\\t', engine=\"python\")\n",
    "patient = pd.read_csv(\"./094/patient.csv\", sep='\\t', engine=\"python\")\n",
    "observation = pd.read_csv(\"./094/observation.csv\", sep='\\t', engine=\"python\")\n",
    "\n",
    "print(\"patient.shape =\", patient.shape)\n",
    "print(\"station.shape =\", station.shape)\n",
    "print(\"observation.shape =\", observation.shape)"
   ],
   "outputs": [],
   "execution_count": null
  },
  {
   "metadata": {},
   "cell_type": "markdown",
   "source": "### 1.1 Základný opis dát spolu s ich charakteristikami ",
   "id": "b707721c3608bfac"
  },
  {
   "metadata": {},
   "cell_type": "markdown",
   "source": "### (A-1b)",
   "id": "5801dfea748a4ea3"
  },
  {
   "metadata": {},
   "cell_type": "code",
   "source": [
    "# (A-1b)\n",
    "print(\"patient columns:\", patient.columns.tolist())\n",
    "print(\"station columns:\", station.columns.tolist())\n",
    "print(\"observation columns:\", observation.columns.tolist())"
   ],
   "id": "54413230580c0136",
   "outputs": [],
   "execution_count": null
  },
  {
   "metadata": {},
   "cell_type": "markdown",
   "source": [
    "#### Súbor patient.csv\n",
    "- **Počet záznamov:** 2 102  \n",
    "- **Počet atribútov:** 13  \n",
    "- **Typy dát:** object = 10, int64 = 2, float64 = 1  \n",
    "- **Chýbajúce hodnoty:** spolu ≈ 3 993  \n",
    "  - Najviac chýba: `residence` (100 %), `job` (70 %), `address` (15 %), `current_location` (5 %).  \n",
    "- **Charakteristika:** obsahuje demografické údaje pacientov a odkaz na stanicu (`station_ID`).  \n",
    "  Tento odkaz sa **nedá priamo spárovať** s názvom v `súbore station.csv`.  \n",
    "\n",
    "#### Súbor station.csv\n",
    "- **Počet záznamov:** 798  \n",
    "- **Počet atribútov:** 6  \n",
    "- **Typy dát:** object = 4, float64 = 2  \n",
    "- **Chýbajúce hodnoty:** 0  \n",
    "- **Charakteristika:** obsahuje informácie o meracích staniciach – `station`, `latitude`, `longitude`, `QoS`, `revision`, `location`.  \n",
    "- **Pozorovanie:** hodnoty `revision` majú rôzne formáty dátumov (a časť nevieme správne parsovať) → potrebná normalizácia na jednotný formát `datetime`.\n",
    "\n",
    "#### Súbor observation.csv\n",
    "- **Počet záznamov:** 12 081  \n",
    "- **Počet atribútov:** 23  \n",
    "- **Typy dát:** všetky `float64`  \n",
    "- **Chýbajúce hodnoty:** 0  \n",
    "- **Cieľová premenná:** `oximetry` (binárna 0/1).  \n",
    "- **Dôležité atribúty:** `SpO₂`, `HR`, `Skin Temperature`, `BP`, `CO`, `FiO₂`, atď.  \n",
    "- Hodnoty SpO₂ sú v rozsahu 95 – 100 a Skin Temperature v rozsahu 33 – 38 °C.  \n",
    "- Tieto dáta majú vhodný formát pre ďalšie spracovanie v Python/pandas a na trénovanie modelov.\n"
   ],
   "id": "1c9e60e79f6910dd"
  },
  {
   "metadata": {},
   "cell_type": "code",
   "source": [
    "def dtype_counts(df): \n",
    "    return df.dtypes.astype(str).value_counts().to_dict()\n",
    "\n",
    "summ = {\n",
    "    \"patient\": {\n",
    "        \"shape\": patient.shape,\n",
    "        \"dtype_counts\": dtype_counts(patient),\n",
    "        \"missing_total\": int(patient.isna().sum().sum())\n",
    "    },\n",
    "    \"station\": {\n",
    "        \"shape\": station.shape,\n",
    "        \"dtype_counts\": dtype_counts(station),\n",
    "        \"missing_total\": int(station.isna().sum().sum())\n",
    "    },\n",
    "    \"observation\": {\n",
    "        \"shape\": observation.shape,\n",
    "        \"dtype_counts\": dtype_counts(observation),\n",
    "        \"missing_total\": int(observation.isna().sum().sum())\n",
    "    }\n",
    "}\n",
    "summ\n"
   ],
   "id": "2704728efd1b3b66",
   "outputs": [],
   "execution_count": null
  },
  {
   "metadata": {},
   "cell_type": "markdown",
   "source": [
    "Analýza dát – záznamy a atribúty\n",
    "| Súbor               | Počet záznamov (riadkov) | Počet atribútov (stĺpcov) | Typy dát                            | Počet chýbajúcich hodnôt |\n",
    "| :------------------ | :----------------------: | :-----------------------: | :---------------------------------- | :----------------------: |\n",
    "| **patient.csv**     |           2 102          |             13            | object = 10, int64 = 2, float64 = 1 |           3 993          |\n",
    "| **station.csv**     |            798           |             6             | object = 4, float64 = 2             |             0            |\n",
    "| **observation.csv** |          12 081          |             23            | float64 = 23                        |             0            |\n"
   ],
   "id": "105b97863f34f511"
  },
  {
   "metadata": {},
   "cell_type": "markdown",
   "source": [
    "#### Analýza chýbajúcich hodnôt (EDA)\n",
    "Na základe všetkých vynechaných hodnôt, ktoré som vyššie uviedol, skontrolujeme, čo presne bolo vynechané."
   ],
   "id": "acecf06210942c3d"
  },
  {
   "metadata": {},
   "cell_type": "code",
   "source": [
    "missing_pct = (patient.isna().sum() / len(patient) * 100).round(2).sort_values(ascending=False)\n",
    "missing_pct.head(10)"
   ],
   "id": "b5aedeb28c956a19",
   "outputs": [],
   "execution_count": null
  },
  {
   "metadata": {},
   "cell_type": "markdown",
   "source": [
    "#### Z výpočtu percenta chýbajúcich hodnôt vidíme, že niektoré atribúty obsahujú výrazný počet prázdnych záznamov:\n",
    "residence\t100 %\n",
    "job\t≈ 70 %\n",
    "address\t≈ 15 %\n",
    "current_location\t≈ 5 %"
   ],
   "id": "e6392f36a371593d"
  },
  {
   "metadata": {},
   "cell_type": "markdown",
   "source": "## (B-1b)",
   "id": "1260b7633574e8b0"
  },
  {
   "metadata": {},
   "cell_type": "code",
   "source": [
    "skin_temp = observation[\"Skin Temperature\"]\n",
    "spo = observation[\"SpO₂\"]\n",
    "hr =  observation[\"HR\"]\n",
    "pi = observation[\"PI\"]\n",
    "rr = observation[\"RR\"]  \n",
    "prv = observation[\"PRV\"]\n",
    "bp = observation[\"BP\"]\n",
    "pvi = observation[\"PVI\"]\n",
    "sv = observation[\"SV\"]\n",
    "co = observation[\"CO\"]"
   ],
   "id": "6fb80c6f8d189420",
   "outputs": [],
   "execution_count": null
  },
  {
   "metadata": {},
   "cell_type": "code",
   "source": [
    "cols = [\"Skin Temperature\", \"SpO₂\", \"HR\", \"PI\", \"RR\", \"PRV\", \"BP\", \"PVI\", \"SV\", \"CO\"]\n",
    "observation[cols].describe()"
   ],
   "id": "c1b9a1c0b43e02fa",
   "outputs": [],
   "execution_count": null
  },
  {
   "metadata": {},
   "cell_type": "code",
   "source": [
    "plt.subplot(1, 2, 1)\n",
    "plt.hist(skin_temp, bins=60, edgecolor=\"black\")\n",
    "plt.xlabel(\"Skin Temperature °C\")\n",
    "\n",
    "\n",
    "plt.subplot(1, 2, 2)\n",
    "plt.boxplot(skin_temp)\n",
    "plt.xlabel(\"Skin Temperature °C\")\n",
    "\n",
    "plt.show()\n"
   ],
   "id": "dcf507d87a1e2a0",
   "outputs": [],
   "execution_count": null
  },
  {
   "metadata": {},
   "cell_type": "markdown",
   "source": [
    "The temperature values are in a range 33-38 °C, mean: 35.9 °C and std: 0.84\n",
    "This indicates that measurements are within the normal range and do not vary significantly"
   ],
   "id": "f98068ae8fcd02fc"
  },
  {
   "metadata": {},
   "cell_type": "code",
   "source": [
    "plt.subplot(1, 2, 1)\n",
    "plt.hist(spo, bins=60, edgecolor=\"black\")\n",
    "plt.xlabel(\"SpO %\")\n",
    "\n",
    "\n",
    "plt.subplot(1, 2, 2)\n",
    "plt.boxplot(spo)\n",
    "plt.xlabel(\"SpO %\")\n",
    "\n",
    "plt.show()"
   ],
   "id": "10af09438c9d7166",
   "outputs": [],
   "execution_count": null
  },
  {
   "metadata": {},
   "cell_type": "code",
   "source": [
    "plt.subplot(1, 2, 1)\n",
    "plt.hist(hr, bins=60, edgecolor=\"black\")\n",
    "plt.xlabel(\"HR bpm\")\n",
    "\n",
    "plt.subplot(1, 2, 2)\n",
    "plt.boxplot(hr)\n",
    "plt.xlabel(\"HR bpm\")\n",
    "\n",
    "plt.show()"
   ],
   "id": "bd62a2a91d21a123",
   "outputs": [],
   "execution_count": null
  },
  {
   "metadata": {},
   "cell_type": "code",
   "source": [
    "plt.subplot(1, 2, 1)\n",
    "plt.hist(pi, bins=60, edgecolor=\"black\")\n",
    "plt.xlabel(\"PI %\")\n",
    "\n",
    "plt.subplot(1, 2, 2)\n",
    "plt.boxplot(pi)\n",
    "plt.xlabel(\"PI %\")\n",
    "\n",
    "plt.show()"
   ],
   "id": "5a4c1b721a6483e6",
   "outputs": [],
   "execution_count": null
  },
  {
   "metadata": {},
   "cell_type": "code",
   "source": [
    "plt.subplot(1, 2, 1)\n",
    "plt.hist(rr, bins=60, edgecolor=\"black\")\n",
    "plt.xlabel(\"RR\")\n",
    "\n",
    "plt.subplot(1, 2, 2)\n",
    "plt.boxplot(rr)\n",
    "plt.xlabel(\"RR\")\n",
    "\n",
    "plt.show()"
   ],
   "id": "54777f7d64d061f3",
   "outputs": [],
   "execution_count": null
  },
  {
   "metadata": {},
   "cell_type": "code",
   "source": [
    "plt.subplot(1, 2, 1)\n",
    "plt.hist(prv, bins=60, edgecolor=\"black\")\n",
    "plt.ylabel(\"PRV ms\")\n",
    "\n",
    "plt.subplot(1, 2, 2)\n",
    "plt.boxplot(prv)\n",
    "plt.xlabel(\"PRV ms\")\n",
    "\n",
    "plt.show()"
   ],
   "id": "d3402871494be966",
   "outputs": [],
   "execution_count": null
  },
  {
   "metadata": {},
   "cell_type": "markdown",
   "source": [
    "Pulse rate variability are in a range 20-200ms, mean: 117.62, std: 21.83\n",
    "This indicates that the average value is within the normal range, but some values are widely scattered"
   ],
   "id": "ffe0377f282a4830"
  },
  {
   "metadata": {},
   "cell_type": "code",
   "source": [
    "plt.subplot(1, 2, 1)\n",
    "plt.hist(bp, bins=60, edgecolor=\"black\")\n",
    "plt.xlabel(\"BP\")\n",
    "\n",
    "plt.subplot(1, 2, 2)\n",
    "plt.boxplot(bp)\n",
    "plt.xlabel(\"BP\")\n",
    "\n",
    "plt.show()"
   ],
   "id": "2a418631c8a6a051",
   "outputs": [],
   "execution_count": null
  },
  {
   "metadata": {},
   "cell_type": "code",
   "source": [
    "plt.subplot(1, 2, 1)\n",
    "plt.hist(pvi, bins=60, edgecolor=\"black\")\n",
    "plt.xlabel(\"pvi\")\n",
    "\n",
    "plt.subplot(1, 2, 2)\n",
    "plt.boxplot(pvi)\n",
    "plt.xlabel(\"pvi\")\n",
    "\n",
    "plt.show()"
   ],
   "id": "4e267712dd20d8cc",
   "outputs": [],
   "execution_count": null
  },
  {
   "metadata": {},
   "cell_type": "code",
   "source": [
    "plt.subplot(1, 2, 1)\n",
    "plt.hist(sv, bins=60, edgecolor=\"black\")\n",
    "plt.xlabel(\"sv\")\n",
    "\n",
    "plt.subplot(1, 2, 2)\n",
    "plt.boxplot(sv)\n",
    "plt.xlabel(\"sv\")\n",
    "\n",
    "plt.show()"
   ],
   "id": "8ff1c45bdf807b9c",
   "outputs": [],
   "execution_count": null
  },
  {
   "metadata": {},
   "cell_type": "code",
   "source": [
    "plt.subplot(1, 2, 1)\n",
    "plt.hist(co, bins=60, edgecolor=\"black\")\n",
    "plt.xlabel(\"co\")\n",
    "\n",
    "plt.subplot(1, 2, 2)\n",
    "plt.boxplot(co)\n",
    "plt.xlabel(\"co\")\n",
    "\n",
    "plt.show()"
   ],
   "id": "a086ffea7e1e202a",
   "outputs": [],
   "execution_count": null
  },
  {
   "metadata": {},
   "cell_type": "markdown",
   "source": "## (С-1)",
   "id": "46d80ac3c92d61f1"
  },
  {
   "metadata": {},
   "cell_type": "code",
   "source": "print(patient.columns)",
   "id": "7ca826107984e255",
   "outputs": [],
   "execution_count": null
  },
  {
   "metadata": {},
   "cell_type": "code",
   "source": [
    "numeric = observation.select_dtypes(include=['number'])\n",
    "\n",
    "corr = numeric.corr()\n",
    "\n",
    "plt.figure(figsize=(14,10))\n",
    "sns.heatmap(corr, annot=True, cmap=\"coolwarm\", fmt=\".2f\")\n",
    "plt.title(\"Korelačná matica fyziologických atribútov (observation.csv)\")\n",
    "plt.show()"
   ],
   "id": "37c60b0c8b93faa3",
   "outputs": [],
   "execution_count": null
  },
  {
   "metadata": {},
   "cell_type": "markdown",
   "source": [
    "### Interpretácia výsledkov párovej analýzy dát\n",
    "\n",
    "Z korelačnej matice (obrázok vyššie) je možné identifikovať viacero významných vzťahov medzi fyziologickými atribútmi:\n",
    "\n",
    "- **CO a HR (r = 0.76)** – veľmi silná pozitívna korelácia, ktorá zodpovedá očakávanej závislosti medzi srdcovou frekvenciou a srdcovým výdajom.  \n",
    "- **PVI a Blood Flow Index (r = 0.67)** – silný vzťah medzi variabilitou perfúzie a prietokom krvi.  \n",
    "- **Oximetry a PVI (r = 0.67)** – saturácia kyslíkom úzko súvisí s variabilitou perfúzie.  \n",
    "- **Skin Temperature a PI (r = −0.49)** – negatívna korelácia; s rastúcou teplotou kože klesá perfúzny index.  \n",
    "- **Skin Temperature a Oximetry (r = 0.37)** – mierna pozitívna závislosť, naznačuje možné prepojenie medzi periférnou teplotou a saturáciou.  \n",
    "- Väčšina ostatných atribútov (napr. `latitude`, `longitude`, `SNR`, `PRV`) nevykazuje štatisticky významné lineárne vzťahy.\n",
    "\n",
    "Tieto zistenia poukazujú na fyziologické súvislosti medzi vybranými premennými\n",
    "a pomáhajú určiť, ktoré atribúty môžu byť relevantné pri budúcom modelovaní\n",
    "a predikcii cieľovej premennej `oximetry`.\n"
   ],
   "id": "4a01124e8712547d"
  },
  {
   "metadata": {},
   "cell_type": "code",
   "source": [
    "corr_pairs = corr.unstack().sort_values(ascending=False)\n",
    "corr_pairs = corr_pairs[(corr_pairs < 0.999) & (corr_pairs > -0.999)]\n",
    "print(\"🔝 Top 10 korelácií medzi atribútmi:\\n\")\n",
    "print(corr_pairs.head(10))"
   ],
   "id": "191e6640f86de9dc",
   "outputs": [],
   "execution_count": null
  },
  {
   "metadata": {},
   "cell_type": "code",
   "source": [
    "pairs_to_plot = [\n",
    "    (\"CO\", \"HR\"),\n",
    "    (\"oximetry\", \"PVI\"),\n",
    "    (\"Skin Temperature\", \"oximetry\"),\n",
    "]\n",
    "\n",
    "for x, y in pairs_to_plot:\n",
    "    plt.figure(figsize=(6, 4))\n",
    "    sns.scatterplot(data=observation, x=x, y=y, alpha=0.6)\n",
    "    plt.title(f\"Vzťah medzi {x} a {y}\")\n",
    "    plt.xlabel(x)\n",
    "    plt.ylabel(y)\n",
    "    plt.show()"
   ],
   "id": "1857dd1d190f8cf6",
   "outputs": [],
   "execution_count": null
  },
  {
   "metadata": {},
   "cell_type": "markdown",
   "source": "## (D-1b)",
   "id": "4d5463440e8c116f"
  },
  {
   "metadata": {},
   "cell_type": "code",
   "source": [
    "corr = observation.corr(numeric_only=False)\n",
    "corr['oximetry'].sort_values()"
   ],
   "id": "3a2b99385e067cbb",
   "outputs": [],
   "execution_count": null
  },
  {
   "metadata": {},
   "cell_type": "code",
   "source": [
    "sns.scatterplot(data=observation, x='PVI', y='oximetry')\n",
    "plt.xlabel(\"PVI %\")\n",
    "plt.ylabel(\"oximetry\")"
   ],
   "id": "dedf3f14c6754069",
   "outputs": [],
   "execution_count": null
  },
  {
   "metadata": {},
   "cell_type": "code",
   "source": [
    "sns.scatterplot(data=observation, x='Skin Temperature', y='oximetry')\n",
    "plt.xlabel(\"Skin Temperature °C\")\n",
    "plt.ylabel(\"oximetry\")"
   ],
   "id": "2c0b372ce5c9d6c4",
   "outputs": [],
   "execution_count": null
  },
  {
   "metadata": {},
   "cell_type": "code",
   "source": [
    "sns.scatterplot(data=observation, x='EtCO₂', y='oximetry')\n",
    "plt.xlabel(\"EtCO₂ mmHg\")\n",
    "plt.ylabel(\"oximetry\")"
   ],
   "id": "a40d84b1980a62ee",
   "outputs": [],
   "execution_count": null
  },
  {
   "metadata": {},
   "cell_type": "markdown",
   "source": "## (E-1b)",
   "id": "c35507309886182"
  },
  {
   "metadata": {},
   "cell_type": "markdown",
   "source": "После предварительно анализа можно увидеть что СO и HR зависят между сообой очень сильно (r = 0.76). Наша целевая переменная **oximetry** зависит от PVI (r = 0.66), Skin Temperature (r = 0.368), **$EtCO₂$** (r = 0.281) а так же негативную корреляцию с **$SpO_2$** (r = -0.121). Так же датасеты между собой связывать не надо так как вся информация которая нам нужна уже находиться в датасете **observation**. ",
   "id": "b39e48253cac6906"
  },
  {
   "metadata": {},
   "cell_type": "markdown",
   "source": "## (A-2b)",
   "id": "2f4f57afcac53678"
  },
  {
   "metadata": {},
   "cell_type": "markdown",
   "source": "Check data types",
   "id": "b145eb277b80d7d"
  },
  {
   "metadata": {},
   "cell_type": "code",
   "source": "observation.dtypes",
   "id": "976d973d64f688eb",
   "outputs": [],
   "execution_count": null
  },
  {
   "metadata": {},
   "cell_type": "code",
   "source": "station.dtypes",
   "id": "3a9524c2a3ac0b4e",
   "outputs": [],
   "execution_count": null
  },
  {
   "metadata": {},
   "cell_type": "code",
   "source": "patient.dtypes",
   "id": "963ecf81d40df4cb",
   "outputs": [],
   "execution_count": null
  },
  {
   "metadata": {},
   "cell_type": "markdown",
   "source": "Format data types",
   "id": "2384ab57724a6483"
  },
  {
   "metadata": {},
   "cell_type": "code",
   "source": [
    "station['revision'] = pd.to_datetime(station['revision'], format=\"mixed\")\n",
    "station['station'] = station['station'].astype('string')\n",
    "station['QoS'] = station['QoS'].astype('category')\n",
    "station['location'] = station['location'].astype('string')"
   ],
   "id": "99b9d2d10b604ce2",
   "outputs": [],
   "execution_count": null
  },
  {
   "metadata": {},
   "cell_type": "code",
   "source": [
    "patient['job'] = patient['job'].astype('string')\n",
    "patient['ssn'] = patient['ssn'].astype('string')\n",
    "patient['blood_group'] = patient['blood_group'].astype('category')\n",
    "patient['company'] = patient['company'].astype('string')\n",
    "patient['name'] = patient['name'].astype('string')\n",
    "patient['username'] = patient['username'].astype('string')\n",
    "patient['residence'] = patient['residence'].astype('string')\n",
    "patient['registration'] = patient['registration'].astype('string')\n",
    "patient['address'] = patient['address'].astype('string')\n",
    "patient['mail'] = patient['mail'].astype('string')\n",
    "patient[['longitude', 'latitude']] = (\n",
    "    patient['current_location']\n",
    "    .astype(str)\n",
    "    .str.extract(r\"Decimal\\('([\\d\\.\\-]+)'\\), Decimal\\('([\\d\\.\\-]+)'\\)\")\n",
    "    .astype(float)\n",
    ")\n",
    "patient.drop(columns=['current_location'], inplace=True)"
   ],
   "id": "f596d35d6f1e472a",
   "outputs": [],
   "execution_count": null
  },
  {
   "metadata": {},
   "cell_type": "markdown",
   "source": "Check nulls",
   "id": "f3f6b6ebaf2a1914"
  },
  {
   "metadata": {},
   "cell_type": "code",
   "source": "observation.isnull().sum()",
   "id": "7fbe68f35d3879e1",
   "outputs": [],
   "execution_count": null
  },
  {
   "metadata": {},
   "cell_type": "code",
   "source": "station.isnull().sum()",
   "id": "6a8974d823c14b0d",
   "outputs": [],
   "execution_count": null
  },
  {
   "metadata": {},
   "cell_type": "code",
   "source": "patient.isnull().sum()",
   "id": "db7b97e6520b956f",
   "outputs": [],
   "execution_count": null
  },
  {
   "metadata": {},
   "cell_type": "code",
   "source": [
    "patient['residence'] = patient['residence'].fillna('Unknown')\n",
    "patient['job'] = patient['job'].fillna('Unknown')\n",
    "patient['address'] = patient['address'].fillna('Unknown')\n",
    "patient['longitude'] = patient['longitude'].fillna(0)\n",
    "patient['latitude'] = patient['latitude'].fillna(0)"
   ],
   "id": "fc0d889c4dc43fe",
   "outputs": [],
   "execution_count": null
  },
  {
   "metadata": {},
   "cell_type": "markdown",
   "source": "Check duplicates",
   "id": "287bcdad8ec3f14a"
  },
  {
   "metadata": {},
   "cell_type": "code",
   "source": "observation.duplicated().sum()",
   "id": "e9cf211701c7b9d7",
   "outputs": [],
   "execution_count": null
  },
  {
   "metadata": {},
   "cell_type": "code",
   "source": "observation = observation.drop_duplicates()",
   "id": "89741a6959b61c5e",
   "outputs": [],
   "execution_count": null
  },
  {
   "metadata": {},
   "cell_type": "code",
   "source": "station.duplicated().sum()",
   "id": "1b1b8c9777ad67f",
   "outputs": [],
   "execution_count": null
  },
  {
   "metadata": {},
   "cell_type": "code",
   "source": "patient.duplicated().sum()",
   "id": "b1e53d8b68f3b079",
   "outputs": [],
   "execution_count": null
  },
  {
   "metadata": {},
   "cell_type": "markdown",
   "source": "## (B-2b)",
   "id": "657f298153f837f"
  },
  {
   "metadata": {},
   "cell_type": "code",
   "source": [
    "import re\n",
    "\n",
    "ranges = pd.read_csv(\"./094/sensor_variable_range.csv\", sep=\"\\t\")\n",
    "print(ranges.head())\n",
    "\n",
    "num_pat = re.compile(r\"[-+]?\\d+(?:[.,]\\d+)?\")\n",
    "def parse_range(s):\n",
    "    nums = num_pat.findall(str(s))\n",
    "    if len(nums) >= 2:\n",
    "        a = float(nums[0].replace(\",\", \".\"))\n",
    "        b = float(nums[1].replace(\",\", \".\"))\n",
    "        lo, hi = (a, b) if a <= b else (b, a)\n",
    "        return lo, hi\n",
    "    return np.nan, np.nan\n",
    "\n",
    "ranges[[\"Min\", \"Max\"]] = ranges[\"Value Range\"].apply(lambda r: pd.Series(parse_range(r)))\n",
    "ranges = ranges.dropna(subset=[\"Min\", \"Max\"])\n",
    "ranges.loc[ranges[\"Variable\"] == \"BP\", [\"Min\", \"Max\"]] = [90.0, 120.0]\n",
    "print(ranges[[\"Variable\", \"Min\", \"Max\"]])"
   ],
   "id": "7023933550b6d9e9",
   "outputs": [],
   "execution_count": null
  },
  {
   "metadata": {},
   "cell_type": "code",
   "source": [
    "anomalies = []\n",
    "for _, row in ranges.iterrows():\n",
    "    var = row[\"Variable\"]\n",
    "    low, high = row[\"Min\"], row[\"Max\"]\n",
    "    if var in observation.columns:\n",
    "        vals = pd.to_numeric(observation[var], errors=\"coerce\")\n",
    "        invalid_mask = vals.lt(low) | vals.gt(high)\n",
    "        anomalies.append({\n",
    "            \"Atribút\": var,\n",
    "            \"Počet abnormálnych hodnôt\": int(invalid_mask.sum()),\n",
    "            \"Min povolené\": low,\n",
    "            \"Max povolené\": high,\n",
    "            \"Príklady idx\": list(invalid_mask[invalid_mask].index[:5]) \n",
    "        })\n",
    "\n",
    "anomalies_df = pd.DataFrame(anomalies).sort_values(\"Počet abnormálnych hodnôt\", ascending=False)\n",
    "anomalies_df"
   ],
   "id": "93b7941df567e322",
   "outputs": [],
   "execution_count": null
  },
  {
   "metadata": {},
   "cell_type": "markdown",
   "source": [
    "### Kontrola správnosti v dátach\n",
    "\n",
    "Dáta z *observation.csv* boli porovnané s referenčnými rozsahmi fyziologických parametrov zo *sensor_variable_range.csv*.  \n",
    "V žiadnom z atribútov neboli zistené abnormálne hodnoty mimo definovaných intervalov,  \n",
    "čo naznačuje, že dataset neobsahuje chybné alebo extrémne merania.  \n",
    "\n",
    "Pre istotu bola ďalej vykonaná kontrola nelogických kombinácií hodnôt\n",
    "(vzťahov medzi atribútmi), ktoré by mohli naznačovať chyby senzora alebo anotácie."
   ],
   "id": "86bc68a2103f614f"
  },
  {
   "metadata": {},
   "cell_type": "code",
   "source": [
    "logic_errors = []\n",
    "\n",
    "# Давление = 0 при наличии пульса — сенсорная ошибка\n",
    "if \"BP\" in observation.columns and \"HR\" in observation.columns:\n",
    "    mask = (observation[\"BP\"] == 0) & (observation[\"HR\"] > 0)\n",
    "    logic_errors.append((\"BP = 0 a HR > 0\", mask.sum()))\n",
    "\n",
    "# Проверка согласованности сердечного выброса: CO ≈ HR × SV / 1000\n",
    "if all(col in observation.columns for col in [\"CO\", \"HR\", \"SV\"]):\n",
    "    co_est = observation[\"HR\"] * observation[\"SV\"] / 1000.0\n",
    "    mask = (observation[\"CO\"] - co_est).abs() > 0.5 * co_est.fillna(0).abs()\n",
    "    logic_errors.append((\"|CO - HR*SV/1000| > 30%\", mask.sum()))\n",
    "\n",
    "# Высокое качество сигнала, но низкий SNR — нелогично\n",
    "if \"Signal Quality Index\" in observation.columns and \"SNR\" in observation.columns:\n",
    "    mask = (observation[\"Signal Quality Index\"] >= 80) & (observation[\"SNR\"] < 20)\n",
    "    logic_errors.append((\"Signal Quality Index ≥ 80 a SNR < 20\", mask.sum()))\n",
    "\n",
    "# Низкое качество сигнала, но идеальная SpO₂ — подозрительно\n",
    "if \"Signal Quality Index\" in observation.columns and \"SpO₂\" in observation.columns:\n",
    "    mask = (observation[\"Signal Quality Index\"] <= 10) & (observation[\"SpO₂\"] >= 99)\n",
    "    logic_errors.append((\"Signal Quality Index ≤ 10 a SpO₂ ≥ 99\", mask.sum()))\n",
    "\n",
    "# Комнатный кислород (FiO₂ ≈ 21%), но низкая SpO₂ — возможная ошибка\n",
    "if \"FiO₂\" in observation.columns and \"SpO₂\" in observation.columns:\n",
    "    mask = (observation[\"FiO₂\"] <= 22) & (observation[\"SpO₂\"] < 85)\n",
    "    logic_errors.append((\"FiO₂ ≈ 21% a SpO₂ < 85%\", mask.sum()))\n",
    "\n",
    "# Геокоординаты вне допустимого диапазона\n",
    "if \"latitude\" in observation.columns and \"longitude\" in observation.columns:\n",
    "    mask = (\n",
    "        observation[\"latitude\"].lt(-90)\n",
    "        | observation[\"latitude\"].gt(90)\n",
    "        | observation[\"longitude\"].lt(-180)\n",
    "        | observation[\"longitude\"].gt(180)\n",
    "    )\n",
    "    logic_errors.append((\"Latitude/Longitude mimo rozsah\", mask.sum()))\n",
    "\n",
    "# Бонус: RR и EtCO₂ не должны расходиться более чем на порядок\n",
    "if \"RR\" in observation.columns and \"EtCO₂\" in observation.columns:\n",
    "    mask = (observation[\"RR\"] > 40) & (observation[\"EtCO₂\"] < 20)\n",
    "    logic_errors.append((\"RR > 40 a EtCO₂ < 20\", mask.sum()))\n",
    "\n",
    "logic_df = pd.DataFrame(logic_errors, columns=[\"Podmienka\", \"Počet porušení\"])\n",
    "logic_df"
   ],
   "id": "28cadeba0a92afc8",
   "outputs": [],
   "execution_count": null
  },
  {
   "metadata": {},
   "cell_type": "markdown",
   "source": [
    "### Kontrola správnosti v dátach\n",
    "\n",
    "Na základe referenčných rozsahov zo súboru *sensor_variable_range.csv* bola vykonaná kontrola správnosti hodnôt v datasete *observation.csv*.\n",
    "\n",
    "- Neboli zistené žiadne **abnormálne hodnoty** mimo povolených fyziologických intervalov.\n",
    "- Následne bola vykonaná aj **kontrola logických vzťahov** medzi atribútmi:\n",
    "  - `BP = 0 a HR > 0`\n",
    "  - `|CO – HR×SV/1000| > 30 %`\n",
    "  - `Signal Quality Index ≥ 80 a SNR < 20`\n",
    "  - `Signal Quality Index ≤ 10 a SpO₂ ≥ 99`\n",
    "  - `FiO₂ ≈ 21 % a SpO₂ < 85 %`\n",
    "  - `Latitude/Longitude mimo rozsah`\n",
    "  - `RR > 40 a EtCO₂ < 20`\n",
    "\n",
    "Všetky podmienky mali **0 porušení**, čo znamená, že dataset neobsahuje nelogické alebo chybné kombinácie údajov.  \n",
    "Dáta sú teda **konzistentné, bez anomálií** a vhodné na ďalšiu fázu projektu – analýzu vzťahov (C-1) a modelovanie cieľovej premennej `oximetry`."
   ],
   "id": "7123a3781ee19f5c"
  },
  {
   "metadata": {},
   "cell_type": "markdown",
   "source": "## (C-1b) ",
   "id": "538119273a99c20c"
  },
  {
   "metadata": {},
   "cell_type": "code",
   "source": [
    "def identify_outliers(a):\n",
    "    lower = a.quantile(0.25) - 1.5 * stats.iqr(a)\n",
    "    upper = a.quantile(0.75) + 1.5 * stats.iqr(a)\n",
    "    \n",
    "    return a[(a > upper) | (a < lower)]"
   ],
   "id": "3a4d9a2651538ca1",
   "outputs": [],
   "execution_count": null
  },
  {
   "metadata": {},
   "cell_type": "code",
   "source": [
    "co_out = identify_outliers(co)\n",
    "co = co.drop(co_out.index)\n",
    "\n",
    "pvi_out = identify_outliers(pvi)\n",
    "pvi = pvi.drop(pvi_out.index)\n",
    "\n",
    "sv_out = identify_outliers(sv)\n",
    "sv = sv.drop(sv_out.index)\n",
    "\n",
    "bp_out = identify_outliers(bp)\n",
    "bp = bp.drop(bp_out.index)"
   ],
   "id": "d7661c630f19c2ae",
   "outputs": [],
   "execution_count": null
  },
  {
   "metadata": {},
   "cell_type": "code",
   "source": [
    "plt.figure(figsize=(10, 8))\n",
    "plt.subplot(2, 4, 1)\n",
    "plt.hist(pvi, bins=60, edgecolor=\"black\")\n",
    "plt.xlabel(\"pvi\")\n",
    "\n",
    "plt.subplot(2, 4, 2)\n",
    "plt.boxplot(pvi)\n",
    "plt.xlabel(\"pvi\")\n",
    "\n",
    "plt.subplot(2, 4, 3)\n",
    "plt.hist(co, bins=60, edgecolor=\"black\")\n",
    "plt.xlabel(\"co\")\n",
    "\n",
    "plt.subplot(2, 4, 4)\n",
    "plt.boxplot(co)\n",
    "plt.xlabel(\"co\")\n",
    "\n",
    "plt.subplot(2, 4, 5)\n",
    "plt.hist(sv, bins=60, edgecolor=\"black\")\n",
    "plt.xlabel(\"sv\")\n",
    "\n",
    "plt.subplot(2, 4, 6)\n",
    "plt.boxplot(sv)\n",
    "plt.xlabel(\"sv\")\n",
    "\n",
    "plt.subplot(2, 4, 7)\n",
    "plt.hist(bp, bins=60, edgecolor=\"black\")\n",
    "plt.xlabel(\"BP\")\n",
    "\n",
    "plt.subplot(2, 4, 8)\n",
    "plt.boxplot(bp)\n",
    "plt.xlabel(\"BP\")\n",
    "\n",
    "\n",
    "plt.show()"
   ],
   "id": "9192c1ca551771f9",
   "outputs": [],
   "execution_count": null
  },
  {
   "metadata": {},
   "cell_type": "code",
   "source": [
    "def replace_outliers(a):\n",
    "    lower = a.quantile(0.05)\n",
    "    upper = a.quantile(0.95)\n",
    "    \n",
    "    clipped = a.clip(lower, upper)\n",
    "    \n",
    "    return clipped"
   ],
   "id": "5dbc65e810855a0",
   "outputs": [],
   "execution_count": null
  },
  {
   "metadata": {},
   "cell_type": "code",
   "source": [
    "prv = replace_outliers(prv)\n",
    "\n",
    "skin_temp = replace_outliers(skin_temp)\n",
    "\n",
    "hr = replace_outliers(hr)\n",
    "\n",
    "spo = replace_outliers(spo)"
   ],
   "id": "1af79f8276e95ee5",
   "outputs": [],
   "execution_count": null
  },
  {
   "metadata": {},
   "cell_type": "code",
   "source": [
    "plt.figure(figsize=(10, 8))\n",
    "plt.subplot(2, 4, 1)\n",
    "plt.hist(prv, bins=60, edgecolor=\"black\")\n",
    "plt.ylabel(\"PRV ms\")\n",
    "\n",
    "plt.subplot(2, 4, 2)\n",
    "plt.boxplot(prv)\n",
    "plt.xlabel(\"PRV ms\")\n",
    "\n",
    "plt.subplot(2, 4, 3)\n",
    "plt.hist(skin_temp, bins=60, edgecolor=\"black\")\n",
    "plt.xlabel(\"Skin Temperature °C\")\n",
    "\n",
    "plt.subplot(2, 4, 4)\n",
    "plt.boxplot(skin_temp)\n",
    "plt.xlabel(\"Skin Temperature °C\")\n",
    "\n",
    "plt.subplot(2, 4, 5)\n",
    "plt.hist(hr, bins=60, edgecolor=\"black\")\n",
    "plt.xlabel(\"HR bpm\")\n",
    "\n",
    "plt.subplot(2, 4, 6)\n",
    "plt.boxplot(hr)\n",
    "plt.xlabel(\"HR bpm\")\n",
    "\n",
    "plt.subplot(2, 4, 7)\n",
    "plt.hist(spo, bins=60, edgecolor=\"black\")\n",
    "plt.xlabel(\"SpO %\")\n",
    "\n",
    "\n",
    "plt.subplot(2, 4, 8)\n",
    "plt.boxplot(spo)\n",
    "plt.xlabel(\"SpO %\")\n",
    "\n",
    "plt.show()"
   ],
   "id": "42cf8129abb53f86",
   "outputs": [],
   "execution_count": null
  },
  {
   "metadata": {},
   "cell_type": "code",
   "source": "",
   "id": "b9d526dfacd42271",
   "outputs": [],
   "execution_count": null
  },
  {
   "metadata": {},
   "cell_type": "markdown",
   "source": "# 1.3",
   "id": "f7750fd1f9aaa943"
  },
  {
   "metadata": {},
   "cell_type": "markdown",
   "source": "SpO₂ má v priemere nižšiu hodnotu pri vyššej respiračnej námahe. Рівень насичення крові киснем (SpO₂) є нижчим під час високого дихального навантаження.",
   "id": "2f74dceb817335f2"
  },
  {
   "metadata": {},
   "cell_type": "code",
   "source": [
    "low_effort = observation.loc[observation[\"Respiratory effort\"] <= observation[\"Respiratory effort\"].median(), \"SpO₂\"]\n",
    "high_effort = observation.loc[observation[\"Respiratory effort\"] > observation[\"Respiratory effort\"].median(), \"SpO₂\"]\n",
    "print(\"Priemer SpO₂ pri nízkej námahe:\", low_effort.mean())\n",
    "print(\"Priemer SpO₂ pri vysokej námahe:\", high_effort.mean())"
   ],
   "id": "31f086b0996e080d",
   "outputs": [],
   "execution_count": null
  },
  {
   "metadata": {},
   "cell_type": "code",
   "source": [
    "sh_low = stats.shapiro(low_effort.sample(5000, random_state=0))\n",
    "sh_high = stats.shapiro(high_effort.sample(5000, random_state=0))\n",
    "print(\"Shapiro p (low):\", sh_low.pvalue)\n",
    "print(\"Shapiro p (high):\", sh_high.pvalue)"
   ],
   "id": "bc7e449fee522453",
   "outputs": [],
   "execution_count": null
  },
  {
   "metadata": {},
   "cell_type": "markdown",
   "source": [
    "Shapiro-Wilk test ukázal, že dáta pri nízkej námahe sú normálne rozdelené (p = 0.065 > 0.05),\n",
    "zatiaľ čo pri vysokej námahe sa rozdelenie odlišuje od normálneho (p = 0.000008 < 0.05).\n",
    "Preto bol okrem t-testu použitý aj neparametrický Mann–Whitney test."
   ],
   "id": "4f546ee98a4e6e14"
  },
  {
   "metadata": {},
   "cell_type": "code",
   "source": [
    "lev = stats.levene(low_effort, high_effort)\n",
    "print(\"Levene p:\", lev.pvalue)"
   ],
   "id": "d71df25618dae3e9",
   "outputs": [],
   "execution_count": null
  },
  {
   "metadata": {},
   "cell_type": "markdown",
   "source": [
    "Levene test (p = 0.537 > 0.05) potvrdil, že variancie medzi skupinami sú rovnaké.\n",
    "Tým pádom možno použiť štandardný Welchov t-test, ktorý nepredpokladá presne rovnaké variancie, ale je robustný voči menším rozdielom."
   ],
   "id": "3872985a295d6866"
  },
  {
   "metadata": {},
   "cell_type": "code",
   "source": [
    "t, p = stats.ttest_ind(low_effort, high_effort, equal_var=False, nan_policy=\"omit\")\n",
    "print(f\"t = {t:.3f}, p = {p/2:.4f} (jednostranný test, očakávame nižšiu SpO₂ pri vysokej námahe)\")"
   ],
   "id": "7318fb3374247766",
   "outputs": [],
   "execution_count": null
  },
  {
   "metadata": {},
   "cell_type": "markdown",
   "source": "Welchov t-test (t = –0.711, p = 0.239 > 0.05) nepreukázal štatisticky významný rozdiel medzi priemermi SpO₂ pri nízkej a vysokej námahe.\n",
   "id": "3ab6b21c6f5887c6"
  },
  {
   "metadata": {},
   "cell_type": "code",
   "source": [
    "u, p_mwu = stats.mannwhitneyu(low_effort, high_effort, alternative=\"less\")\n",
    "print(f\"Mann-Whitney p(one-sided) = {p_mwu:.4f}\")"
   ],
   "id": "3c7d0bc533fc88e5",
   "outputs": [],
   "execution_count": null
  },
  {
   "metadata": {},
   "cell_type": "markdown",
   "source": "Mann–Whitney U test (p = 0.147 > 0.05) taktiež nepreukázal štatisticky významný rozdiel medzi skupinami. Hypotéza, že SpO₂ je nižšia pri vysokej námahe, sa nepotvrdila",
   "id": "bdf774d6120bf0c1"
  },
  {
   "metadata": {},
   "cell_type": "markdown",
   "source": [
    "Hypotéza H1 (SpO₂ má v priemere nižšiu hodnotu pri vyššej respiračnej námahe) nebola potvrdená.\n",
    "Test normality ukázal, že údaje pri vysokej námahe sa odchyľujú od normálneho rozdelenia (Shapiro p < 0.05),\n",
    "preto bol okrem t-testu použitý aj neparametrický Mann-Whitney test.\n",
    "Ani jeden test nepreukázal štatisticky významný rozdiel medzi skupinami (t = –0.71, p = 0.24; U-test p = 0.15).\n",
    "Hodnoty SpO₂ ostali stabilné bez ohľadu na úroveň respiračnej námahy."
   ],
   "id": "e870cdae19cf7b05"
  },
  {
   "metadata": {},
   "cell_type": "markdown",
   "source": [
    "RR má v priemere nizsiu hodnotu pri vyššej FiO₂\n",
    "(тобто очікуємо, що частота дихання буде меншою при вищій концентрації кисню)"
   ],
   "id": "df7ae2fd786db0b1"
  },
  {
   "metadata": {},
   "cell_type": "code",
   "source": [
    "high_fio2 = observation.loc[observation[\"FiO₂\"] > observation[\"FiO₂\"].median(), \"RR\"]\n",
    "low_fio2 = observation.loc[observation[\"FiO₂\"] <= observation[\"FiO₂\"].median(), \"RR\"]\n",
    "print(\"Priemer RR pri nižšej FiO₂:\", low_fio2.mean())\n",
    "print(\"Priemer RR pri vyššej FiO₂:\", high_fio2.mean())"
   ],
   "id": "900e4357adef1c41",
   "outputs": [],
   "execution_count": null
  },
  {
   "metadata": {},
   "cell_type": "code",
   "source": [
    "sh_low = stats.shapiro(low_fio2.sample(5000, random_state=0))\n",
    "sh_high = stats.shapiro(high_fio2.sample(5000, random_state=0))\n",
    "print(\"Shapiro p (low):\", sh_low.pvalue)\n",
    "print(\"Shapiro p (high):\", sh_high.pvalue)"
   ],
   "id": "a6491d3b5516b44e",
   "outputs": [],
   "execution_count": null
  },
  {
   "metadata": {},
   "cell_type": "markdown",
   "source": [
    "Обидва p > 0.05, тобто розподіл нормальний.\n",
    "→ можна спокійно використовувати parametrický t-test."
   ],
   "id": "daafa7defc872db6"
  },
  {
   "metadata": {},
   "cell_type": "code",
   "source": [
    "lev = stats.levene(low_fio2, high_fio2)\n",
    "print(\"Levene p:\", lev.pvalue)"
   ],
   "id": "5e25c8686a8fc",
   "outputs": [],
   "execution_count": null
  },
  {
   "metadata": {},
   "cell_type": "markdown",
   "source": "p > 0.05, тобто дисперсії між групами не різняться суттєво.",
   "id": "94b46ef98345e21d"
  },
  {
   "metadata": {},
   "cell_type": "code",
   "source": [
    "u, p_mwu = stats.mannwhitneyu(high_fio2, low_fio2, alternative=\"greater\")\n",
    "print(f\"Mann-Whitney p(one-sided)={p_mwu:.4f}\")"
   ],
   "id": "99f9c37107992813",
   "outputs": [],
   "execution_count": null
  },
  {
   "metadata": {},
   "cell_type": "markdown",
   "source": "Це означає, що за не параметричним тестом різниця не підтвердилась (p > 0.05). Тобто розподіли між групами майже однакові.",
   "id": "8e9126188a046e04"
  },
  {
   "metadata": {},
   "cell_type": "code",
   "source": [
    "t, p = stats.ttest_ind(high_fio2, low_fio2, equal_var=False, nan_policy=\"omit\")\n",
    "print(f\"t = {t:.3f}, p = {p/2:.4f} (jednostranný test, očakávame vyššiu RR pri vyššej FiO₂)\")"
   ],
   "id": "6ea7879646d6f88a",
   "outputs": [],
   "execution_count": null
  },
  {
   "metadata": {},
   "cell_type": "markdown",
   "source": [
    "Hypotéza H5 (RR má v priemere n hodnotu pri vyššej FiO₂) bola čiastočne potvrdená.\n",
    "Výsledky testov ukázali, že údaje majú normálne rozdelenie (Shapiro p > 0.05) a rovnakú varianciu (Levene p = 0.33).\n",
    "Welchov t-test preukázal štatisticky významný rozdiel medzi skupinami (t = –1.70, p = 0.046).\n",
    "Mann-Whitney test tento výsledok nepotvrdil (p = 0.96)."
   ],
   "id": "24fc4e401829195e"
  },
  {
   "metadata": {},
   "cell_type": "markdown",
   "source": "# (B - 1)\n",
   "id": "2bf57d30ab7d9c18"
  },
  {
   "metadata": {},
   "cell_type": "markdown",
   "source": "(RR vs FiO2)",
   "id": "a1f6309b1022503d"
  },
  {
   "metadata": {},
   "cell_type": "code",
   "source": [
    "from statsmodels.stats.power import TTestIndPower\n",
    "n1 = len(high_fio2)\n",
    "n2 = len(low_fio2)\n",
    "\n",
    "mean1, mean2 = high_fio2.mean(), low_fio2.mean()\n",
    "sd1, sd2 = high_fio2.std(ddof=1), low_fio2.std(ddof=1)"
   ],
   "id": "97c5f57455a9ca28",
   "outputs": [],
   "execution_count": null
  },
  {
   "metadata": {},
   "cell_type": "code",
   "source": [
    "spooled = np.sqrt(((n1 - 1)*sd1**2 + (n2 - 1)*sd2**2) / (n1 + n2 - 2))\n",
    "d = (mean1 - mean2) / spooled\n",
    "print(f\"Cohen’s d = {d:.4f}\")"
   ],
   "id": "36d5ff5fc76d8784",
   "outputs": [],
   "execution_count": null
  },
  {
   "metadata": {},
   "cell_type": "code",
   "source": [
    "analysis = TTestIndPower()\n",
    "power = analysis.power(effect_size=abs(d), nobs1=n1, ratio=n2/n1, alpha=0.05)\n",
    "print(f\"Štatistická sila testu (power) = {power:.3f}\")"
   ],
   "id": "ccd234606a2ba84e",
   "outputs": [],
   "execution_count": null
  },
  {
   "metadata": {},
   "cell_type": "code",
   "source": [
    "mde = analysis.solve_power(effect_size=None, nobs1=n1, ratio=n2/n1, alpha=0.05, power=0.8)\n",
    "print(f\"Minimálny detekovateľný efekt (MDE) pri sile 0.8 = {mde:.3f}\")"
   ],
   "id": "404e5811086d92c3",
   "outputs": [],
   "execution_count": null
  },
  {
   "metadata": {},
   "cell_type": "markdown",
   "source": [
    "Pre hypotezu H2, aj keď t-test preukázal štatisticky významný rozdiel medzi skupinami (p = 0.046),\n",
    "vypočítaná veľkosť efektu Cohen’s d = 0.03 naznačuje, že rozdiel je veľmi malý.\n",
    "Štatistická sila testu (power = 0.398) bola nižšia ako odporúčaná hodnota 0.8,\n",
    "čo znamená, že test má len obmedzenú schopnosť spoľahlivo zachytiť takéto malé rozdiely.\n",
    "Výsledok je teda štatisticky významný, ale prakticky zanedbateľný –\n",
    "rozdiel medzi skupinami existuje, no jeho veľkosť nemá reálny fyziologický význam."
   ],
   "id": "e79173da69f37e11"
  },
  {
   "metadata": {},
   "cell_type": "code",
   "source": [
    "n1 = len(high_effort)\n",
    "n2 = len(low_effort)\n",
    "mean1, mean2 = high_effort.mean(), low_effort.mean()\n",
    "sd1, sd2 = high_effort.std(ddof=1), low_effort.std(ddof=1)\n"
   ],
   "id": "e74982d34399cb29",
   "outputs": [],
   "execution_count": null
  },
  {
   "metadata": {},
   "cell_type": "code",
   "source": [
    "spooled = np.sqrt(((n1-1)*sd1**2 + (n2-1)*sd2**2) / (n1+n2-2))\n",
    "d = (mean1 - mean2) / spooled\n",
    "print(f\"Cohen's d = {d:.4f}\")"
   ],
   "id": "3cdb50397b6a5b20",
   "outputs": [],
   "execution_count": null
  },
  {
   "metadata": {},
   "cell_type": "code",
   "source": [
    "analysis = TTestIndPower()\n",
    "power = analysis.power(effect_size=abs(d), nobs1=n1, ratio=n2/n1, alpha=0.05)\n",
    "print(f\"Štatistická sila testu (power) = {power:.3f}\")"
   ],
   "id": "1882f18d4c0758d",
   "outputs": [],
   "execution_count": null
  },
  {
   "metadata": {},
   "cell_type": "code",
   "source": [
    "mde = analysis.solve_power(effect_size=None, nobs1=n1, ratio=n2/n1, alpha=0.05, power=0.8)\n",
    "print(f\"Minimálny detekovateľný efekt (MDE) pri sile 0.8 = {mde:.3f}\")"
   ],
   "id": "4fe03f98c9586269",
   "outputs": [],
   "execution_count": null
  },
  {
   "metadata": {},
   "cell_type": "markdown",
   "source": [
    "Pre hypotézu H1 (SpO₂ má v priemere nižšiu hodnotu pri vyššej respiračnej námahe) bola vypočítaná veľkosť efektu Cohen’s d = 0.013, čo predstavuje zanedbateľný rozdiel medzi skupinami.\n",
    "Štatistická sila testu (power = 0.110) bola nízka, čo znamená, že test nemá dostatočnú citlivosť na zachytenie veľmi malých rozdielov.\n",
    "Minimálny detekovateľný efekt (MDE) bol 0.051, teda test by spoľahlivo zachytil len väčšie rozdiely, než sa reálne v dátach vyskytli.\n",
    "Na základe toho možno konštatovať, že rozdiel medzi úrovňami respiračnej námahy nie je štatisticky významný a hodnoty SpO₂ zostávajú prakticky rovnaké."
   ],
   "id": "ee78942cc7b6ab18"
  }
 ],
 "metadata": {
  "kernelspec": {
   "display_name": "Python 3",
   "language": "python",
   "name": "python3"
  },
  "language_info": {
   "codemirror_mode": {
    "name": "ipython",
    "version": 2
   },
   "file_extension": ".py",
   "mimetype": "text/x-python",
   "name": "python",
   "nbconvert_exporter": "python",
   "pygments_lexer": "ipython2",
   "version": "2.7.6"
  }
 },
 "nbformat": 4,
 "nbformat_minor": 5
}
