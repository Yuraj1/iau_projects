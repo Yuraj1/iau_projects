{
 "cells": [
  {
   "metadata": {},
   "cell_type": "code",
   "source": [
    "import pandas as pd\n",
    "import numpy as np\n",
    "import matplotlib.pyplot as plt\n",
    "import seaborn as sns\n",
    "from sympy import false\n",
    "\n",
    "station = pd.read_csv(\"./094/station.csv\", sep='\\t')\n",
    "patient = pd.read_csv(\"./094/patient.csv\", sep='\\t')\n",
    "observation = pd.read_csv(\"./094/observation.csv\", sep='\\t')"
   ],
   "id": "800590670f2fc816",
   "outputs": [],
   "execution_count": null
  },
  {
   "metadata": {},
   "cell_type": "markdown",
   "source": "(B-1b)",
   "id": "7fa5fba52e21d739"
  },
  {
   "metadata": {},
   "cell_type": "code",
   "source": [
    "skin_temp = observation[\"Skin Temperature\"]\n",
    "spo = observation[\"SpO₂\"]\n",
    "hr =  observation[\"HR\"]\n",
    "pi = observation[\"PI\"]\n",
    "rr = observation[\"RR\"]  \n",
    "prv = observation[\"PRV\"]\n",
    "bp = observation[\"BP\"]\n",
    "pvi = observation[\"PVI\"]\n",
    "sv = observation[\"SV\"]\n",
    "co = observation[\"CO\"]"
   ],
   "id": "bbe33cca6d8c82b5",
   "outputs": [],
   "execution_count": null
  },
  {
   "metadata": {},
   "cell_type": "code",
   "source": [
    "cols = [\"Skin Temperature\", \"SpO₂\", \"HR\", \"PI\", \"RR\", \"PRV\", \"BP\", \"PVI\", \"SV\", \"CO\"]\n",
    "observation[cols].describe()"
   ],
   "id": "2d792ddd5962b410",
   "outputs": [],
   "execution_count": null
  },
  {
   "metadata": {},
   "cell_type": "code",
   "source": [
    "plt.subplot(1, 2, 1)\n",
    "plt.hist(skin_temp, bins=60, edgecolor=\"black\")\n",
    "plt.xlabel(\"Skin Temperature °C\")\n",
    "\n",
    "\n",
    "plt.subplot(1, 2, 2)\n",
    "plt.boxplot(skin_temp)\n",
    "plt.xlabel(\"Skin Temperature °C\")\n",
    "\n",
    "plt.show()\n",
    "# The temperature values are in a range 33-38 °C, mean: 35.9 °C and std: 0.84\n",
    "# This indicates that measurements are within the normal range and do not vary significantly"
   ],
   "id": "3b9bec2e920607f7",
   "outputs": [],
   "execution_count": null
  },
  {
   "metadata": {},
   "cell_type": "code",
   "source": [
    "plt.subplot(1, 2, 1)\n",
    "plt.hist(spo, bins=60, edgecolor=\"black\")\n",
    "plt.xlabel(\"SpO %\")\n",
    "\n",
    "\n",
    "plt.subplot(1, 2, 2)\n",
    "plt.boxplot(spo)\n",
    "plt.xlabel(\"SpO %\")\n",
    "\n",
    "plt.show()"
   ],
   "id": "ab3cb1337d6ab895",
   "outputs": [],
   "execution_count": null
  },
  {
   "metadata": {},
   "cell_type": "code",
   "source": [
    "plt.subplot(1, 2, 1)\n",
    "plt.hist(hr, bins=60, edgecolor=\"black\")\n",
    "plt.xlabel(\"HR bpm\")\n",
    "\n",
    "plt.subplot(1, 2, 2)\n",
    "plt.boxplot(hr)\n",
    "plt.xlabel(\"HR bpm\")\n",
    "\n",
    "plt.show()"
   ],
   "id": "27b1f9e9d23fd620",
   "outputs": [],
   "execution_count": null
  },
  {
   "metadata": {},
   "cell_type": "code",
   "source": [
    "plt.subplot(1, 2, 1)\n",
    "plt.hist(pi, bins=60, edgecolor=\"black\")\n",
    "plt.xlabel(\"PI %\")\n",
    "\n",
    "plt.subplot(1, 2, 2)\n",
    "plt.boxplot(pi)\n",
    "plt.xlabel(\"PI %\")\n",
    "\n",
    "plt.show()"
   ],
   "id": "42a9ccd275789782",
   "outputs": [],
   "execution_count": null
  },
  {
   "metadata": {},
   "cell_type": "code",
   "source": [
    "plt.subplot(1, 2, 1)\n",
    "plt.hist(rr, bins=60, edgecolor=\"black\")\n",
    "plt.xlabel(\"RR\")\n",
    "\n",
    "plt.subplot(1, 2, 2)\n",
    "plt.boxplot(rr)\n",
    "plt.xlabel(\"RR\")\n",
    "\n",
    "plt.show()"
   ],
   "id": "72e2754acb971ef5",
   "outputs": [],
   "execution_count": null
  },
  {
   "metadata": {},
   "cell_type": "code",
   "source": [
    "plt.subplot(1, 2, 1)\n",
    "plt.hist(prv, bins=60, edgecolor=\"black\")\n",
    "plt.ylabel(\"PRV ms\")\n",
    "\n",
    "plt.subplot(1, 2, 2)\n",
    "plt.boxplot(prv)\n",
    "plt.xlabel(\"PRV ms\")\n",
    "\n",
    "plt.show()\n",
    "# Pulse rate variability are in a range 20-200ms, mean: 117.62, std: 21.83\n",
    "# This indicates that the average value is within the normal range, but some values are widely scattered"
   ],
   "id": "79d69b5c85a5cd56",
   "outputs": [],
   "execution_count": null
  },
  {
   "metadata": {},
   "cell_type": "code",
   "source": [
    "plt.subplot(1, 2, 1)\n",
    "plt.hist(bp, bins=60, edgecolor=\"black\")\n",
    "plt.xlabel(\"BP\")\n",
    "\n",
    "plt.subplot(1, 2, 2)\n",
    "plt.boxplot(bp)\n",
    "plt.xlabel(\"BP\")\n",
    "\n",
    "plt.show()"
   ],
   "id": "98504df98c56520b",
   "outputs": [],
   "execution_count": null
  },
  {
   "metadata": {},
   "cell_type": "code",
   "source": [
    "plt.subplot(1, 2, 1)\n",
    "plt.hist(pvi, bins=60, edgecolor=\"black\")\n",
    "plt.xlabel(\"pvi\")\n",
    "\n",
    "plt.subplot(1, 2, 2)\n",
    "plt.boxplot(pvi)\n",
    "plt.xlabel(\"pvi\")\n",
    "\n",
    "plt.show()"
   ],
   "id": "1a84bcf28c14d055",
   "outputs": [],
   "execution_count": null
  },
  {
   "metadata": {},
   "cell_type": "code",
   "source": [
    "plt.subplot(1, 2, 1)\n",
    "plt.hist(sv, bins=60, edgecolor=\"black\")\n",
    "plt.xlabel(\"sv\")\n",
    "\n",
    "plt.subplot(1, 2, 2)\n",
    "plt.boxplot(sv)\n",
    "plt.xlabel(\"sv\")\n",
    "\n",
    "plt.show()"
   ],
   "id": "3fadbdf8e7ce6b77",
   "outputs": [],
   "execution_count": null
  },
  {
   "metadata": {},
   "cell_type": "code",
   "source": [
    "plt.subplot(1, 2, 1)\n",
    "plt.hist(co, bins=60, edgecolor=\"black\")\n",
    "plt.xlabel(\"co\")\n",
    "\n",
    "plt.subplot(1, 2, 2)\n",
    "plt.boxplot(co)\n",
    "plt.xlabel(\"co\")\n",
    "\n",
    "plt.show()"
   ],
   "id": "221a2844cb871a35",
   "outputs": [],
   "execution_count": null
  },
  {
   "metadata": {},
   "cell_type": "markdown",
   "source": "## (D-1b)",
   "id": "961a511de544d7a3"
  },
  {
   "metadata": {},
   "cell_type": "code",
   "source": [
    "corr = observation.corr(numeric_only=False)\n",
    "corr['oximetry'].sort_values()"
   ],
   "id": "8c6b61993fb82f5f",
   "outputs": [],
   "execution_count": null
  },
  {
   "metadata": {},
   "cell_type": "code",
   "source": [
    "sns.scatterplot(data=observation, x='PVI', y='oximetry')\n",
    "plt.xlabel(\"PVI %\")\n",
    "plt.ylabel(\"oximetry\")"
   ],
   "id": "11110e828a23cd43",
   "outputs": [],
   "execution_count": null
  },
  {
   "metadata": {},
   "cell_type": "code",
   "source": [
    "sns.scatterplot(data=observation, x='Skin Temperature', y='oximetry')\n",
    "plt.xlabel(\"Skin Temperature °C\")\n",
    "plt.ylabel(\"oximetry\")"
   ],
   "id": "9f9a2ac6c836c7a0",
   "outputs": [],
   "execution_count": null
  },
  {
   "metadata": {},
   "cell_type": "code",
   "source": [
    "sns.scatterplot(data=observation, x='EtCO₂', y='oximetry')\n",
    "plt.xlabel(\"EtCO₂ mmHg\")\n",
    "plt.ylabel(\"oximetry\")"
   ],
   "id": "96341a4a7b452ee0",
   "outputs": [],
   "execution_count": null
  },
  {
   "metadata": {},
   "cell_type": "markdown",
   "source": "## (A-2b)",
   "id": "bb75b61931bf1131"
  },
  {
   "metadata": {},
   "cell_type": "markdown",
   "source": "Check data types",
   "id": "e9a7d28421f221f7"
  },
  {
   "metadata": {},
   "cell_type": "code",
   "source": "observation.dtypes",
   "id": "802b35a1891e26d9",
   "outputs": [],
   "execution_count": null
  },
  {
   "metadata": {},
   "cell_type": "code",
   "source": "station.dtypes",
   "id": "a6e81e67b423af10",
   "outputs": [],
   "execution_count": null
  },
  {
   "metadata": {},
   "cell_type": "code",
   "source": "patient.dtypes",
   "id": "663461effb781733",
   "outputs": [],
   "execution_count": null
  },
  {
   "metadata": {},
   "cell_type": "markdown",
   "source": "Format data types",
   "id": "c6d06ebfb3d9f5ae"
  },
  {
   "metadata": {},
   "cell_type": "code",
   "source": [
    "station['revision'] = pd.to_datetime(station['revision'], format=\"mixed\")\n",
    "station['station'] = station['station'].astype('string')\n",
    "station['QoS'] = station['QoS'].astype('category')\n",
    "station['location'] = station['location'].astype('string')"
   ],
   "id": "fd8fca345f971dad",
   "outputs": [],
   "execution_count": null
  },
  {
   "metadata": {},
   "cell_type": "code",
   "source": [
    "patient['job'] = patient['job'].astype('string')\n",
    "patient['ssn'] = patient['ssn'].astype('string')\n",
    "patient['blood_group'] = patient['blood_group'].astype('category')\n",
    "patient['company'] = patient['company'].astype('string')\n",
    "patient['name'] = patient['name'].astype('string')\n",
    "patient['username'] = patient['username'].astype('string')\n",
    "patient['residence'] = patient['residence'].astype('string')\n",
    "patient['registration'] = patient['registration'].astype('string')\n",
    "patient['address'] = patient['address'].astype('string')\n",
    "patient['mail'] = patient['mail'].astype('string')\n",
    "patient[['longitude', 'latitude']] = (\n",
    "    patient['current_location']\n",
    "    .astype(str)\n",
    "    .str.extract(r\"Decimal\\('([\\d\\.\\-]+)'\\), Decimal\\('([\\d\\.\\-]+)'\\)\")\n",
    "    .astype(float)\n",
    ")\n",
    "patient.drop(columns=['current_location'], inplace=True)"
   ],
   "id": "395dfd8e336f885",
   "outputs": [],
   "execution_count": null
  },
  {
   "metadata": {},
   "cell_type": "markdown",
   "source": "Check nulls",
   "id": "e34cb532f461ee9f"
  },
  {
   "metadata": {},
   "cell_type": "code",
   "source": "observation.isnull().sum()",
   "id": "1d6709e312a8ce7d",
   "outputs": [],
   "execution_count": null
  },
  {
   "metadata": {},
   "cell_type": "code",
   "source": "station.isnull().sum()",
   "id": "f41b3005dfd6fd6d",
   "outputs": [],
   "execution_count": null
  },
  {
   "metadata": {},
   "cell_type": "code",
   "source": "patient.isnull().sum()",
   "id": "24ee71c09c7cc35a",
   "outputs": [],
   "execution_count": null
  },
  {
   "metadata": {},
   "cell_type": "code",
   "source": [
    "patient['residence'] = patient['residence'].fillna('Unknown')\n",
    "patient['job'] = patient['job'].fillna('Unknown')\n",
    "patient['address'] = patient['address'].fillna('Unknown')\n",
    "patient['longitude'] = patient['longitude'].fillna(0)\n",
    "patient['latitude'] = patient['latitude'].fillna(0)"
   ],
   "id": "919828d00fc4c50",
   "outputs": [],
   "execution_count": null
  },
  {
   "metadata": {},
   "cell_type": "markdown",
   "source": "Check duplicates",
   "id": "72606838aa973429"
  },
  {
   "metadata": {},
   "cell_type": "code",
   "source": "observation.duplicated().sum()",
   "id": "622d056fbe261878",
   "outputs": [],
   "execution_count": null
  },
  {
   "metadata": {},
   "cell_type": "code",
   "source": "observation = observation.drop_duplicates()",
   "id": "9c8913dfd567a1dd",
   "outputs": [],
   "execution_count": null
  },
  {
   "metadata": {},
   "cell_type": "code",
   "source": "station.duplicated().sum()",
   "id": "23a8947c5154812b",
   "outputs": [],
   "execution_count": null
  },
  {
   "metadata": {},
   "cell_type": "code",
   "source": "patient.duplicated().sum()",
   "id": "3e2c8f6289dea178",
   "outputs": [],
   "execution_count": null
  },
  {
   "metadata": {},
   "cell_type": "markdown",
   "source": "Write to files",
   "id": "ccc73b08f949b1c3"
  },
  {
   "metadata": {},
   "cell_type": "code",
   "source": "observation.to_csv(\"observation_clean.csv\", index=False, sep='\\t')",
   "id": "6049aa6450ad8740",
   "outputs": [],
   "execution_count": null
  },
  {
   "metadata": {},
   "cell_type": "code",
   "source": "station.to_csv(\"station_clean.csv\", index=False, sep='\\t')",
   "id": "329bebe1f96f4c5b",
   "outputs": [],
   "execution_count": null
  },
  {
   "metadata": {},
   "cell_type": "code",
   "source": "patient.to_csv(\"patient_clean.csv\", index=False, sep='\\t')",
   "id": "696be4d5cce0fb89",
   "outputs": [],
   "execution_count": null
  },
  {
   "metadata": {},
   "cell_type": "markdown",
   "source": "## (C-1b)",
   "id": "451f514544a9cbd"
  },
  {
   "metadata": {},
   "cell_type": "code",
   "outputs": [],
   "execution_count": null,
   "source": "",
   "id": "b731559dc96ad5ab"
  }
 ],
 "metadata": {
  "kernelspec": {
   "display_name": "Python 3",
   "language": "python",
   "name": "python3"
  },
  "language_info": {
   "codemirror_mode": {
    "name": "ipython",
    "version": 2
   },
   "file_extension": ".py",
   "mimetype": "text/x-python",
   "name": "python",
   "nbconvert_exporter": "python",
   "pygments_lexer": "ipython2",
   "version": "2.7.6"
  }
 },
 "nbformat": 4,
 "nbformat_minor": 5
}
