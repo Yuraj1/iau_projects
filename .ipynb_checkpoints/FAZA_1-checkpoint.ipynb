{
 "cells": [
  {
   "cell_type": "code",
   "id": "initial_id",
   "metadata": {
    "collapsed": true,
    "ExecuteTime": {
     "end_time": "2025-10-07T19:38:30.722613Z",
     "start_time": "2025-10-07T19:38:27.216371Z"
    }
   },
   "source": [
    "import pandas as pd\n",
    "import numpy as np\n",
    "import matplotlib.pyplot as plt\n",
    "\n",
    "station = pd.read_csv(\"./094/station.csv\", sep='\\t')\n",
    "patient = pd.read_csv(\"./094/patient.csv\", sep='\\t')\n",
    "observation = pd.read_csv(\"./094/observation.csv\", sep='\\t')"
   ],
   "outputs": [],
   "execution_count": 2
  },
  {
   "metadata": {},
   "cell_type": "markdown",
   "source": "### 1.1 Základný opis dát spolu s ich charakteristikami_porno_",
   "id": "b707721c3608bfac"
  },
  {
   "metadata": {},
   "cell_type": "code",
   "source": [
    "# (A-1b)\n",
    "\n",
    "# Смотрим первые строки\n",
    "print(\"Station cintorin slavicie:\")\n",
    "print(station.head())\n",
    "\n",
    "# Размер таблицы (строки, столбцы)\n",
    "print(\"Station size: \", station.shape)\n",
    "\n",
    "# Информация о типах данных и пропусках\n",
    "station.info()\n",
    "\n",
    "# Основные статистики  \n",
    "station.describe()"
   ],
   "id": "54413230580c0136",
   "outputs": [],
   "execution_count": null
  },
  {
   "metadata": {
    "ExecuteTime": {
     "end_time": "2025-10-07T19:43:08.784534Z",
     "start_time": "2025-10-07T19:43:08.781058Z"
    }
   },
   "cell_type": "code",
   "source": [
    "skin_temp = observation[\"Skin Temperature\"]\n",
    "spo = observation[\"SpO₂\"]\n",
    "hr =  observation[\"HR\"]\n",
    "pi = observation[\"PI\"]\n",
    "rr = observation[\"RR\"]  \n",
    "prv = observation[\"PRV\"]\n",
    "bp = observation[\"BP\"]\n",
    "pvi = observation[\"PVI\"]\n",
    "sv = observation[\"SV\"]\n",
    "co = observation[\"CO\"]"
   ],
   "id": "98bb5e35d1e9b5ec",
   "outputs": [],
   "execution_count": 11
  },
  {
   "metadata": {
    "ExecuteTime": {
     "end_time": "2025-10-07T19:44:26.311193Z",
     "start_time": "2025-10-07T19:44:26.273319Z"
    }
   },
   "cell_type": "code",
   "source": [
    "cols = [\"Skin Temperature\", \"SpO₂\", \"HR\", \"PI\", \"RR\", \"PRV\", \"BP\", \"PVI\", \"SV\", \"CO\"]\n",
    "observation[cols].describe()"
   ],
   "id": "335c4fb37e0a009f",
   "outputs": [
    {
     "data": {
      "text/plain": [
       "       Skin Temperature          SpO₂            HR            PI  \\\n",
       "count      12081.000000  12081.000000  12081.000000  12081.000000   \n",
       "mean          35.991422     97.543356     79.413685      8.712491   \n",
       "std            0.841526      0.604163      4.958332      3.500894   \n",
       "min           33.000000     95.000000     60.000000      0.200000   \n",
       "25%           35.348685     97.143688     76.070752      5.904762   \n",
       "50%           36.133526     97.548163     79.408554      8.129926   \n",
       "75%           36.644071     97.952928     82.767663     11.658857   \n",
       "max           38.000000    100.000000    100.000000     20.000000   \n",
       "\n",
       "                 RR           PRV            BP           PVI            SV  \\\n",
       "count  12081.000000  12081.000000  12081.000000  12081.000000  12081.000000   \n",
       "mean      16.136178    117.625701    104.439286     15.327157     80.861939   \n",
       "std        1.031022     21.832746      4.083631      1.582654      4.996021   \n",
       "min       12.000000     20.000000     90.000000     10.000000     60.000000   \n",
       "25%       15.451710    103.013231    101.692402     14.141627     77.522258   \n",
       "50%       16.136063    117.650792    104.383271     15.373838     80.813695   \n",
       "75%       16.828594    132.126611    107.208491     16.623524     84.290286   \n",
       "max       20.000000    200.000000    120.000000     20.000000    100.000000   \n",
       "\n",
       "                 CO  \n",
       "count  12081.000000  \n",
       "mean       4.099589  \n",
       "std        0.134870  \n",
       "min        4.000000  \n",
       "25%        4.029280  \n",
       "50%        4.059159  \n",
       "75%        4.118594  \n",
       "max        8.000000  "
      ],
      "text/html": [
       "<div>\n",
       "<style scoped>\n",
       "    .dataframe tbody tr th:only-of-type {\n",
       "        vertical-align: middle;\n",
       "    }\n",
       "\n",
       "    .dataframe tbody tr th {\n",
       "        vertical-align: top;\n",
       "    }\n",
       "\n",
       "    .dataframe thead th {\n",
       "        text-align: right;\n",
       "    }\n",
       "</style>\n",
       "<table border=\"1\" class=\"dataframe\">\n",
       "  <thead>\n",
       "    <tr style=\"text-align: right;\">\n",
       "      <th></th>\n",
       "      <th>Skin Temperature</th>\n",
       "      <th>SpO₂</th>\n",
       "      <th>HR</th>\n",
       "      <th>PI</th>\n",
       "      <th>RR</th>\n",
       "      <th>PRV</th>\n",
       "      <th>BP</th>\n",
       "      <th>PVI</th>\n",
       "      <th>SV</th>\n",
       "      <th>CO</th>\n",
       "    </tr>\n",
       "  </thead>\n",
       "  <tbody>\n",
       "    <tr>\n",
       "      <th>count</th>\n",
       "      <td>12081.000000</td>\n",
       "      <td>12081.000000</td>\n",
       "      <td>12081.000000</td>\n",
       "      <td>12081.000000</td>\n",
       "      <td>12081.000000</td>\n",
       "      <td>12081.000000</td>\n",
       "      <td>12081.000000</td>\n",
       "      <td>12081.000000</td>\n",
       "      <td>12081.000000</td>\n",
       "      <td>12081.000000</td>\n",
       "    </tr>\n",
       "    <tr>\n",
       "      <th>mean</th>\n",
       "      <td>35.991422</td>\n",
       "      <td>97.543356</td>\n",
       "      <td>79.413685</td>\n",
       "      <td>8.712491</td>\n",
       "      <td>16.136178</td>\n",
       "      <td>117.625701</td>\n",
       "      <td>104.439286</td>\n",
       "      <td>15.327157</td>\n",
       "      <td>80.861939</td>\n",
       "      <td>4.099589</td>\n",
       "    </tr>\n",
       "    <tr>\n",
       "      <th>std</th>\n",
       "      <td>0.841526</td>\n",
       "      <td>0.604163</td>\n",
       "      <td>4.958332</td>\n",
       "      <td>3.500894</td>\n",
       "      <td>1.031022</td>\n",
       "      <td>21.832746</td>\n",
       "      <td>4.083631</td>\n",
       "      <td>1.582654</td>\n",
       "      <td>4.996021</td>\n",
       "      <td>0.134870</td>\n",
       "    </tr>\n",
       "    <tr>\n",
       "      <th>min</th>\n",
       "      <td>33.000000</td>\n",
       "      <td>95.000000</td>\n",
       "      <td>60.000000</td>\n",
       "      <td>0.200000</td>\n",
       "      <td>12.000000</td>\n",
       "      <td>20.000000</td>\n",
       "      <td>90.000000</td>\n",
       "      <td>10.000000</td>\n",
       "      <td>60.000000</td>\n",
       "      <td>4.000000</td>\n",
       "    </tr>\n",
       "    <tr>\n",
       "      <th>25%</th>\n",
       "      <td>35.348685</td>\n",
       "      <td>97.143688</td>\n",
       "      <td>76.070752</td>\n",
       "      <td>5.904762</td>\n",
       "      <td>15.451710</td>\n",
       "      <td>103.013231</td>\n",
       "      <td>101.692402</td>\n",
       "      <td>14.141627</td>\n",
       "      <td>77.522258</td>\n",
       "      <td>4.029280</td>\n",
       "    </tr>\n",
       "    <tr>\n",
       "      <th>50%</th>\n",
       "      <td>36.133526</td>\n",
       "      <td>97.548163</td>\n",
       "      <td>79.408554</td>\n",
       "      <td>8.129926</td>\n",
       "      <td>16.136063</td>\n",
       "      <td>117.650792</td>\n",
       "      <td>104.383271</td>\n",
       "      <td>15.373838</td>\n",
       "      <td>80.813695</td>\n",
       "      <td>4.059159</td>\n",
       "    </tr>\n",
       "    <tr>\n",
       "      <th>75%</th>\n",
       "      <td>36.644071</td>\n",
       "      <td>97.952928</td>\n",
       "      <td>82.767663</td>\n",
       "      <td>11.658857</td>\n",
       "      <td>16.828594</td>\n",
       "      <td>132.126611</td>\n",
       "      <td>107.208491</td>\n",
       "      <td>16.623524</td>\n",
       "      <td>84.290286</td>\n",
       "      <td>4.118594</td>\n",
       "    </tr>\n",
       "    <tr>\n",
       "      <th>max</th>\n",
       "      <td>38.000000</td>\n",
       "      <td>100.000000</td>\n",
       "      <td>100.000000</td>\n",
       "      <td>20.000000</td>\n",
       "      <td>20.000000</td>\n",
       "      <td>200.000000</td>\n",
       "      <td>120.000000</td>\n",
       "      <td>20.000000</td>\n",
       "      <td>100.000000</td>\n",
       "      <td>8.000000</td>\n",
       "    </tr>\n",
       "  </tbody>\n",
       "</table>\n",
       "</div>"
      ]
     },
     "execution_count": 14,
     "metadata": {},
     "output_type": "execute_result"
    }
   ],
   "execution_count": 14
  },
  {
   "metadata": {
    "ExecuteTime": {
     "end_time": "2025-10-07T19:50:08.338559Z",
     "start_time": "2025-10-07T19:50:08.188914Z"
    }
   },
   "cell_type": "code",
   "source": [
    "plt.hist(skin_temp, bins=60, edgecolor=\"black\")\n",
    "plt.xlabel(\"Skin Temperature\")\n",
    "plt.show()"
   ],
   "id": "1195db2657b49a78",
   "outputs": [
    {
     "data": {
      "text/plain": [
       "<Figure size 640x480 with 1 Axes>"
      ],
      "image/png": "[encoded data removed]"
     },
     "metadata": {},
     "output_type": "display_data"
    }
   ],
   "execution_count": 21
  },
  {
   "metadata": {
    "ExecuteTime": {
     "end_time": "2025-10-07T19:49:36.285346Z",
     "start_time": "2025-10-07T19:49:36.142607Z"
    }
   },
   "cell_type": "code",
   "source": [
    "plt.hist(spo, bins=60, edgecolor=\"black\")\n",
    "plt.xlabel(\"SpO₂\")\n",
    "plt.show()"
   ],
   "id": "4ec6392db502491d",
   "outputs": [
    {
     "data": {
      "text/plain": [
       "<Figure size 640x480 with 1 Axes>"
      ],
      "image/png": "[encoded data removed]"
     },
     "metadata": {},
     "output_type": "display_data"
    }
   ],
   "execution_count": 18
  }
 ],
 "metadata": {
  "kernelspec": {
   "display_name": "Python 3",
   "language": "python",
   "name": "python3"
  },
  "language_info": {
   "codemirror_mode": {
    "name": "ipython",
    "version": 2
   },
   "file_extension": ".py",
   "mimetype": "text/x-python",
   "name": "python",
   "nbconvert_exporter": "python",
   "pygments_lexer": "ipython2",
   "version": "2.7.6"
  }
 },
 "nbformat": 4,
 "nbformat_minor": 5
}
